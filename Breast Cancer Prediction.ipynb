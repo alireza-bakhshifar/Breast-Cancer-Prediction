{
 "cells": [
  {
   "cell_type": "code",
   "execution_count": 128,
   "id": "198d72e4",
   "metadata": {},
   "outputs": [],
   "source": [
    "import numpy as np\n",
    "import pandas as pd\n",
    "import seaborn as sns\n",
    "import matplotlib.pyplot as plt\n",
    "from sklearn import preprocessing\n",
    "from sklearn.linear_model import LogisticRegression\n",
    "from sklearn.ensemble import RandomForestClassifier\n",
    "from sklearn.metrics import f1_score,confusion_matrix,accuracy_score,precision_score\n",
    "from sklearn.model_selection import train_test_split,cross_val_score\n",
    "from sklearn.neighbors import KNeighborsClassifier\n",
    "from sklearn import svm\n",
    "from sklearn.tree import DecisionTreeClassifier\n",
    "from sklearn.feature_selection import RFECV\n",
    "import itertools\n",
    "from sklearn.discriminant_analysis import LinearDiscriminantAnalysis"
   ]
  },
  {
   "cell_type": "code",
   "execution_count": 2,
   "id": "d7144df4",
   "metadata": {},
   "outputs": [
    {
     "name": "stdout",
     "output_type": "stream",
     "text": [
      "['.ipynb_checkpoints', '.virtual_documents', 'Advertising-class', 'Alireza_Bakhshifar_400671009.ipynb', 'Auto-mpg_reg', 'Breast-cancer-wisconsin-class', 'breast-final_csv.csv', 'Ecommerce Purchases.csv', 'Forestfire-reg', 'Guid.docx', 'Guid.pdf', 'IRIS-class', 'Loan_Data-class', 'Project (1).rar', 'USA_Housing-reg']\n"
     ]
    }
   ],
   "source": [
    "import os\n",
    "li = os.listdir()\n",
    "print(li)"
   ]
  },
  {
   "cell_type": "markdown",
   "id": "b3a44145",
   "metadata": {},
   "source": [
    "# Business Understanding\n"
   ]
  },
  {
   "cell_type": "code",
   "execution_count": 3,
   "id": "b8df0a55",
   "metadata": {},
   "outputs": [],
   "source": [
    "df = pd.read_csv('breast-final_csv.csv')"
   ]
  },
  {
   "cell_type": "code",
   "execution_count": 4,
   "id": "d867b8ff",
   "metadata": {},
   "outputs": [
    {
     "data": {
      "text/plain": [
       "Index(['Clump_Thickness', 'Cell_Size_Uniformity', 'Cell_Shape_Uniformity',\n",
       "       'Marginal_Adhesion', 'Single_Epi_Cell_Size', 'Bare_Nuclei',\n",
       "       'Bland_Chromatin', 'Normal_Nucleoli', 'Mitoses', 'Class'],\n",
       "      dtype='object')"
      ]
     },
     "execution_count": 4,
     "metadata": {},
     "output_type": "execute_result"
    }
   ],
   "source": [
    "df.columns"
   ]
  },
  {
   "cell_type": "markdown",
   "id": "d8ad897b",
   "metadata": {},
   "source": [
    "### Features descriptions\n",
    "**Clump_Thickness**  :   indicating grouping of cancer cells in multilayer<br>\n",
    "**Cell_Size_Uniforimity** : indicating metastasis to lymph nodes<br>\n",
    "__Cell_Shape_Uniformity__ : identifying cancerous cells of varying size<br>\n",
    "__Marginal_Adhesion__ : suggesting loss of adhesion, i.e., a sign of malignancy but the cancerous cells lose this property so \n",
    "this retention of adhesion is an indication of malignancy<br>\n",
    "__Single_Epi_Cell_Size__ :if the SECS become larger, it may be a malignant cell<br>\n",
    "__Bare_Nuclei__ :without cytoplasm coating, found in benign tumors<br>\n",
    "__Bland_Chromatin__ :usually found in benign cells<br>\n",
    "__Normal_Nucleoli__ :generally very small in benign cell<br>\n",
    "__Mitoses__ :the process in cell division by which the nucleus divides<br>\n"
   ]
  },
  {
   "cell_type": "code",
   "execution_count": 5,
   "id": "e7dd748a",
   "metadata": {
    "scrolled": true
   },
   "outputs": [
    {
     "data": {
      "text/html": [
       "<div>\n",
       "<style scoped>\n",
       "    .dataframe tbody tr th:only-of-type {\n",
       "        vertical-align: middle;\n",
       "    }\n",
       "\n",
       "    .dataframe tbody tr th {\n",
       "        vertical-align: top;\n",
       "    }\n",
       "\n",
       "    .dataframe thead th {\n",
       "        text-align: right;\n",
       "    }\n",
       "</style>\n",
       "<table border=\"1\" class=\"dataframe\">\n",
       "  <thead>\n",
       "    <tr style=\"text-align: right;\">\n",
       "      <th></th>\n",
       "      <th>Clump_Thickness</th>\n",
       "      <th>Cell_Size_Uniformity</th>\n",
       "      <th>Cell_Shape_Uniformity</th>\n",
       "      <th>Marginal_Adhesion</th>\n",
       "      <th>Single_Epi_Cell_Size</th>\n",
       "      <th>Bare_Nuclei</th>\n",
       "      <th>Bland_Chromatin</th>\n",
       "      <th>Normal_Nucleoli</th>\n",
       "      <th>Mitoses</th>\n",
       "      <th>Class</th>\n",
       "    </tr>\n",
       "  </thead>\n",
       "  <tbody>\n",
       "    <tr>\n",
       "      <th>0</th>\n",
       "      <td>5</td>\n",
       "      <td>1</td>\n",
       "      <td>1</td>\n",
       "      <td>1</td>\n",
       "      <td>2</td>\n",
       "      <td>1.0</td>\n",
       "      <td>3</td>\n",
       "      <td>1</td>\n",
       "      <td>1</td>\n",
       "      <td>benign</td>\n",
       "    </tr>\n",
       "    <tr>\n",
       "      <th>1</th>\n",
       "      <td>5</td>\n",
       "      <td>4</td>\n",
       "      <td>4</td>\n",
       "      <td>5</td>\n",
       "      <td>7</td>\n",
       "      <td>10.0</td>\n",
       "      <td>3</td>\n",
       "      <td>2</td>\n",
       "      <td>1</td>\n",
       "      <td>benign</td>\n",
       "    </tr>\n",
       "    <tr>\n",
       "      <th>2</th>\n",
       "      <td>3</td>\n",
       "      <td>1</td>\n",
       "      <td>1</td>\n",
       "      <td>1</td>\n",
       "      <td>2</td>\n",
       "      <td>2.0</td>\n",
       "      <td>3</td>\n",
       "      <td>1</td>\n",
       "      <td>1</td>\n",
       "      <td>benign</td>\n",
       "    </tr>\n",
       "    <tr>\n",
       "      <th>3</th>\n",
       "      <td>6</td>\n",
       "      <td>8</td>\n",
       "      <td>8</td>\n",
       "      <td>1</td>\n",
       "      <td>3</td>\n",
       "      <td>4.0</td>\n",
       "      <td>3</td>\n",
       "      <td>7</td>\n",
       "      <td>1</td>\n",
       "      <td>benign</td>\n",
       "    </tr>\n",
       "    <tr>\n",
       "      <th>4</th>\n",
       "      <td>4</td>\n",
       "      <td>1</td>\n",
       "      <td>1</td>\n",
       "      <td>3</td>\n",
       "      <td>2</td>\n",
       "      <td>1.0</td>\n",
       "      <td>3</td>\n",
       "      <td>1</td>\n",
       "      <td>1</td>\n",
       "      <td>benign</td>\n",
       "    </tr>\n",
       "    <tr>\n",
       "      <th>...</th>\n",
       "      <td>...</td>\n",
       "      <td>...</td>\n",
       "      <td>...</td>\n",
       "      <td>...</td>\n",
       "      <td>...</td>\n",
       "      <td>...</td>\n",
       "      <td>...</td>\n",
       "      <td>...</td>\n",
       "      <td>...</td>\n",
       "      <td>...</td>\n",
       "    </tr>\n",
       "    <tr>\n",
       "      <th>694</th>\n",
       "      <td>3</td>\n",
       "      <td>1</td>\n",
       "      <td>1</td>\n",
       "      <td>1</td>\n",
       "      <td>3</td>\n",
       "      <td>2.0</td>\n",
       "      <td>1</td>\n",
       "      <td>1</td>\n",
       "      <td>1</td>\n",
       "      <td>benign</td>\n",
       "    </tr>\n",
       "    <tr>\n",
       "      <th>695</th>\n",
       "      <td>2</td>\n",
       "      <td>1</td>\n",
       "      <td>1</td>\n",
       "      <td>1</td>\n",
       "      <td>2</td>\n",
       "      <td>1.0</td>\n",
       "      <td>1</td>\n",
       "      <td>1</td>\n",
       "      <td>1</td>\n",
       "      <td>benign</td>\n",
       "    </tr>\n",
       "    <tr>\n",
       "      <th>696</th>\n",
       "      <td>5</td>\n",
       "      <td>10</td>\n",
       "      <td>10</td>\n",
       "      <td>3</td>\n",
       "      <td>7</td>\n",
       "      <td>3.0</td>\n",
       "      <td>8</td>\n",
       "      <td>10</td>\n",
       "      <td>2</td>\n",
       "      <td>malignant</td>\n",
       "    </tr>\n",
       "    <tr>\n",
       "      <th>697</th>\n",
       "      <td>4</td>\n",
       "      <td>8</td>\n",
       "      <td>6</td>\n",
       "      <td>4</td>\n",
       "      <td>3</td>\n",
       "      <td>4.0</td>\n",
       "      <td>10</td>\n",
       "      <td>6</td>\n",
       "      <td>1</td>\n",
       "      <td>malignant</td>\n",
       "    </tr>\n",
       "    <tr>\n",
       "      <th>698</th>\n",
       "      <td>4</td>\n",
       "      <td>8</td>\n",
       "      <td>8</td>\n",
       "      <td>5</td>\n",
       "      <td>4</td>\n",
       "      <td>5.0</td>\n",
       "      <td>10</td>\n",
       "      <td>4</td>\n",
       "      <td>1</td>\n",
       "      <td>malignant</td>\n",
       "    </tr>\n",
       "  </tbody>\n",
       "</table>\n",
       "<p>699 rows × 10 columns</p>\n",
       "</div>"
      ],
      "text/plain": [
       "     Clump_Thickness  Cell_Size_Uniformity  Cell_Shape_Uniformity  \\\n",
       "0                  5                     1                      1   \n",
       "1                  5                     4                      4   \n",
       "2                  3                     1                      1   \n",
       "3                  6                     8                      8   \n",
       "4                  4                     1                      1   \n",
       "..               ...                   ...                    ...   \n",
       "694                3                     1                      1   \n",
       "695                2                     1                      1   \n",
       "696                5                    10                     10   \n",
       "697                4                     8                      6   \n",
       "698                4                     8                      8   \n",
       "\n",
       "     Marginal_Adhesion  Single_Epi_Cell_Size  Bare_Nuclei  Bland_Chromatin  \\\n",
       "0                    1                     2          1.0                3   \n",
       "1                    5                     7         10.0                3   \n",
       "2                    1                     2          2.0                3   \n",
       "3                    1                     3          4.0                3   \n",
       "4                    3                     2          1.0                3   \n",
       "..                 ...                   ...          ...              ...   \n",
       "694                  1                     3          2.0                1   \n",
       "695                  1                     2          1.0                1   \n",
       "696                  3                     7          3.0                8   \n",
       "697                  4                     3          4.0               10   \n",
       "698                  5                     4          5.0               10   \n",
       "\n",
       "     Normal_Nucleoli  Mitoses      Class  \n",
       "0                  1        1     benign  \n",
       "1                  2        1     benign  \n",
       "2                  1        1     benign  \n",
       "3                  7        1     benign  \n",
       "4                  1        1     benign  \n",
       "..               ...      ...        ...  \n",
       "694                1        1     benign  \n",
       "695                1        1     benign  \n",
       "696               10        2  malignant  \n",
       "697                6        1  malignant  \n",
       "698                4        1  malignant  \n",
       "\n",
       "[699 rows x 10 columns]"
      ]
     },
     "execution_count": 5,
     "metadata": {},
     "output_type": "execute_result"
    }
   ],
   "source": [
    "df"
   ]
  },
  {
   "cell_type": "markdown",
   "id": "195efbed",
   "metadata": {},
   "source": [
    "# Data Understanding and Data Preparation"
   ]
  },
  {
   "cell_type": "code",
   "execution_count": 6,
   "id": "a88ae088",
   "metadata": {},
   "outputs": [
    {
     "name": "stdout",
     "output_type": "stream",
     "text": [
      "<class 'pandas.core.frame.DataFrame'>\n",
      "RangeIndex: 699 entries, 0 to 698\n",
      "Data columns (total 10 columns):\n",
      " #   Column                 Non-Null Count  Dtype  \n",
      "---  ------                 --------------  -----  \n",
      " 0   Clump_Thickness        699 non-null    int64  \n",
      " 1   Cell_Size_Uniformity   699 non-null    int64  \n",
      " 2   Cell_Shape_Uniformity  699 non-null    int64  \n",
      " 3   Marginal_Adhesion      699 non-null    int64  \n",
      " 4   Single_Epi_Cell_Size   699 non-null    int64  \n",
      " 5   Bare_Nuclei            683 non-null    float64\n",
      " 6   Bland_Chromatin        699 non-null    int64  \n",
      " 7   Normal_Nucleoli        699 non-null    int64  \n",
      " 8   Mitoses                699 non-null    int64  \n",
      " 9   Class                  699 non-null    object \n",
      "dtypes: float64(1), int64(8), object(1)\n",
      "memory usage: 54.7+ KB\n"
     ]
    }
   ],
   "source": [
    "df.info()"
   ]
  },
  {
   "cell_type": "code",
   "execution_count": 7,
   "id": "805a8b7b",
   "metadata": {},
   "outputs": [
    {
     "data": {
      "text/html": [
       "<div>\n",
       "<style scoped>\n",
       "    .dataframe tbody tr th:only-of-type {\n",
       "        vertical-align: middle;\n",
       "    }\n",
       "\n",
       "    .dataframe tbody tr th {\n",
       "        vertical-align: top;\n",
       "    }\n",
       "\n",
       "    .dataframe thead th {\n",
       "        text-align: right;\n",
       "    }\n",
       "</style>\n",
       "<table border=\"1\" class=\"dataframe\">\n",
       "  <thead>\n",
       "    <tr style=\"text-align: right;\">\n",
       "      <th></th>\n",
       "      <th>Clump_Thickness</th>\n",
       "      <th>Cell_Size_Uniformity</th>\n",
       "      <th>Cell_Shape_Uniformity</th>\n",
       "      <th>Marginal_Adhesion</th>\n",
       "      <th>Single_Epi_Cell_Size</th>\n",
       "      <th>Bare_Nuclei</th>\n",
       "      <th>Bland_Chromatin</th>\n",
       "      <th>Normal_Nucleoli</th>\n",
       "      <th>Mitoses</th>\n",
       "    </tr>\n",
       "  </thead>\n",
       "  <tbody>\n",
       "    <tr>\n",
       "      <th>count</th>\n",
       "      <td>699.000000</td>\n",
       "      <td>699.000000</td>\n",
       "      <td>699.000000</td>\n",
       "      <td>699.000000</td>\n",
       "      <td>699.000000</td>\n",
       "      <td>683.000000</td>\n",
       "      <td>699.000000</td>\n",
       "      <td>699.000000</td>\n",
       "      <td>699.000000</td>\n",
       "    </tr>\n",
       "    <tr>\n",
       "      <th>mean</th>\n",
       "      <td>4.417740</td>\n",
       "      <td>3.134478</td>\n",
       "      <td>3.207439</td>\n",
       "      <td>2.806867</td>\n",
       "      <td>3.216023</td>\n",
       "      <td>3.544656</td>\n",
       "      <td>3.437768</td>\n",
       "      <td>2.866953</td>\n",
       "      <td>1.589413</td>\n",
       "    </tr>\n",
       "    <tr>\n",
       "      <th>std</th>\n",
       "      <td>2.815741</td>\n",
       "      <td>3.051459</td>\n",
       "      <td>2.971913</td>\n",
       "      <td>2.855379</td>\n",
       "      <td>2.214300</td>\n",
       "      <td>3.643857</td>\n",
       "      <td>2.438364</td>\n",
       "      <td>3.053634</td>\n",
       "      <td>1.715078</td>\n",
       "    </tr>\n",
       "    <tr>\n",
       "      <th>min</th>\n",
       "      <td>1.000000</td>\n",
       "      <td>1.000000</td>\n",
       "      <td>1.000000</td>\n",
       "      <td>1.000000</td>\n",
       "      <td>1.000000</td>\n",
       "      <td>1.000000</td>\n",
       "      <td>1.000000</td>\n",
       "      <td>1.000000</td>\n",
       "      <td>1.000000</td>\n",
       "    </tr>\n",
       "    <tr>\n",
       "      <th>25%</th>\n",
       "      <td>2.000000</td>\n",
       "      <td>1.000000</td>\n",
       "      <td>1.000000</td>\n",
       "      <td>1.000000</td>\n",
       "      <td>2.000000</td>\n",
       "      <td>1.000000</td>\n",
       "      <td>2.000000</td>\n",
       "      <td>1.000000</td>\n",
       "      <td>1.000000</td>\n",
       "    </tr>\n",
       "    <tr>\n",
       "      <th>50%</th>\n",
       "      <td>4.000000</td>\n",
       "      <td>1.000000</td>\n",
       "      <td>1.000000</td>\n",
       "      <td>1.000000</td>\n",
       "      <td>2.000000</td>\n",
       "      <td>1.000000</td>\n",
       "      <td>3.000000</td>\n",
       "      <td>1.000000</td>\n",
       "      <td>1.000000</td>\n",
       "    </tr>\n",
       "    <tr>\n",
       "      <th>75%</th>\n",
       "      <td>6.000000</td>\n",
       "      <td>5.000000</td>\n",
       "      <td>5.000000</td>\n",
       "      <td>4.000000</td>\n",
       "      <td>4.000000</td>\n",
       "      <td>6.000000</td>\n",
       "      <td>5.000000</td>\n",
       "      <td>4.000000</td>\n",
       "      <td>1.000000</td>\n",
       "    </tr>\n",
       "    <tr>\n",
       "      <th>max</th>\n",
       "      <td>10.000000</td>\n",
       "      <td>10.000000</td>\n",
       "      <td>10.000000</td>\n",
       "      <td>10.000000</td>\n",
       "      <td>10.000000</td>\n",
       "      <td>10.000000</td>\n",
       "      <td>10.000000</td>\n",
       "      <td>10.000000</td>\n",
       "      <td>10.000000</td>\n",
       "    </tr>\n",
       "  </tbody>\n",
       "</table>\n",
       "</div>"
      ],
      "text/plain": [
       "       Clump_Thickness  Cell_Size_Uniformity  Cell_Shape_Uniformity  \\\n",
       "count       699.000000            699.000000             699.000000   \n",
       "mean          4.417740              3.134478               3.207439   \n",
       "std           2.815741              3.051459               2.971913   \n",
       "min           1.000000              1.000000               1.000000   \n",
       "25%           2.000000              1.000000               1.000000   \n",
       "50%           4.000000              1.000000               1.000000   \n",
       "75%           6.000000              5.000000               5.000000   \n",
       "max          10.000000             10.000000              10.000000   \n",
       "\n",
       "       Marginal_Adhesion  Single_Epi_Cell_Size  Bare_Nuclei  Bland_Chromatin  \\\n",
       "count         699.000000            699.000000   683.000000       699.000000   \n",
       "mean            2.806867              3.216023     3.544656         3.437768   \n",
       "std             2.855379              2.214300     3.643857         2.438364   \n",
       "min             1.000000              1.000000     1.000000         1.000000   \n",
       "25%             1.000000              2.000000     1.000000         2.000000   \n",
       "50%             1.000000              2.000000     1.000000         3.000000   \n",
       "75%             4.000000              4.000000     6.000000         5.000000   \n",
       "max            10.000000             10.000000    10.000000        10.000000   \n",
       "\n",
       "       Normal_Nucleoli     Mitoses  \n",
       "count       699.000000  699.000000  \n",
       "mean          2.866953    1.589413  \n",
       "std           3.053634    1.715078  \n",
       "min           1.000000    1.000000  \n",
       "25%           1.000000    1.000000  \n",
       "50%           1.000000    1.000000  \n",
       "75%           4.000000    1.000000  \n",
       "max          10.000000   10.000000  "
      ]
     },
     "execution_count": 7,
     "metadata": {},
     "output_type": "execute_result"
    }
   ],
   "source": [
    "df.describe()"
   ]
  },
  {
   "cell_type": "code",
   "execution_count": 8,
   "id": "7cd14683",
   "metadata": {},
   "outputs": [
    {
     "data": {
      "text/plain": [
       "<AxesSubplot:>"
      ]
     },
     "execution_count": 8,
     "metadata": {},
     "output_type": "execute_result"
    },
    {
     "data": {
      "image/png": "[encoded data removed]",
      "text/plain": [
       "<Figure size 864x432 with 2 Axes>"
      ]
     },
     "metadata": {
      "needs_background": "light"
     },
     "output_type": "display_data"
    }
   ],
   "source": [
    "plt.figure(figsize =(12,6))\n",
    "sns.heatmap(df.isnull(), cmap='YlGnBu')"
   ]
  },
  {
   "cell_type": "code",
   "execution_count": 9,
   "id": "91b34247",
   "metadata": {},
   "outputs": [
    {
     "data": {
      "text/plain": [
       "Clump_Thickness           0\n",
       "Cell_Size_Uniformity      0\n",
       "Cell_Shape_Uniformity     0\n",
       "Marginal_Adhesion         0\n",
       "Single_Epi_Cell_Size      0\n",
       "Bare_Nuclei              16\n",
       "Bland_Chromatin           0\n",
       "Normal_Nucleoli           0\n",
       "Mitoses                   0\n",
       "Class                     0\n",
       "dtype: int64"
      ]
     },
     "execution_count": 9,
     "metadata": {},
     "output_type": "execute_result"
    }
   ],
   "source": [
    "df.isna().sum()"
   ]
  },
  {
   "cell_type": "code",
   "execution_count": 10,
   "id": "e350c3e4",
   "metadata": {},
   "outputs": [
    {
     "data": {
      "text/plain": [
       "count    683.000000\n",
       "mean       3.544656\n",
       "std        3.643857\n",
       "min        1.000000\n",
       "25%        1.000000\n",
       "50%        1.000000\n",
       "75%        6.000000\n",
       "max       10.000000\n",
       "Name: Bare_Nuclei, dtype: float64"
      ]
     },
     "execution_count": 10,
     "metadata": {},
     "output_type": "execute_result"
    }
   ],
   "source": [
    "df['Bare_Nuclei'].describe()"
   ]
  },
  {
   "cell_type": "code",
   "execution_count": 11,
   "id": "50816811",
   "metadata": {},
   "outputs": [
    {
     "data": {
      "text/plain": [
       "<AxesSubplot:xlabel='Bare_Nuclei', ylabel='count'>"
      ]
     },
     "execution_count": 11,
     "metadata": {},
     "output_type": "execute_result"
    },
    {
     "data": {
      "image/png": "[encoded data removed]",
      "text/plain": [
       "<Figure size 864x432 with 1 Axes>"
      ]
     },
     "metadata": {
      "needs_background": "light"
     },
     "output_type": "display_data"
    }
   ],
   "source": [
    "plt.figure(figsize =(12,6))\n",
    "sns.countplot(data=df , x=df['Bare_Nuclei'])"
   ]
  },
  {
   "cell_type": "markdown",
   "id": "5ed4af1f",
   "metadata": {},
   "source": [
    "We fill NA values with 1 because based on descriptive statistics of column Bare_Nuclei it won't differ that much."
   ]
  },
  {
   "cell_type": "code",
   "execution_count": 12,
   "id": "81d122d7",
   "metadata": {},
   "outputs": [],
   "source": [
    "df['Bare_Nuclei'] = df['Bare_Nuclei'].fillna(value=1)"
   ]
  },
  {
   "cell_type": "code",
   "execution_count": 13,
   "id": "eef4a15f",
   "metadata": {},
   "outputs": [
    {
     "data": {
      "text/plain": [
       "Clump_Thickness          0\n",
       "Cell_Size_Uniformity     0\n",
       "Cell_Shape_Uniformity    0\n",
       "Marginal_Adhesion        0\n",
       "Single_Epi_Cell_Size     0\n",
       "Bare_Nuclei              0\n",
       "Bland_Chromatin          0\n",
       "Normal_Nucleoli          0\n",
       "Mitoses                  0\n",
       "Class                    0\n",
       "dtype: int64"
      ]
     },
     "execution_count": 13,
     "metadata": {},
     "output_type": "execute_result"
    }
   ],
   "source": [
    "df.isna().sum()"
   ]
  },
  {
   "cell_type": "markdown",
   "id": "253df75f",
   "metadata": {},
   "source": [
    "# Visualization"
   ]
  },
  {
   "cell_type": "markdown",
   "id": "dd79deb0",
   "metadata": {},
   "source": [
    "# Benign vs. Malignant"
   ]
  },
  {
   "cell_type": "code",
   "execution_count": 14,
   "id": "1d42e73b",
   "metadata": {},
   "outputs": [
    {
     "name": "stdout",
     "output_type": "stream",
     "text": [
      "Benign 458\n",
      "Malignant 241\n"
     ]
    },
    {
     "data": {
      "image/png": "[encoded data removed]",
      "text/plain": [
       "<Figure size 864x432 with 1 Axes>"
      ]
     },
     "metadata": {
      "needs_background": "light"
     },
     "output_type": "display_data"
    }
   ],
   "source": [
    "plt.figure(figsize =(12,6))\n",
    "sns.countplot(data=df , x='Class')\n",
    "B , M = df[\"Class\"].value_counts()\n",
    "print(\"Benign\",B)\n",
    "print(\"Malignant\",M)"
   ]
  },
  {
   "cell_type": "markdown",
   "id": "8d960281",
   "metadata": {},
   "source": [
    "# Clump Thickness"
   ]
  },
  {
   "cell_type": "code",
   "execution_count": 15,
   "id": "66893b87",
   "metadata": {},
   "outputs": [
    {
     "data": {
      "text/html": [
       "<div>\n",
       "<style scoped>\n",
       "    .dataframe tbody tr th:only-of-type {\n",
       "        vertical-align: middle;\n",
       "    }\n",
       "\n",
       "    .dataframe tbody tr th {\n",
       "        vertical-align: top;\n",
       "    }\n",
       "\n",
       "    .dataframe thead th {\n",
       "        text-align: right;\n",
       "    }\n",
       "</style>\n",
       "<table border=\"1\" class=\"dataframe\">\n",
       "  <thead>\n",
       "    <tr style=\"text-align: right;\">\n",
       "      <th>Clump_Thickness</th>\n",
       "      <th>1</th>\n",
       "      <th>2</th>\n",
       "      <th>3</th>\n",
       "      <th>4</th>\n",
       "      <th>5</th>\n",
       "      <th>6</th>\n",
       "      <th>7</th>\n",
       "      <th>8</th>\n",
       "      <th>9</th>\n",
       "      <th>10</th>\n",
       "    </tr>\n",
       "    <tr>\n",
       "      <th>Class</th>\n",
       "      <th></th>\n",
       "      <th></th>\n",
       "      <th></th>\n",
       "      <th></th>\n",
       "      <th></th>\n",
       "      <th></th>\n",
       "      <th></th>\n",
       "      <th></th>\n",
       "      <th></th>\n",
       "      <th></th>\n",
       "    </tr>\n",
       "  </thead>\n",
       "  <tbody>\n",
       "    <tr>\n",
       "      <th>benign</th>\n",
       "      <td>142</td>\n",
       "      <td>46</td>\n",
       "      <td>96</td>\n",
       "      <td>68</td>\n",
       "      <td>85</td>\n",
       "      <td>16</td>\n",
       "      <td>1</td>\n",
       "      <td>4</td>\n",
       "      <td>0</td>\n",
       "      <td>0</td>\n",
       "    </tr>\n",
       "    <tr>\n",
       "      <th>malignant</th>\n",
       "      <td>3</td>\n",
       "      <td>4</td>\n",
       "      <td>12</td>\n",
       "      <td>12</td>\n",
       "      <td>45</td>\n",
       "      <td>18</td>\n",
       "      <td>22</td>\n",
       "      <td>42</td>\n",
       "      <td>14</td>\n",
       "      <td>69</td>\n",
       "    </tr>\n",
       "  </tbody>\n",
       "</table>\n",
       "</div>"
      ],
      "text/plain": [
       "Clump_Thickness   1   2   3   4   5   6   7   8   9   10\n",
       "Class                                                   \n",
       "benign           142  46  96  68  85  16   1   4   0   0\n",
       "malignant          3   4  12  12  45  18  22  42  14  69"
      ]
     },
     "execution_count": 15,
     "metadata": {},
     "output_type": "execute_result"
    }
   ],
   "source": [
    "# indicating grouping of cancer cells in multilayer\n",
    "df_clump=pd.crosstab(df['Class'],df['Clump_Thickness'])\n",
    "df_clump"
   ]
  },
  {
   "cell_type": "code",
   "execution_count": 16,
   "id": "8f2052fd",
   "metadata": {},
   "outputs": [
    {
     "data": {
      "text/plain": [
       "<AxesSubplot:xlabel='Clump_Thickness', ylabel='count'>"
      ]
     },
     "execution_count": 16,
     "metadata": {},
     "output_type": "execute_result"
    },
    {
     "data": {
      "image/png": "[encoded data removed]",
      "text/plain": [
       "<Figure size 864x432 with 1 Axes>"
      ]
     },
     "metadata": {
      "needs_background": "light"
     },
     "output_type": "display_data"
    }
   ],
   "source": [
    "plt.figure(figsize =(12,6))\n",
    "sns.countplot(data=df,x='Clump_Thickness',hue='Class')"
   ]
  },
  {
   "cell_type": "markdown",
   "id": "9f079c2c",
   "metadata": {},
   "source": [
    "# Cell Size Uniformity"
   ]
  },
  {
   "cell_type": "code",
   "execution_count": 17,
   "id": "b7c1c666",
   "metadata": {},
   "outputs": [
    {
     "data": {
      "text/html": [
       "<div>\n",
       "<style scoped>\n",
       "    .dataframe tbody tr th:only-of-type {\n",
       "        vertical-align: middle;\n",
       "    }\n",
       "\n",
       "    .dataframe tbody tr th {\n",
       "        vertical-align: top;\n",
       "    }\n",
       "\n",
       "    .dataframe thead th {\n",
       "        text-align: right;\n",
       "    }\n",
       "</style>\n",
       "<table border=\"1\" class=\"dataframe\">\n",
       "  <thead>\n",
       "    <tr style=\"text-align: right;\">\n",
       "      <th>Cell_Size_Uniformity</th>\n",
       "      <th>1</th>\n",
       "      <th>2</th>\n",
       "      <th>3</th>\n",
       "      <th>4</th>\n",
       "      <th>5</th>\n",
       "      <th>6</th>\n",
       "      <th>7</th>\n",
       "      <th>8</th>\n",
       "      <th>9</th>\n",
       "      <th>10</th>\n",
       "    </tr>\n",
       "    <tr>\n",
       "      <th>Class</th>\n",
       "      <th></th>\n",
       "      <th></th>\n",
       "      <th></th>\n",
       "      <th></th>\n",
       "      <th></th>\n",
       "      <th></th>\n",
       "      <th></th>\n",
       "      <th></th>\n",
       "      <th></th>\n",
       "      <th></th>\n",
       "    </tr>\n",
       "  </thead>\n",
       "  <tbody>\n",
       "    <tr>\n",
       "      <th>benign</th>\n",
       "      <td>380</td>\n",
       "      <td>37</td>\n",
       "      <td>27</td>\n",
       "      <td>9</td>\n",
       "      <td>0</td>\n",
       "      <td>2</td>\n",
       "      <td>1</td>\n",
       "      <td>1</td>\n",
       "      <td>1</td>\n",
       "      <td>0</td>\n",
       "    </tr>\n",
       "    <tr>\n",
       "      <th>malignant</th>\n",
       "      <td>4</td>\n",
       "      <td>8</td>\n",
       "      <td>25</td>\n",
       "      <td>31</td>\n",
       "      <td>30</td>\n",
       "      <td>25</td>\n",
       "      <td>18</td>\n",
       "      <td>28</td>\n",
       "      <td>5</td>\n",
       "      <td>67</td>\n",
       "    </tr>\n",
       "  </tbody>\n",
       "</table>\n",
       "</div>"
      ],
      "text/plain": [
       "Cell_Size_Uniformity   1   2   3   4   5   6   7   8   9   10\n",
       "Class                                                        \n",
       "benign                380  37  27   9   0   2   1   1   1   0\n",
       "malignant               4   8  25  31  30  25  18  28   5  67"
      ]
     },
     "execution_count": 17,
     "metadata": {},
     "output_type": "execute_result"
    }
   ],
   "source": [
    "# indicating metastasis to lymph nodes\n",
    "df_cell_size=pd.crosstab(df['Class'],df['Cell_Size_Uniformity'])\n",
    "df_cell_size"
   ]
  },
  {
   "cell_type": "code",
   "execution_count": 18,
   "id": "23b6f0e1",
   "metadata": {},
   "outputs": [
    {
     "data": {
      "text/plain": [
       "<AxesSubplot:xlabel='Cell_Size_Uniformity', ylabel='count'>"
      ]
     },
     "execution_count": 18,
     "metadata": {},
     "output_type": "execute_result"
    },
    {
     "data": {
      "image/png": "[encoded data removed]",
      "text/plain": [
       "<Figure size 864x432 with 1 Axes>"
      ]
     },
     "metadata": {
      "needs_background": "light"
     },
     "output_type": "display_data"
    }
   ],
   "source": [
    "plt.figure(figsize =(12,6))\n",
    "sns.countplot(data=df,x='Cell_Size_Uniformity',hue='Class')"
   ]
  },
  {
   "cell_type": "markdown",
   "id": "8c7cada4",
   "metadata": {},
   "source": [
    "# Cell Shape Uniforimity"
   ]
  },
  {
   "cell_type": "code",
   "execution_count": 19,
   "id": "a637eb61",
   "metadata": {},
   "outputs": [
    {
     "data": {
      "text/html": [
       "<div>\n",
       "<style scoped>\n",
       "    .dataframe tbody tr th:only-of-type {\n",
       "        vertical-align: middle;\n",
       "    }\n",
       "\n",
       "    .dataframe tbody tr th {\n",
       "        vertical-align: top;\n",
       "    }\n",
       "\n",
       "    .dataframe thead th {\n",
       "        text-align: right;\n",
       "    }\n",
       "</style>\n",
       "<table border=\"1\" class=\"dataframe\">\n",
       "  <thead>\n",
       "    <tr style=\"text-align: right;\">\n",
       "      <th>Cell_Shape_Uniformity</th>\n",
       "      <th>1</th>\n",
       "      <th>2</th>\n",
       "      <th>3</th>\n",
       "      <th>4</th>\n",
       "      <th>5</th>\n",
       "      <th>6</th>\n",
       "      <th>7</th>\n",
       "      <th>8</th>\n",
       "      <th>9</th>\n",
       "      <th>10</th>\n",
       "    </tr>\n",
       "    <tr>\n",
       "      <th>Class</th>\n",
       "      <th></th>\n",
       "      <th></th>\n",
       "      <th></th>\n",
       "      <th></th>\n",
       "      <th></th>\n",
       "      <th></th>\n",
       "      <th></th>\n",
       "      <th></th>\n",
       "      <th></th>\n",
       "      <th></th>\n",
       "    </tr>\n",
       "  </thead>\n",
       "  <tbody>\n",
       "    <tr>\n",
       "      <th>benign</th>\n",
       "      <td>351</td>\n",
       "      <td>52</td>\n",
       "      <td>33</td>\n",
       "      <td>13</td>\n",
       "      <td>3</td>\n",
       "      <td>3</td>\n",
       "      <td>2</td>\n",
       "      <td>1</td>\n",
       "      <td>0</td>\n",
       "      <td>0</td>\n",
       "    </tr>\n",
       "    <tr>\n",
       "      <th>malignant</th>\n",
       "      <td>2</td>\n",
       "      <td>7</td>\n",
       "      <td>23</td>\n",
       "      <td>31</td>\n",
       "      <td>31</td>\n",
       "      <td>27</td>\n",
       "      <td>28</td>\n",
       "      <td>27</td>\n",
       "      <td>7</td>\n",
       "      <td>58</td>\n",
       "    </tr>\n",
       "  </tbody>\n",
       "</table>\n",
       "</div>"
      ],
      "text/plain": [
       "Cell_Shape_Uniformity   1   2   3   4   5   6   7   8   9   10\n",
       "Class                                                         \n",
       "benign                 351  52  33  13   3   3   2   1   0   0\n",
       "malignant                2   7  23  31  31  27  28  27   7  58"
      ]
     },
     "execution_count": 19,
     "metadata": {},
     "output_type": "execute_result"
    }
   ],
   "source": [
    "# identifying cancerous cells of varying size\n",
    "df_cell_size=pd.crosstab(df['Class'],df['Cell_Shape_Uniformity'])\n",
    "df_cell_size"
   ]
  },
  {
   "cell_type": "code",
   "execution_count": 20,
   "id": "5212ef43",
   "metadata": {},
   "outputs": [
    {
     "data": {
      "text/plain": [
       "<AxesSubplot:xlabel='Cell_Shape_Uniformity', ylabel='count'>"
      ]
     },
     "execution_count": 20,
     "metadata": {},
     "output_type": "execute_result"
    },
    {
     "data": {
      "image/png": "[encoded data removed]",
      "text/plain": [
       "<Figure size 864x432 with 1 Axes>"
      ]
     },
     "metadata": {
      "needs_background": "light"
     },
     "output_type": "display_data"
    }
   ],
   "source": [
    "plt.figure(figsize =(12,6))\n",
    "sns.set_theme(style=\"darkgrid\")\n",
    "sns.countplot(x=\"Cell_Shape_Uniformity\", data=df , hue='Class' ,palette='gnuplot')"
   ]
  },
  {
   "cell_type": "markdown",
   "id": "a15c4cf3",
   "metadata": {},
   "source": [
    "# Marginal Adhesion "
   ]
  },
  {
   "cell_type": "code",
   "execution_count": 21,
   "id": "74c66b13",
   "metadata": {},
   "outputs": [
    {
     "data": {
      "text/html": [
       "<div>\n",
       "<style scoped>\n",
       "    .dataframe tbody tr th:only-of-type {\n",
       "        vertical-align: middle;\n",
       "    }\n",
       "\n",
       "    .dataframe tbody tr th {\n",
       "        vertical-align: top;\n",
       "    }\n",
       "\n",
       "    .dataframe thead th {\n",
       "        text-align: right;\n",
       "    }\n",
       "</style>\n",
       "<table border=\"1\" class=\"dataframe\">\n",
       "  <thead>\n",
       "    <tr style=\"text-align: right;\">\n",
       "      <th>Marginal_Adhesion</th>\n",
       "      <th>1</th>\n",
       "      <th>2</th>\n",
       "      <th>3</th>\n",
       "      <th>4</th>\n",
       "      <th>5</th>\n",
       "      <th>6</th>\n",
       "      <th>7</th>\n",
       "      <th>8</th>\n",
       "      <th>9</th>\n",
       "      <th>10</th>\n",
       "    </tr>\n",
       "    <tr>\n",
       "      <th>Class</th>\n",
       "      <th></th>\n",
       "      <th></th>\n",
       "      <th></th>\n",
       "      <th></th>\n",
       "      <th></th>\n",
       "      <th></th>\n",
       "      <th></th>\n",
       "      <th></th>\n",
       "      <th></th>\n",
       "      <th></th>\n",
       "    </tr>\n",
       "  </thead>\n",
       "  <tbody>\n",
       "    <tr>\n",
       "      <th>benign</th>\n",
       "      <td>375</td>\n",
       "      <td>37</td>\n",
       "      <td>31</td>\n",
       "      <td>5</td>\n",
       "      <td>4</td>\n",
       "      <td>4</td>\n",
       "      <td>0</td>\n",
       "      <td>0</td>\n",
       "      <td>1</td>\n",
       "      <td>1</td>\n",
       "    </tr>\n",
       "    <tr>\n",
       "      <th>malignant</th>\n",
       "      <td>32</td>\n",
       "      <td>21</td>\n",
       "      <td>27</td>\n",
       "      <td>28</td>\n",
       "      <td>19</td>\n",
       "      <td>18</td>\n",
       "      <td>13</td>\n",
       "      <td>25</td>\n",
       "      <td>4</td>\n",
       "      <td>54</td>\n",
       "    </tr>\n",
       "  </tbody>\n",
       "</table>\n",
       "</div>"
      ],
      "text/plain": [
       "Marginal_Adhesion   1   2   3   4   5   6   7   8   9   10\n",
       "Class                                                     \n",
       "benign             375  37  31   5   4   4   0   0   1   1\n",
       "malignant           32  21  27  28  19  18  13  25   4  54"
      ]
     },
     "execution_count": 21,
     "metadata": {},
     "output_type": "execute_result"
    }
   ],
   "source": [
    "# suggesting loss of adhesion, i.e., a sign of malignancy but the cancerous cells lose this property so this\n",
    "#retention of adhesion is an indication of malignancy\n",
    "marg_adh = pd.crosstab(df['Class'],df['Marginal_Adhesion'])\n",
    "marg_adh"
   ]
  },
  {
   "cell_type": "code",
   "execution_count": 22,
   "id": "0dcef924",
   "metadata": {},
   "outputs": [
    {
     "data": {
      "text/plain": [
       "<AxesSubplot:xlabel='Marginal_Adhesion', ylabel='count'>"
      ]
     },
     "execution_count": 22,
     "metadata": {},
     "output_type": "execute_result"
    },
    {
     "data": {
      "image/png": "[encoded data removed]",
      "text/plain": [
       "<Figure size 864x432 with 1 Axes>"
      ]
     },
     "metadata": {},
     "output_type": "display_data"
    }
   ],
   "source": [
    "plt.figure(figsize =(12,6))\n",
    "sns.countplot(data=df , x='Marginal_Adhesion')"
   ]
  },
  {
   "cell_type": "code",
   "execution_count": 23,
   "id": "f4a54f54",
   "metadata": {},
   "outputs": [
    {
     "data": {
      "text/plain": [
       "<AxesSubplot:xlabel='Marginal_Adhesion', ylabel='count'>"
      ]
     },
     "execution_count": 23,
     "metadata": {},
     "output_type": "execute_result"
    },
    {
     "data": {
      "image/png": "[encoded data removed]",
      "text/plain": [
       "<Figure size 864x432 with 1 Axes>"
      ]
     },
     "metadata": {},
     "output_type": "display_data"
    }
   ],
   "source": [
    "plt.figure(figsize =(12,6))\n",
    "sns.countplot(x=\"Marginal_Adhesion\", data=df , hue='Class' ,palette='gnuplot')"
   ]
  },
  {
   "cell_type": "markdown",
   "id": "9174dca7",
   "metadata": {},
   "source": [
    "# Single Epi Cell Size"
   ]
  },
  {
   "cell_type": "code",
   "execution_count": 24,
   "id": "bb0501bf",
   "metadata": {},
   "outputs": [
    {
     "data": {
      "text/html": [
       "<div>\n",
       "<style scoped>\n",
       "    .dataframe tbody tr th:only-of-type {\n",
       "        vertical-align: middle;\n",
       "    }\n",
       "\n",
       "    .dataframe tbody tr th {\n",
       "        vertical-align: top;\n",
       "    }\n",
       "\n",
       "    .dataframe thead th {\n",
       "        text-align: right;\n",
       "    }\n",
       "</style>\n",
       "<table border=\"1\" class=\"dataframe\">\n",
       "  <thead>\n",
       "    <tr style=\"text-align: right;\">\n",
       "      <th>Single_Epi_Cell_Size</th>\n",
       "      <th>1</th>\n",
       "      <th>2</th>\n",
       "      <th>3</th>\n",
       "      <th>4</th>\n",
       "      <th>5</th>\n",
       "      <th>6</th>\n",
       "      <th>7</th>\n",
       "      <th>8</th>\n",
       "      <th>9</th>\n",
       "      <th>10</th>\n",
       "    </tr>\n",
       "    <tr>\n",
       "      <th>Class</th>\n",
       "      <th></th>\n",
       "      <th></th>\n",
       "      <th></th>\n",
       "      <th></th>\n",
       "      <th></th>\n",
       "      <th></th>\n",
       "      <th></th>\n",
       "      <th></th>\n",
       "      <th></th>\n",
       "      <th></th>\n",
       "    </tr>\n",
       "  </thead>\n",
       "  <tbody>\n",
       "    <tr>\n",
       "      <th>benign</th>\n",
       "      <td>46</td>\n",
       "      <td>363</td>\n",
       "      <td>29</td>\n",
       "      <td>7</td>\n",
       "      <td>5</td>\n",
       "      <td>2</td>\n",
       "      <td>3</td>\n",
       "      <td>2</td>\n",
       "      <td>0</td>\n",
       "      <td>1</td>\n",
       "    </tr>\n",
       "    <tr>\n",
       "      <th>malignant</th>\n",
       "      <td>1</td>\n",
       "      <td>23</td>\n",
       "      <td>43</td>\n",
       "      <td>41</td>\n",
       "      <td>34</td>\n",
       "      <td>39</td>\n",
       "      <td>9</td>\n",
       "      <td>19</td>\n",
       "      <td>2</td>\n",
       "      <td>30</td>\n",
       "    </tr>\n",
       "  </tbody>\n",
       "</table>\n",
       "</div>"
      ],
      "text/plain": [
       "Single_Epi_Cell_Size  1    2   3   4   5   6   7   8   9   10\n",
       "Class                                                        \n",
       "benign                46  363  29   7   5   2   3   2   0   1\n",
       "malignant              1   23  43  41  34  39   9  19   2  30"
      ]
     },
     "execution_count": 24,
     "metadata": {},
     "output_type": "execute_result"
    }
   ],
   "source": [
    "# if the SECS become larger, it may be a malignant cell\n",
    "sing_epi = pd.crosstab(df['Class'],df['Single_Epi_Cell_Size'])\n",
    "sing_epi"
   ]
  },
  {
   "cell_type": "code",
   "execution_count": 25,
   "id": "b7589d58",
   "metadata": {},
   "outputs": [
    {
     "data": {
      "text/plain": [
       "<AxesSubplot:xlabel='Single_Epi_Cell_Size', ylabel='count'>"
      ]
     },
     "execution_count": 25,
     "metadata": {},
     "output_type": "execute_result"
    },
    {
     "data": {
      "image/png": "[encoded data removed]",
      "text/plain": [
       "<Figure size 864x432 with 1 Axes>"
      ]
     },
     "metadata": {},
     "output_type": "display_data"
    }
   ],
   "source": [
    "plt.figure(figsize =(12,6))\n",
    "sns.countplot(data=df , x='Single_Epi_Cell_Size')"
   ]
  },
  {
   "cell_type": "code",
   "execution_count": 26,
   "id": "c8e8217c",
   "metadata": {},
   "outputs": [
    {
     "data": {
      "text/plain": [
       "<AxesSubplot:xlabel='Single_Epi_Cell_Size', ylabel='count'>"
      ]
     },
     "execution_count": 26,
     "metadata": {},
     "output_type": "execute_result"
    },
    {
     "data": {
      "image/png": "[encoded data removed]",
      "text/plain": [
       "<Figure size 864x432 with 1 Axes>"
      ]
     },
     "metadata": {},
     "output_type": "display_data"
    }
   ],
   "source": [
    "plt.figure(figsize =(12,6))\n",
    "sns.countplot(x=\"Single_Epi_Cell_Size\", data=df , hue='Class' ,palette='gnuplot')"
   ]
  },
  {
   "cell_type": "markdown",
   "id": "cf0a8f7c",
   "metadata": {},
   "source": [
    "# Bare Nuclei"
   ]
  },
  {
   "cell_type": "code",
   "execution_count": 27,
   "id": "dbabe98e",
   "metadata": {},
   "outputs": [
    {
     "data": {
      "text/html": [
       "<div>\n",
       "<style scoped>\n",
       "    .dataframe tbody tr th:only-of-type {\n",
       "        vertical-align: middle;\n",
       "    }\n",
       "\n",
       "    .dataframe tbody tr th {\n",
       "        vertical-align: top;\n",
       "    }\n",
       "\n",
       "    .dataframe thead th {\n",
       "        text-align: right;\n",
       "    }\n",
       "</style>\n",
       "<table border=\"1\" class=\"dataframe\">\n",
       "  <thead>\n",
       "    <tr style=\"text-align: right;\">\n",
       "      <th>Bare_Nuclei</th>\n",
       "      <th>1.0</th>\n",
       "      <th>2.0</th>\n",
       "      <th>3.0</th>\n",
       "      <th>4.0</th>\n",
       "      <th>5.0</th>\n",
       "      <th>6.0</th>\n",
       "      <th>7.0</th>\n",
       "      <th>8.0</th>\n",
       "      <th>9.0</th>\n",
       "      <th>10.0</th>\n",
       "    </tr>\n",
       "    <tr>\n",
       "      <th>Class</th>\n",
       "      <th></th>\n",
       "      <th></th>\n",
       "      <th></th>\n",
       "      <th></th>\n",
       "      <th></th>\n",
       "      <th></th>\n",
       "      <th></th>\n",
       "      <th></th>\n",
       "      <th></th>\n",
       "      <th></th>\n",
       "    </tr>\n",
       "  </thead>\n",
       "  <tbody>\n",
       "    <tr>\n",
       "      <th>benign</th>\n",
       "      <td>401</td>\n",
       "      <td>21</td>\n",
       "      <td>14</td>\n",
       "      <td>6</td>\n",
       "      <td>10</td>\n",
       "      <td>0</td>\n",
       "      <td>1</td>\n",
       "      <td>2</td>\n",
       "      <td>0</td>\n",
       "      <td>3</td>\n",
       "    </tr>\n",
       "    <tr>\n",
       "      <th>malignant</th>\n",
       "      <td>17</td>\n",
       "      <td>9</td>\n",
       "      <td>14</td>\n",
       "      <td>13</td>\n",
       "      <td>20</td>\n",
       "      <td>4</td>\n",
       "      <td>7</td>\n",
       "      <td>19</td>\n",
       "      <td>9</td>\n",
       "      <td>129</td>\n",
       "    </tr>\n",
       "  </tbody>\n",
       "</table>\n",
       "</div>"
      ],
      "text/plain": [
       "Bare_Nuclei  1.0   2.0   3.0   4.0   5.0   6.0   7.0   8.0   9.0   10.0\n",
       "Class                                                                  \n",
       "benign        401    21    14     6    10     0     1     2     0     3\n",
       "malignant      17     9    14    13    20     4     7    19     9   129"
      ]
     },
     "execution_count": 27,
     "metadata": {},
     "output_type": "execute_result"
    }
   ],
   "source": [
    "# without cytoplasm coating, found in benign tumors\n",
    "ba_nu = pd.crosstab(df['Class'],df['Bare_Nuclei'])\n",
    "ba_nu"
   ]
  },
  {
   "cell_type": "code",
   "execution_count": 28,
   "id": "097e755f",
   "metadata": {},
   "outputs": [
    {
     "data": {
      "text/plain": [
       "<AxesSubplot:xlabel='Bare_Nuclei', ylabel='Count'>"
      ]
     },
     "execution_count": 28,
     "metadata": {},
     "output_type": "execute_result"
    },
    {
     "data": {
      "image/png": "[encoded data removed]",
      "text/plain": [
       "<Figure size 864x432 with 1 Axes>"
      ]
     },
     "metadata": {},
     "output_type": "display_data"
    }
   ],
   "source": [
    "plt.figure(figsize =(12,6))\n",
    "sns.histplot(df['Bare_Nuclei'], color='darkred', bins=20 ,legend=True)"
   ]
  },
  {
   "cell_type": "code",
   "execution_count": 29,
   "id": "6d7eb8d1",
   "metadata": {},
   "outputs": [
    {
     "data": {
      "text/plain": [
       "<AxesSubplot:xlabel='Bare_Nuclei', ylabel='count'>"
      ]
     },
     "execution_count": 29,
     "metadata": {},
     "output_type": "execute_result"
    },
    {
     "data": {
      "image/png": "[encoded data removed]",
      "text/plain": [
       "<Figure size 864x432 with 1 Axes>"
      ]
     },
     "metadata": {},
     "output_type": "display_data"
    }
   ],
   "source": [
    "plt.figure(figsize =(12,6))\n",
    "sns.countplot(x=\"Bare_Nuclei\", data=df , hue='Class' ,palette='gnuplot')"
   ]
  },
  {
   "cell_type": "markdown",
   "id": "bab963e3",
   "metadata": {},
   "source": [
    "# Bland Chromatin "
   ]
  },
  {
   "cell_type": "code",
   "execution_count": 30,
   "id": "bef98bbe",
   "metadata": {},
   "outputs": [
    {
     "data": {
      "text/html": [
       "<div>\n",
       "<style scoped>\n",
       "    .dataframe tbody tr th:only-of-type {\n",
       "        vertical-align: middle;\n",
       "    }\n",
       "\n",
       "    .dataframe tbody tr th {\n",
       "        vertical-align: top;\n",
       "    }\n",
       "\n",
       "    .dataframe thead th {\n",
       "        text-align: right;\n",
       "    }\n",
       "</style>\n",
       "<table border=\"1\" class=\"dataframe\">\n",
       "  <thead>\n",
       "    <tr style=\"text-align: right;\">\n",
       "      <th>Bland_Chromatin</th>\n",
       "      <th>1</th>\n",
       "      <th>2</th>\n",
       "      <th>3</th>\n",
       "      <th>4</th>\n",
       "      <th>5</th>\n",
       "      <th>6</th>\n",
       "      <th>7</th>\n",
       "      <th>8</th>\n",
       "      <th>9</th>\n",
       "      <th>10</th>\n",
       "    </tr>\n",
       "    <tr>\n",
       "      <th>Class</th>\n",
       "      <th></th>\n",
       "      <th></th>\n",
       "      <th></th>\n",
       "      <th></th>\n",
       "      <th></th>\n",
       "      <th></th>\n",
       "      <th></th>\n",
       "      <th></th>\n",
       "      <th></th>\n",
       "      <th></th>\n",
       "    </tr>\n",
       "  </thead>\n",
       "  <tbody>\n",
       "    <tr>\n",
       "      <th>benign</th>\n",
       "      <td>150</td>\n",
       "      <td>159</td>\n",
       "      <td>129</td>\n",
       "      <td>8</td>\n",
       "      <td>4</td>\n",
       "      <td>1</td>\n",
       "      <td>7</td>\n",
       "      <td>0</td>\n",
       "      <td>0</td>\n",
       "      <td>0</td>\n",
       "    </tr>\n",
       "    <tr>\n",
       "      <th>malignant</th>\n",
       "      <td>2</td>\n",
       "      <td>7</td>\n",
       "      <td>36</td>\n",
       "      <td>32</td>\n",
       "      <td>30</td>\n",
       "      <td>9</td>\n",
       "      <td>66</td>\n",
       "      <td>28</td>\n",
       "      <td>11</td>\n",
       "      <td>20</td>\n",
       "    </tr>\n",
       "  </tbody>\n",
       "</table>\n",
       "</div>"
      ],
      "text/plain": [
       "Bland_Chromatin   1    2    3   4   5   6   7   8   9   10\n",
       "Class                                                     \n",
       "benign           150  159  129   8   4   1   7   0   0   0\n",
       "malignant          2    7   36  32  30   9  66  28  11  20"
      ]
     },
     "execution_count": 30,
     "metadata": {},
     "output_type": "execute_result"
    }
   ],
   "source": [
    "# usually found in benign cells\n",
    "bl_ch = pd.crosstab(df['Class'],df['Bland_Chromatin'])\n",
    "bl_ch"
   ]
  },
  {
   "cell_type": "code",
   "execution_count": 31,
   "id": "90cd13f1",
   "metadata": {},
   "outputs": [
    {
     "data": {
      "text/plain": [
       "<AxesSubplot:xlabel='Class', ylabel='Bland_Chromatin'>"
      ]
     },
     "execution_count": 31,
     "metadata": {},
     "output_type": "execute_result"
    },
    {
     "data": {
      "image/png": "[encoded data removed]",
      "text/plain": [
       "<Figure size 432x288 with 1 Axes>"
      ]
     },
     "metadata": {},
     "output_type": "display_data"
    }
   ],
   "source": [
    "sns.boxplot(data=df,x='Class',y='Bland_Chromatin')"
   ]
  },
  {
   "cell_type": "code",
   "execution_count": 32,
   "id": "e8f08c79",
   "metadata": {},
   "outputs": [
    {
     "data": {
      "text/plain": [
       "<AxesSubplot:xlabel='Bland_Chromatin', ylabel='count'>"
      ]
     },
     "execution_count": 32,
     "metadata": {},
     "output_type": "execute_result"
    },
    {
     "data": {
      "image/png": "[encoded data removed]",
      "text/plain": [
       "<Figure size 864x432 with 1 Axes>"
      ]
     },
     "metadata": {},
     "output_type": "display_data"
    }
   ],
   "source": [
    "plt.figure(figsize =(12,6))\n",
    "sns.countplot(x=\"Bland_Chromatin\", data=df , hue='Class' ,palette='gnuplot')"
   ]
  },
  {
   "cell_type": "markdown",
   "id": "c097c868",
   "metadata": {},
   "source": [
    "# Normal Nucleoli\n"
   ]
  },
  {
   "cell_type": "code",
   "execution_count": 33,
   "id": "edf06b51",
   "metadata": {},
   "outputs": [
    {
     "data": {
      "text/html": [
       "<div>\n",
       "<style scoped>\n",
       "    .dataframe tbody tr th:only-of-type {\n",
       "        vertical-align: middle;\n",
       "    }\n",
       "\n",
       "    .dataframe tbody tr th {\n",
       "        vertical-align: top;\n",
       "    }\n",
       "\n",
       "    .dataframe thead th {\n",
       "        text-align: right;\n",
       "    }\n",
       "</style>\n",
       "<table border=\"1\" class=\"dataframe\">\n",
       "  <thead>\n",
       "    <tr style=\"text-align: right;\">\n",
       "      <th>Normal_Nucleoli</th>\n",
       "      <th>1</th>\n",
       "      <th>2</th>\n",
       "      <th>3</th>\n",
       "      <th>4</th>\n",
       "      <th>5</th>\n",
       "      <th>6</th>\n",
       "      <th>7</th>\n",
       "      <th>8</th>\n",
       "      <th>9</th>\n",
       "      <th>10</th>\n",
       "    </tr>\n",
       "    <tr>\n",
       "      <th>Class</th>\n",
       "      <th></th>\n",
       "      <th></th>\n",
       "      <th></th>\n",
       "      <th></th>\n",
       "      <th></th>\n",
       "      <th></th>\n",
       "      <th></th>\n",
       "      <th></th>\n",
       "      <th></th>\n",
       "      <th></th>\n",
       "    </tr>\n",
       "  </thead>\n",
       "  <tbody>\n",
       "    <tr>\n",
       "      <th>benign</th>\n",
       "      <td>402</td>\n",
       "      <td>30</td>\n",
       "      <td>12</td>\n",
       "      <td>1</td>\n",
       "      <td>2</td>\n",
       "      <td>4</td>\n",
       "      <td>2</td>\n",
       "      <td>4</td>\n",
       "      <td>1</td>\n",
       "      <td>0</td>\n",
       "    </tr>\n",
       "    <tr>\n",
       "      <th>malignant</th>\n",
       "      <td>41</td>\n",
       "      <td>6</td>\n",
       "      <td>32</td>\n",
       "      <td>17</td>\n",
       "      <td>17</td>\n",
       "      <td>18</td>\n",
       "      <td>14</td>\n",
       "      <td>20</td>\n",
       "      <td>15</td>\n",
       "      <td>61</td>\n",
       "    </tr>\n",
       "  </tbody>\n",
       "</table>\n",
       "</div>"
      ],
      "text/plain": [
       "Normal_Nucleoli   1   2   3   4   5   6   7   8   9   10\n",
       "Class                                                   \n",
       "benign           402  30  12   1   2   4   2   4   1   0\n",
       "malignant         41   6  32  17  17  18  14  20  15  61"
      ]
     },
     "execution_count": 33,
     "metadata": {},
     "output_type": "execute_result"
    }
   ],
   "source": [
    "# generally very small in benign cell\n",
    "no_nu = pd.crosstab(df['Class'],df['Normal_Nucleoli'])\n",
    "no_nu"
   ]
  },
  {
   "cell_type": "code",
   "execution_count": 34,
   "id": "688a9883",
   "metadata": {},
   "outputs": [
    {
     "data": {
      "text/plain": [
       "<AxesSubplot:xlabel='Class', ylabel='Normal_Nucleoli'>"
      ]
     },
     "execution_count": 34,
     "metadata": {},
     "output_type": "execute_result"
    },
    {
     "data": {
      "image/png": "[encoded data removed]",
      "text/plain": [
       "<Figure size 432x288 with 1 Axes>"
      ]
     },
     "metadata": {},
     "output_type": "display_data"
    }
   ],
   "source": [
    "sns.boxplot(data=df,x='Class',y='Normal_Nucleoli')"
   ]
  },
  {
   "cell_type": "code",
   "execution_count": 35,
   "id": "2b40f540",
   "metadata": {},
   "outputs": [
    {
     "data": {
      "text/plain": [
       "<AxesSubplot:xlabel='Normal_Nucleoli', ylabel='count'>"
      ]
     },
     "execution_count": 35,
     "metadata": {},
     "output_type": "execute_result"
    },
    {
     "data": {
      "image/png": "[encoded data removed]",
      "text/plain": [
       "<Figure size 864x432 with 1 Axes>"
      ]
     },
     "metadata": {},
     "output_type": "display_data"
    }
   ],
   "source": [
    "plt.figure(figsize =(12,6))\n",
    "sns.countplot(x=\"Normal_Nucleoli\", data=df , hue='Class' ,palette='gnuplot')"
   ]
  },
  {
   "cell_type": "markdown",
   "id": "17460d5c",
   "metadata": {},
   "source": [
    "# Mitoses"
   ]
  },
  {
   "cell_type": "code",
   "execution_count": 36,
   "id": "758ab29b",
   "metadata": {},
   "outputs": [
    {
     "data": {
      "text/html": [
       "<div>\n",
       "<style scoped>\n",
       "    .dataframe tbody tr th:only-of-type {\n",
       "        vertical-align: middle;\n",
       "    }\n",
       "\n",
       "    .dataframe tbody tr th {\n",
       "        vertical-align: top;\n",
       "    }\n",
       "\n",
       "    .dataframe thead th {\n",
       "        text-align: right;\n",
       "    }\n",
       "</style>\n",
       "<table border=\"1\" class=\"dataframe\">\n",
       "  <thead>\n",
       "    <tr style=\"text-align: right;\">\n",
       "      <th>Mitoses</th>\n",
       "      <th>1</th>\n",
       "      <th>2</th>\n",
       "      <th>3</th>\n",
       "      <th>4</th>\n",
       "      <th>5</th>\n",
       "      <th>6</th>\n",
       "      <th>7</th>\n",
       "      <th>8</th>\n",
       "      <th>10</th>\n",
       "    </tr>\n",
       "    <tr>\n",
       "      <th>Class</th>\n",
       "      <th></th>\n",
       "      <th></th>\n",
       "      <th></th>\n",
       "      <th></th>\n",
       "      <th></th>\n",
       "      <th></th>\n",
       "      <th></th>\n",
       "      <th></th>\n",
       "      <th></th>\n",
       "    </tr>\n",
       "  </thead>\n",
       "  <tbody>\n",
       "    <tr>\n",
       "      <th>benign</th>\n",
       "      <td>445</td>\n",
       "      <td>8</td>\n",
       "      <td>2</td>\n",
       "      <td>0</td>\n",
       "      <td>1</td>\n",
       "      <td>0</td>\n",
       "      <td>1</td>\n",
       "      <td>1</td>\n",
       "      <td>0</td>\n",
       "    </tr>\n",
       "    <tr>\n",
       "      <th>malignant</th>\n",
       "      <td>134</td>\n",
       "      <td>27</td>\n",
       "      <td>31</td>\n",
       "      <td>12</td>\n",
       "      <td>5</td>\n",
       "      <td>3</td>\n",
       "      <td>8</td>\n",
       "      <td>7</td>\n",
       "      <td>14</td>\n",
       "    </tr>\n",
       "  </tbody>\n",
       "</table>\n",
       "</div>"
      ],
      "text/plain": [
       "Mitoses     1   2   3   4   5   6   7   8   10\n",
       "Class                                         \n",
       "benign     445   8   2   0   1   0   1   1   0\n",
       "malignant  134  27  31  12   5   3   8   7  14"
      ]
     },
     "execution_count": 36,
     "metadata": {},
     "output_type": "execute_result"
    }
   ],
   "source": [
    "# the process in cell division by which the nucleus divides\n",
    "mit =pd.crosstab(df['Class'],df['Mitoses'])\n",
    "mit"
   ]
  },
  {
   "cell_type": "code",
   "execution_count": 37,
   "id": "3372dd19",
   "metadata": {
    "scrolled": true
   },
   "outputs": [
    {
     "data": {
      "text/plain": [
       "<AxesSubplot:xlabel='Class', ylabel='Mitoses'>"
      ]
     },
     "execution_count": 37,
     "metadata": {},
     "output_type": "execute_result"
    },
    {
     "data": {
      "image/png": "[encoded data removed]",
      "text/plain": [
       "<Figure size 432x288 with 1 Axes>"
      ]
     },
     "metadata": {},
     "output_type": "display_data"
    }
   ],
   "source": [
    "sns.boxplot(data=df,x=\"Class\",y=\"Mitoses\",)"
   ]
  },
  {
   "cell_type": "code",
   "execution_count": 38,
   "id": "c22aa6cd",
   "metadata": {
    "scrolled": false
   },
   "outputs": [
    {
     "data": {
      "text/plain": [
       "<AxesSubplot:xlabel='Mitoses', ylabel='count'>"
      ]
     },
     "execution_count": 38,
     "metadata": {},
     "output_type": "execute_result"
    },
    {
     "data": {
      "image/png": "[encoded data removed]",
      "text/plain": [
       "<Figure size 864x432 with 1 Axes>"
      ]
     },
     "metadata": {},
     "output_type": "display_data"
    }
   ],
   "source": [
    "plt.figure(figsize =(12,6))\n",
    "sns.countplot(x=\"Mitoses\", data=df , hue='Class' ,palette='gnuplot')"
   ]
  },
  {
   "cell_type": "markdown",
   "id": "55d63670",
   "metadata": {},
   "source": [
    "# Converting Categorical Feature"
   ]
  },
  {
   "cell_type": "code",
   "execution_count": 39,
   "id": "345849a6",
   "metadata": {},
   "outputs": [
    {
     "name": "stdout",
     "output_type": "stream",
     "text": [
      "<class 'pandas.core.frame.DataFrame'>\n",
      "RangeIndex: 699 entries, 0 to 698\n",
      "Data columns (total 10 columns):\n",
      " #   Column                 Non-Null Count  Dtype  \n",
      "---  ------                 --------------  -----  \n",
      " 0   Clump_Thickness        699 non-null    int64  \n",
      " 1   Cell_Size_Uniformity   699 non-null    int64  \n",
      " 2   Cell_Shape_Uniformity  699 non-null    int64  \n",
      " 3   Marginal_Adhesion      699 non-null    int64  \n",
      " 4   Single_Epi_Cell_Size   699 non-null    int64  \n",
      " 5   Bare_Nuclei            699 non-null    float64\n",
      " 6   Bland_Chromatin        699 non-null    int64  \n",
      " 7   Normal_Nucleoli        699 non-null    int64  \n",
      " 8   Mitoses                699 non-null    int64  \n",
      " 9   Class                  699 non-null    object \n",
      "dtypes: float64(1), int64(8), object(1)\n",
      "memory usage: 54.7+ KB\n"
     ]
    }
   ],
   "source": [
    "df.info()"
   ]
  },
  {
   "cell_type": "code",
   "execution_count": 40,
   "id": "31b96a35",
   "metadata": {},
   "outputs": [
    {
     "data": {
      "text/html": [
       "<div>\n",
       "<style scoped>\n",
       "    .dataframe tbody tr th:only-of-type {\n",
       "        vertical-align: middle;\n",
       "    }\n",
       "\n",
       "    .dataframe tbody tr th {\n",
       "        vertical-align: top;\n",
       "    }\n",
       "\n",
       "    .dataframe thead th {\n",
       "        text-align: right;\n",
       "    }\n",
       "</style>\n",
       "<table border=\"1\" class=\"dataframe\">\n",
       "  <thead>\n",
       "    <tr style=\"text-align: right;\">\n",
       "      <th></th>\n",
       "      <th>malignant</th>\n",
       "    </tr>\n",
       "  </thead>\n",
       "  <tbody>\n",
       "    <tr>\n",
       "      <th>0</th>\n",
       "      <td>0</td>\n",
       "    </tr>\n",
       "    <tr>\n",
       "      <th>1</th>\n",
       "      <td>0</td>\n",
       "    </tr>\n",
       "    <tr>\n",
       "      <th>2</th>\n",
       "      <td>0</td>\n",
       "    </tr>\n",
       "    <tr>\n",
       "      <th>3</th>\n",
       "      <td>0</td>\n",
       "    </tr>\n",
       "    <tr>\n",
       "      <th>4</th>\n",
       "      <td>0</td>\n",
       "    </tr>\n",
       "    <tr>\n",
       "      <th>...</th>\n",
       "      <td>...</td>\n",
       "    </tr>\n",
       "    <tr>\n",
       "      <th>694</th>\n",
       "      <td>0</td>\n",
       "    </tr>\n",
       "    <tr>\n",
       "      <th>695</th>\n",
       "      <td>0</td>\n",
       "    </tr>\n",
       "    <tr>\n",
       "      <th>696</th>\n",
       "      <td>1</td>\n",
       "    </tr>\n",
       "    <tr>\n",
       "      <th>697</th>\n",
       "      <td>1</td>\n",
       "    </tr>\n",
       "    <tr>\n",
       "      <th>698</th>\n",
       "      <td>1</td>\n",
       "    </tr>\n",
       "  </tbody>\n",
       "</table>\n",
       "<p>699 rows × 1 columns</p>\n",
       "</div>"
      ],
      "text/plain": [
       "     malignant\n",
       "0            0\n",
       "1            0\n",
       "2            0\n",
       "3            0\n",
       "4            0\n",
       "..         ...\n",
       "694          0\n",
       "695          0\n",
       "696          1\n",
       "697          1\n",
       "698          1\n",
       "\n",
       "[699 rows x 1 columns]"
      ]
     },
     "execution_count": 40,
     "metadata": {},
     "output_type": "execute_result"
    }
   ],
   "source": [
    "_class =pd.get_dummies(df['Class'],drop_first=True)\n",
    "_class"
   ]
  },
  {
   "cell_type": "code",
   "execution_count": 41,
   "id": "c2773e54",
   "metadata": {},
   "outputs": [
    {
     "data": {
      "text/html": [
       "<div>\n",
       "<style scoped>\n",
       "    .dataframe tbody tr th:only-of-type {\n",
       "        vertical-align: middle;\n",
       "    }\n",
       "\n",
       "    .dataframe tbody tr th {\n",
       "        vertical-align: top;\n",
       "    }\n",
       "\n",
       "    .dataframe thead th {\n",
       "        text-align: right;\n",
       "    }\n",
       "</style>\n",
       "<table border=\"1\" class=\"dataframe\">\n",
       "  <thead>\n",
       "    <tr style=\"text-align: right;\">\n",
       "      <th></th>\n",
       "      <th>Clump_Thickness</th>\n",
       "      <th>Cell_Size_Uniformity</th>\n",
       "      <th>Cell_Shape_Uniformity</th>\n",
       "      <th>Marginal_Adhesion</th>\n",
       "      <th>Single_Epi_Cell_Size</th>\n",
       "      <th>Bare_Nuclei</th>\n",
       "      <th>Bland_Chromatin</th>\n",
       "      <th>Normal_Nucleoli</th>\n",
       "      <th>Mitoses</th>\n",
       "      <th>Class</th>\n",
       "      <th>malignant</th>\n",
       "    </tr>\n",
       "  </thead>\n",
       "  <tbody>\n",
       "    <tr>\n",
       "      <th>694</th>\n",
       "      <td>3</td>\n",
       "      <td>1</td>\n",
       "      <td>1</td>\n",
       "      <td>1</td>\n",
       "      <td>3</td>\n",
       "      <td>2.0</td>\n",
       "      <td>1</td>\n",
       "      <td>1</td>\n",
       "      <td>1</td>\n",
       "      <td>benign</td>\n",
       "      <td>0</td>\n",
       "    </tr>\n",
       "    <tr>\n",
       "      <th>695</th>\n",
       "      <td>2</td>\n",
       "      <td>1</td>\n",
       "      <td>1</td>\n",
       "      <td>1</td>\n",
       "      <td>2</td>\n",
       "      <td>1.0</td>\n",
       "      <td>1</td>\n",
       "      <td>1</td>\n",
       "      <td>1</td>\n",
       "      <td>benign</td>\n",
       "      <td>0</td>\n",
       "    </tr>\n",
       "    <tr>\n",
       "      <th>696</th>\n",
       "      <td>5</td>\n",
       "      <td>10</td>\n",
       "      <td>10</td>\n",
       "      <td>3</td>\n",
       "      <td>7</td>\n",
       "      <td>3.0</td>\n",
       "      <td>8</td>\n",
       "      <td>10</td>\n",
       "      <td>2</td>\n",
       "      <td>malignant</td>\n",
       "      <td>1</td>\n",
       "    </tr>\n",
       "    <tr>\n",
       "      <th>697</th>\n",
       "      <td>4</td>\n",
       "      <td>8</td>\n",
       "      <td>6</td>\n",
       "      <td>4</td>\n",
       "      <td>3</td>\n",
       "      <td>4.0</td>\n",
       "      <td>10</td>\n",
       "      <td>6</td>\n",
       "      <td>1</td>\n",
       "      <td>malignant</td>\n",
       "      <td>1</td>\n",
       "    </tr>\n",
       "    <tr>\n",
       "      <th>698</th>\n",
       "      <td>4</td>\n",
       "      <td>8</td>\n",
       "      <td>8</td>\n",
       "      <td>5</td>\n",
       "      <td>4</td>\n",
       "      <td>5.0</td>\n",
       "      <td>10</td>\n",
       "      <td>4</td>\n",
       "      <td>1</td>\n",
       "      <td>malignant</td>\n",
       "      <td>1</td>\n",
       "    </tr>\n",
       "  </tbody>\n",
       "</table>\n",
       "</div>"
      ],
      "text/plain": [
       "     Clump_Thickness  Cell_Size_Uniformity  Cell_Shape_Uniformity  \\\n",
       "694                3                     1                      1   \n",
       "695                2                     1                      1   \n",
       "696                5                    10                     10   \n",
       "697                4                     8                      6   \n",
       "698                4                     8                      8   \n",
       "\n",
       "     Marginal_Adhesion  Single_Epi_Cell_Size  Bare_Nuclei  Bland_Chromatin  \\\n",
       "694                  1                     3          2.0                1   \n",
       "695                  1                     2          1.0                1   \n",
       "696                  3                     7          3.0                8   \n",
       "697                  4                     3          4.0               10   \n",
       "698                  5                     4          5.0               10   \n",
       "\n",
       "     Normal_Nucleoli  Mitoses      Class  malignant  \n",
       "694                1        1     benign          0  \n",
       "695                1        1     benign          0  \n",
       "696               10        2  malignant          1  \n",
       "697                6        1  malignant          1  \n",
       "698                4        1  malignant          1  "
      ]
     },
     "execution_count": 41,
     "metadata": {},
     "output_type": "execute_result"
    }
   ],
   "source": [
    "df=pd.concat([df,_class],axis=1)\n",
    "df.tail()"
   ]
  },
  {
   "cell_type": "markdown",
   "id": "87ccddea",
   "metadata": {},
   "source": [
    "# Train-Test Split"
   ]
  },
  {
   "cell_type": "code",
   "execution_count": 42,
   "id": "774a35cf",
   "metadata": {},
   "outputs": [
    {
     "data": {
      "text/plain": [
       "Index(['Clump_Thickness', 'Cell_Size_Uniformity', 'Cell_Shape_Uniformity',\n",
       "       'Marginal_Adhesion', 'Single_Epi_Cell_Size', 'Bare_Nuclei',\n",
       "       'Bland_Chromatin', 'Normal_Nucleoli', 'Mitoses', 'Class', 'malignant'],\n",
       "      dtype='object')"
      ]
     },
     "execution_count": 42,
     "metadata": {},
     "output_type": "execute_result"
    }
   ],
   "source": [
    "df.columns\n"
   ]
  },
  {
   "cell_type": "code",
   "execution_count": 43,
   "id": "6258f8f7",
   "metadata": {},
   "outputs": [
    {
     "data": {
      "text/html": [
       "<div>\n",
       "<style scoped>\n",
       "    .dataframe tbody tr th:only-of-type {\n",
       "        vertical-align: middle;\n",
       "    }\n",
       "\n",
       "    .dataframe tbody tr th {\n",
       "        vertical-align: top;\n",
       "    }\n",
       "\n",
       "    .dataframe thead th {\n",
       "        text-align: right;\n",
       "    }\n",
       "</style>\n",
       "<table border=\"1\" class=\"dataframe\">\n",
       "  <thead>\n",
       "    <tr style=\"text-align: right;\">\n",
       "      <th></th>\n",
       "      <th>Clump_Thickness</th>\n",
       "      <th>Cell_Shape_Uniformity</th>\n",
       "      <th>Cell_Shape_Uniformity</th>\n",
       "      <th>Marginal_Adhesion</th>\n",
       "      <th>Single_Epi_Cell_Size</th>\n",
       "      <th>Bare_Nuclei</th>\n",
       "      <th>Bland_Chromatin</th>\n",
       "      <th>Normal_Nucleoli</th>\n",
       "      <th>Mitoses</th>\n",
       "    </tr>\n",
       "  </thead>\n",
       "  <tbody>\n",
       "    <tr>\n",
       "      <th>0</th>\n",
       "      <td>5</td>\n",
       "      <td>1</td>\n",
       "      <td>1</td>\n",
       "      <td>1</td>\n",
       "      <td>2</td>\n",
       "      <td>1.0</td>\n",
       "      <td>3</td>\n",
       "      <td>1</td>\n",
       "      <td>1</td>\n",
       "    </tr>\n",
       "    <tr>\n",
       "      <th>1</th>\n",
       "      <td>5</td>\n",
       "      <td>4</td>\n",
       "      <td>4</td>\n",
       "      <td>5</td>\n",
       "      <td>7</td>\n",
       "      <td>10.0</td>\n",
       "      <td>3</td>\n",
       "      <td>2</td>\n",
       "      <td>1</td>\n",
       "    </tr>\n",
       "    <tr>\n",
       "      <th>2</th>\n",
       "      <td>3</td>\n",
       "      <td>1</td>\n",
       "      <td>1</td>\n",
       "      <td>1</td>\n",
       "      <td>2</td>\n",
       "      <td>2.0</td>\n",
       "      <td>3</td>\n",
       "      <td>1</td>\n",
       "      <td>1</td>\n",
       "    </tr>\n",
       "    <tr>\n",
       "      <th>3</th>\n",
       "      <td>6</td>\n",
       "      <td>8</td>\n",
       "      <td>8</td>\n",
       "      <td>1</td>\n",
       "      <td>3</td>\n",
       "      <td>4.0</td>\n",
       "      <td>3</td>\n",
       "      <td>7</td>\n",
       "      <td>1</td>\n",
       "    </tr>\n",
       "    <tr>\n",
       "      <th>4</th>\n",
       "      <td>4</td>\n",
       "      <td>1</td>\n",
       "      <td>1</td>\n",
       "      <td>3</td>\n",
       "      <td>2</td>\n",
       "      <td>1.0</td>\n",
       "      <td>3</td>\n",
       "      <td>1</td>\n",
       "      <td>1</td>\n",
       "    </tr>\n",
       "    <tr>\n",
       "      <th>...</th>\n",
       "      <td>...</td>\n",
       "      <td>...</td>\n",
       "      <td>...</td>\n",
       "      <td>...</td>\n",
       "      <td>...</td>\n",
       "      <td>...</td>\n",
       "      <td>...</td>\n",
       "      <td>...</td>\n",
       "      <td>...</td>\n",
       "    </tr>\n",
       "    <tr>\n",
       "      <th>694</th>\n",
       "      <td>3</td>\n",
       "      <td>1</td>\n",
       "      <td>1</td>\n",
       "      <td>1</td>\n",
       "      <td>3</td>\n",
       "      <td>2.0</td>\n",
       "      <td>1</td>\n",
       "      <td>1</td>\n",
       "      <td>1</td>\n",
       "    </tr>\n",
       "    <tr>\n",
       "      <th>695</th>\n",
       "      <td>2</td>\n",
       "      <td>1</td>\n",
       "      <td>1</td>\n",
       "      <td>1</td>\n",
       "      <td>2</td>\n",
       "      <td>1.0</td>\n",
       "      <td>1</td>\n",
       "      <td>1</td>\n",
       "      <td>1</td>\n",
       "    </tr>\n",
       "    <tr>\n",
       "      <th>696</th>\n",
       "      <td>5</td>\n",
       "      <td>10</td>\n",
       "      <td>10</td>\n",
       "      <td>3</td>\n",
       "      <td>7</td>\n",
       "      <td>3.0</td>\n",
       "      <td>8</td>\n",
       "      <td>10</td>\n",
       "      <td>2</td>\n",
       "    </tr>\n",
       "    <tr>\n",
       "      <th>697</th>\n",
       "      <td>4</td>\n",
       "      <td>6</td>\n",
       "      <td>6</td>\n",
       "      <td>4</td>\n",
       "      <td>3</td>\n",
       "      <td>4.0</td>\n",
       "      <td>10</td>\n",
       "      <td>6</td>\n",
       "      <td>1</td>\n",
       "    </tr>\n",
       "    <tr>\n",
       "      <th>698</th>\n",
       "      <td>4</td>\n",
       "      <td>8</td>\n",
       "      <td>8</td>\n",
       "      <td>5</td>\n",
       "      <td>4</td>\n",
       "      <td>5.0</td>\n",
       "      <td>10</td>\n",
       "      <td>4</td>\n",
       "      <td>1</td>\n",
       "    </tr>\n",
       "  </tbody>\n",
       "</table>\n",
       "<p>699 rows × 9 columns</p>\n",
       "</div>"
      ],
      "text/plain": [
       "     Clump_Thickness  Cell_Shape_Uniformity  Cell_Shape_Uniformity  \\\n",
       "0                  5                      1                      1   \n",
       "1                  5                      4                      4   \n",
       "2                  3                      1                      1   \n",
       "3                  6                      8                      8   \n",
       "4                  4                      1                      1   \n",
       "..               ...                    ...                    ...   \n",
       "694                3                      1                      1   \n",
       "695                2                      1                      1   \n",
       "696                5                     10                     10   \n",
       "697                4                      6                      6   \n",
       "698                4                      8                      8   \n",
       "\n",
       "     Marginal_Adhesion  Single_Epi_Cell_Size  Bare_Nuclei  Bland_Chromatin  \\\n",
       "0                    1                     2          1.0                3   \n",
       "1                    5                     7         10.0                3   \n",
       "2                    1                     2          2.0                3   \n",
       "3                    1                     3          4.0                3   \n",
       "4                    3                     2          1.0                3   \n",
       "..                 ...                   ...          ...              ...   \n",
       "694                  1                     3          2.0                1   \n",
       "695                  1                     2          1.0                1   \n",
       "696                  3                     7          3.0                8   \n",
       "697                  4                     3          4.0               10   \n",
       "698                  5                     4          5.0               10   \n",
       "\n",
       "     Normal_Nucleoli  Mitoses  \n",
       "0                  1        1  \n",
       "1                  2        1  \n",
       "2                  1        1  \n",
       "3                  7        1  \n",
       "4                  1        1  \n",
       "..               ...      ...  \n",
       "694                1        1  \n",
       "695                1        1  \n",
       "696               10        2  \n",
       "697                6        1  \n",
       "698                4        1  \n",
       "\n",
       "[699 rows x 9 columns]"
      ]
     },
     "execution_count": 43,
     "metadata": {},
     "output_type": "execute_result"
    }
   ],
   "source": [
    "x = df[['Clump_Thickness', 'Cell_Shape_Uniformity', 'Cell_Shape_Uniformity','Marginal_Adhesion'\n",
    "        ,'Single_Epi_Cell_Size','Bare_Nuclei', 'Bland_Chromatin','Normal_Nucleoli','Mitoses']]\n",
    "x"
   ]
  },
  {
   "cell_type": "code",
   "execution_count": 44,
   "id": "343d1505",
   "metadata": {},
   "outputs": [
    {
     "data": {
      "text/plain": [
       "0      0\n",
       "1      0\n",
       "2      0\n",
       "3      0\n",
       "4      0\n",
       "      ..\n",
       "694    0\n",
       "695    0\n",
       "696    1\n",
       "697    1\n",
       "698    1\n",
       "Name: malignant, Length: 699, dtype: uint8"
      ]
     },
     "execution_count": 44,
     "metadata": {},
     "output_type": "execute_result"
    }
   ],
   "source": [
    "y = df['malignant']\n",
    "y"
   ]
  },
  {
   "cell_type": "code",
   "execution_count": 45,
   "id": "92bc1c0e",
   "metadata": {},
   "outputs": [],
   "source": [
    "x_train,x_test,y_train,y_test = train_test_split(x,y, test_size=0.3 , random_state=101)"
   ]
  },
  {
   "cell_type": "code",
   "execution_count": 46,
   "id": "390719ef",
   "metadata": {},
   "outputs": [
    {
     "data": {
      "text/plain": [
       "435    1\n",
       "541    0\n",
       "381    1\n",
       "611    1\n",
       "647    0\n",
       "Name: malignant, dtype: uint8"
      ]
     },
     "execution_count": 46,
     "metadata": {},
     "output_type": "execute_result"
    }
   ],
   "source": [
    "y_train.head()"
   ]
  },
  {
   "cell_type": "code",
   "execution_count": 47,
   "id": "cf3c3f24",
   "metadata": {},
   "outputs": [
    {
     "data": {
      "text/plain": [
       "691    1\n",
       "517    0\n",
       "258    0\n",
       "437    0\n",
       "213    1\n",
       "      ..\n",
       "690    0\n",
       "654    0\n",
       "400    1\n",
       "533    0\n",
       "496    0\n",
       "Name: malignant, Length: 210, dtype: uint8"
      ]
     },
     "execution_count": 47,
     "metadata": {},
     "output_type": "execute_result"
    }
   ],
   "source": [
    "y_test"
   ]
  },
  {
   "cell_type": "code",
   "execution_count": 48,
   "id": "8c4fb87a",
   "metadata": {},
   "outputs": [
    {
     "data": {
      "text/plain": [
       "691    1\n",
       "517    0\n",
       "258    0\n",
       "437    0\n",
       "213    1\n",
       "      ..\n",
       "690    0\n",
       "654    0\n",
       "400    1\n",
       "533    0\n",
       "496    0\n",
       "Name: malignant, Length: 210, dtype: Int64"
      ]
     },
     "execution_count": 48,
     "metadata": {},
     "output_type": "execute_result"
    }
   ],
   "source": [
    "y_test.astype('Int64')"
   ]
  },
  {
   "cell_type": "code",
   "execution_count": 49,
   "id": "0c44082a",
   "metadata": {},
   "outputs": [
    {
     "data": {
      "text/plain": [
       "691    1\n",
       "517    0\n",
       "258    0\n",
       "437    0\n",
       "213    1\n",
       "Name: malignant, dtype: uint8"
      ]
     },
     "execution_count": 49,
     "metadata": {},
     "output_type": "execute_result"
    }
   ],
   "source": [
    "y_test.head()"
   ]
  },
  {
   "cell_type": "code",
   "execution_count": 50,
   "id": "42f003e6",
   "metadata": {},
   "outputs": [
    {
     "data": {
      "text/plain": [
       "(489, 9)"
      ]
     },
     "execution_count": 50,
     "metadata": {},
     "output_type": "execute_result"
    }
   ],
   "source": [
    "x_train.shape"
   ]
  },
  {
   "cell_type": "code",
   "execution_count": 51,
   "id": "60fa659b",
   "metadata": {},
   "outputs": [
    {
     "data": {
      "text/plain": [
       "(210, 9)"
      ]
     },
     "execution_count": 51,
     "metadata": {},
     "output_type": "execute_result"
    }
   ],
   "source": [
    "x_test.shape"
   ]
  },
  {
   "cell_type": "code",
   "execution_count": 52,
   "id": "2dbe3cb0",
   "metadata": {},
   "outputs": [
    {
     "data": {
      "text/html": [
       "<div>\n",
       "<style scoped>\n",
       "    .dataframe tbody tr th:only-of-type {\n",
       "        vertical-align: middle;\n",
       "    }\n",
       "\n",
       "    .dataframe tbody tr th {\n",
       "        vertical-align: top;\n",
       "    }\n",
       "\n",
       "    .dataframe thead th {\n",
       "        text-align: right;\n",
       "    }\n",
       "</style>\n",
       "<table border=\"1\" class=\"dataframe\">\n",
       "  <thead>\n",
       "    <tr style=\"text-align: right;\">\n",
       "      <th></th>\n",
       "      <th>Clump_Thickness</th>\n",
       "      <th>Cell_Shape_Uniformity</th>\n",
       "      <th>Cell_Shape_Uniformity</th>\n",
       "      <th>Marginal_Adhesion</th>\n",
       "      <th>Single_Epi_Cell_Size</th>\n",
       "      <th>Bare_Nuclei</th>\n",
       "      <th>Bland_Chromatin</th>\n",
       "      <th>Normal_Nucleoli</th>\n",
       "      <th>Mitoses</th>\n",
       "    </tr>\n",
       "  </thead>\n",
       "  <tbody>\n",
       "    <tr>\n",
       "      <th>435</th>\n",
       "      <td>10</td>\n",
       "      <td>10</td>\n",
       "      <td>10</td>\n",
       "      <td>1</td>\n",
       "      <td>3</td>\n",
       "      <td>10.0</td>\n",
       "      <td>5</td>\n",
       "      <td>1</td>\n",
       "      <td>1</td>\n",
       "    </tr>\n",
       "    <tr>\n",
       "      <th>541</th>\n",
       "      <td>3</td>\n",
       "      <td>1</td>\n",
       "      <td>1</td>\n",
       "      <td>1</td>\n",
       "      <td>2</td>\n",
       "      <td>1.0</td>\n",
       "      <td>1</td>\n",
       "      <td>1</td>\n",
       "      <td>1</td>\n",
       "    </tr>\n",
       "    <tr>\n",
       "      <th>381</th>\n",
       "      <td>10</td>\n",
       "      <td>3</td>\n",
       "      <td>3</td>\n",
       "      <td>6</td>\n",
       "      <td>4</td>\n",
       "      <td>10.0</td>\n",
       "      <td>7</td>\n",
       "      <td>8</td>\n",
       "      <td>4</td>\n",
       "    </tr>\n",
       "    <tr>\n",
       "      <th>611</th>\n",
       "      <td>5</td>\n",
       "      <td>10</td>\n",
       "      <td>10</td>\n",
       "      <td>10</td>\n",
       "      <td>5</td>\n",
       "      <td>2.0</td>\n",
       "      <td>8</td>\n",
       "      <td>5</td>\n",
       "      <td>1</td>\n",
       "    </tr>\n",
       "    <tr>\n",
       "      <th>647</th>\n",
       "      <td>1</td>\n",
       "      <td>1</td>\n",
       "      <td>1</td>\n",
       "      <td>3</td>\n",
       "      <td>2</td>\n",
       "      <td>1.0</td>\n",
       "      <td>1</td>\n",
       "      <td>1</td>\n",
       "      <td>1</td>\n",
       "    </tr>\n",
       "  </tbody>\n",
       "</table>\n",
       "</div>"
      ],
      "text/plain": [
       "     Clump_Thickness  Cell_Shape_Uniformity  Cell_Shape_Uniformity  \\\n",
       "435               10                     10                     10   \n",
       "541                3                      1                      1   \n",
       "381               10                      3                      3   \n",
       "611                5                     10                     10   \n",
       "647                1                      1                      1   \n",
       "\n",
       "     Marginal_Adhesion  Single_Epi_Cell_Size  Bare_Nuclei  Bland_Chromatin  \\\n",
       "435                  1                     3         10.0                5   \n",
       "541                  1                     2          1.0                1   \n",
       "381                  6                     4         10.0                7   \n",
       "611                 10                     5          2.0                8   \n",
       "647                  3                     2          1.0                1   \n",
       "\n",
       "     Normal_Nucleoli  Mitoses  \n",
       "435                1        1  \n",
       "541                1        1  \n",
       "381                8        4  \n",
       "611                5        1  \n",
       "647                1        1  "
      ]
     },
     "execution_count": 52,
     "metadata": {},
     "output_type": "execute_result"
    }
   ],
   "source": [
    "x_train.head()"
   ]
  },
  {
   "cell_type": "code",
   "execution_count": 53,
   "id": "c5998eca",
   "metadata": {},
   "outputs": [
    {
     "data": {
      "text/html": [
       "<div>\n",
       "<style scoped>\n",
       "    .dataframe tbody tr th:only-of-type {\n",
       "        vertical-align: middle;\n",
       "    }\n",
       "\n",
       "    .dataframe tbody tr th {\n",
       "        vertical-align: top;\n",
       "    }\n",
       "\n",
       "    .dataframe thead th {\n",
       "        text-align: right;\n",
       "    }\n",
       "</style>\n",
       "<table border=\"1\" class=\"dataframe\">\n",
       "  <thead>\n",
       "    <tr style=\"text-align: right;\">\n",
       "      <th></th>\n",
       "      <th>Clump_Thickness</th>\n",
       "      <th>Cell_Shape_Uniformity</th>\n",
       "      <th>Cell_Shape_Uniformity</th>\n",
       "      <th>Marginal_Adhesion</th>\n",
       "      <th>Single_Epi_Cell_Size</th>\n",
       "      <th>Bare_Nuclei</th>\n",
       "      <th>Bland_Chromatin</th>\n",
       "      <th>Normal_Nucleoli</th>\n",
       "      <th>Mitoses</th>\n",
       "    </tr>\n",
       "  </thead>\n",
       "  <tbody>\n",
       "    <tr>\n",
       "      <th>691</th>\n",
       "      <td>5</td>\n",
       "      <td>10</td>\n",
       "      <td>10</td>\n",
       "      <td>5</td>\n",
       "      <td>4</td>\n",
       "      <td>5.0</td>\n",
       "      <td>4</td>\n",
       "      <td>4</td>\n",
       "      <td>1</td>\n",
       "    </tr>\n",
       "    <tr>\n",
       "      <th>517</th>\n",
       "      <td>1</td>\n",
       "      <td>1</td>\n",
       "      <td>1</td>\n",
       "      <td>1</td>\n",
       "      <td>1</td>\n",
       "      <td>1.0</td>\n",
       "      <td>2</td>\n",
       "      <td>1</td>\n",
       "      <td>1</td>\n",
       "    </tr>\n",
       "    <tr>\n",
       "      <th>258</th>\n",
       "      <td>3</td>\n",
       "      <td>1</td>\n",
       "      <td>1</td>\n",
       "      <td>1</td>\n",
       "      <td>2</td>\n",
       "      <td>1.0</td>\n",
       "      <td>3</td>\n",
       "      <td>1</td>\n",
       "      <td>1</td>\n",
       "    </tr>\n",
       "    <tr>\n",
       "      <th>437</th>\n",
       "      <td>4</td>\n",
       "      <td>1</td>\n",
       "      <td>1</td>\n",
       "      <td>1</td>\n",
       "      <td>2</td>\n",
       "      <td>1.0</td>\n",
       "      <td>1</td>\n",
       "      <td>1</td>\n",
       "      <td>1</td>\n",
       "    </tr>\n",
       "    <tr>\n",
       "      <th>213</th>\n",
       "      <td>10</td>\n",
       "      <td>10</td>\n",
       "      <td>10</td>\n",
       "      <td>10</td>\n",
       "      <td>7</td>\n",
       "      <td>10.0</td>\n",
       "      <td>7</td>\n",
       "      <td>10</td>\n",
       "      <td>4</td>\n",
       "    </tr>\n",
       "  </tbody>\n",
       "</table>\n",
       "</div>"
      ],
      "text/plain": [
       "     Clump_Thickness  Cell_Shape_Uniformity  Cell_Shape_Uniformity  \\\n",
       "691                5                     10                     10   \n",
       "517                1                      1                      1   \n",
       "258                3                      1                      1   \n",
       "437                4                      1                      1   \n",
       "213               10                     10                     10   \n",
       "\n",
       "     Marginal_Adhesion  Single_Epi_Cell_Size  Bare_Nuclei  Bland_Chromatin  \\\n",
       "691                  5                     4          5.0                4   \n",
       "517                  1                     1          1.0                2   \n",
       "258                  1                     2          1.0                3   \n",
       "437                  1                     2          1.0                1   \n",
       "213                 10                     7         10.0                7   \n",
       "\n",
       "     Normal_Nucleoli  Mitoses  \n",
       "691                4        1  \n",
       "517                1        1  \n",
       "258                1        1  \n",
       "437                1        1  \n",
       "213               10        4  "
      ]
     },
     "execution_count": 53,
     "metadata": {},
     "output_type": "execute_result"
    }
   ],
   "source": [
    "x_test.head()"
   ]
  },
  {
   "cell_type": "markdown",
   "id": "c859afc1",
   "metadata": {},
   "source": [
    "# Logestic Regression"
   ]
  },
  {
   "cell_type": "code",
   "execution_count": 54,
   "id": "5d422630",
   "metadata": {},
   "outputs": [],
   "source": [
    "logreg =LogisticRegression(max_iter=100, C=5, random_state=101)"
   ]
  },
  {
   "cell_type": "code",
   "execution_count": 55,
   "id": "af4cabf5",
   "metadata": {},
   "outputs": [
    {
     "data": {
      "text/plain": [
       "LogisticRegression(C=5, random_state=101)"
      ]
     },
     "execution_count": 55,
     "metadata": {},
     "output_type": "execute_result"
    }
   ],
   "source": [
    "logreg.fit(x_train, y_train)"
   ]
  },
  {
   "cell_type": "code",
   "execution_count": 56,
   "id": "fbdaadc3",
   "metadata": {
    "scrolled": true
   },
   "outputs": [
    {
     "data": {
      "text/plain": [
       "array([[2.38500120e-02, 9.76149988e-01],\n",
       "       [9.98660631e-01, 1.33936929e-03],\n",
       "       [9.94351203e-01, 5.64879705e-03],\n",
       "       [9.95164686e-01, 4.83531387e-03],\n",
       "       [4.92153054e-06, 9.99995078e-01],\n",
       "       [9.01439307e-01, 9.85606933e-02],\n",
       "       [2.36756000e-02, 9.76324400e-01],\n",
       "       [9.84663413e-01, 1.53365866e-02],\n",
       "       [1.02372141e-02, 9.89762786e-01],\n",
       "       [9.96680532e-01, 3.31946806e-03],\n",
       "       [3.80460466e-04, 9.99619540e-01],\n",
       "       [6.03063783e-01, 3.96936217e-01],\n",
       "       [5.38769881e-04, 9.99461230e-01],\n",
       "       [2.77810976e-02, 9.72218902e-01],\n",
       "       [9.94035118e-01, 5.96488207e-03],\n",
       "       [9.97159527e-01, 2.84047327e-03],\n",
       "       [9.28484890e-01, 7.15151097e-02],\n",
       "       [9.46458521e-01, 5.35414792e-02],\n",
       "       [1.72514465e-04, 9.99827486e-01],\n",
       "       [1.08124189e-04, 9.99891876e-01],\n",
       "       [1.03070268e-06, 9.99998969e-01],\n",
       "       [4.88685592e-03, 9.95113144e-01],\n",
       "       [9.88412573e-01, 1.15874273e-02],\n",
       "       [9.96680532e-01, 3.31946806e-03],\n",
       "       [9.99021876e-01, 9.78123658e-04],\n",
       "       [8.53810598e-02, 9.14618940e-01],\n",
       "       [1.19699377e-03, 9.98803006e-01],\n",
       "       [9.87646151e-01, 1.23538487e-02],\n",
       "       [9.95869951e-01, 4.13004854e-03],\n",
       "       [9.96680532e-01, 3.31946806e-03],\n",
       "       [9.84352481e-01, 1.56475194e-02],\n",
       "       [5.20539723e-03, 9.94794603e-01],\n",
       "       [8.50581249e-04, 9.99149419e-01],\n",
       "       [9.19446444e-01, 8.05535561e-02],\n",
       "       [5.39683892e-04, 9.99460316e-01],\n",
       "       [9.83743485e-01, 1.62565154e-02],\n",
       "       [5.67738547e-03, 9.94322615e-01],\n",
       "       [1.13671712e-02, 9.88632829e-01],\n",
       "       [9.98051225e-01, 1.94877501e-03],\n",
       "       [9.67644898e-01, 3.23551022e-02],\n",
       "       [9.08438563e-01, 9.15614367e-02],\n",
       "       [9.97865113e-01, 2.13488724e-03],\n",
       "       [2.68834620e-04, 9.99731165e-01],\n",
       "       [9.84208646e-01, 1.57913538e-02],\n",
       "       [6.74883403e-02, 9.32511660e-01],\n",
       "       [9.95993385e-01, 4.00661461e-03],\n",
       "       [1.63639588e-05, 9.99983636e-01],\n",
       "       [1.35026149e-06, 9.99998650e-01],\n",
       "       [9.95164686e-01, 4.83531387e-03],\n",
       "       [9.24071825e-01, 7.59281747e-02],\n",
       "       [9.97408243e-01, 2.59175722e-03],\n",
       "       [9.99021876e-01, 9.78123658e-04],\n",
       "       [1.67749848e-03, 9.98322502e-01],\n",
       "       [2.87331986e-03, 9.97126680e-01],\n",
       "       [9.98109591e-01, 1.89040861e-03],\n",
       "       [1.00590700e-03, 9.98994093e-01],\n",
       "       [9.99021876e-01, 9.78123658e-04],\n",
       "       [5.73209819e-03, 9.94267902e-01],\n",
       "       [1.87804186e-05, 9.99981220e-01],\n",
       "       [9.88412573e-01, 1.15874273e-02],\n",
       "       [9.96677940e-01, 3.32206019e-03],\n",
       "       [9.90387304e-01, 9.61269647e-03],\n",
       "       [9.93185171e-01, 6.81482946e-03],\n",
       "       [7.53057298e-01, 2.46942702e-01],\n",
       "       [9.98051225e-01, 1.94877501e-03],\n",
       "       [1.05299401e-01, 8.94700599e-01],\n",
       "       [9.97647149e-01, 2.35285104e-03],\n",
       "       [4.92874850e-04, 9.99507125e-01],\n",
       "       [9.98660631e-01, 1.33936929e-03],\n",
       "       [9.96680532e-01, 3.31946806e-03],\n",
       "       [2.23505184e-03, 9.97764948e-01],\n",
       "       [9.90681147e-01, 9.31885250e-03],\n",
       "       [9.97915043e-01, 2.08495675e-03],\n",
       "       [9.98051225e-01, 1.94877501e-03],\n",
       "       [1.88505661e-02, 9.81149434e-01],\n",
       "       [7.28584023e-03, 9.92714160e-01],\n",
       "       [2.00660553e-07, 9.99999799e-01],\n",
       "       [6.08787068e-03, 9.93912129e-01],\n",
       "       [9.95993385e-01, 4.00661461e-03],\n",
       "       [8.16709242e-01, 1.83290758e-01],\n",
       "       [3.92472289e-02, 9.60752771e-01],\n",
       "       [9.91742033e-01, 8.25796698e-03],\n",
       "       [8.19642318e-02, 9.18035768e-01],\n",
       "       [9.86037893e-01, 1.39621071e-02],\n",
       "       [9.92025112e-01, 7.97488847e-03],\n",
       "       [9.98619254e-01, 1.38074587e-03],\n",
       "       [9.66964055e-01, 3.30359454e-02],\n",
       "       [1.39641335e-02, 9.86035867e-01],\n",
       "       [9.89750141e-01, 1.02498587e-02],\n",
       "       [9.94351203e-01, 5.64879705e-03],\n",
       "       [2.57049740e-02, 9.74295026e-01],\n",
       "       [9.95993385e-01, 4.00661461e-03],\n",
       "       [9.95993385e-01, 4.00661461e-03],\n",
       "       [9.72536654e-01, 2.74633457e-02],\n",
       "       [9.95980126e-01, 4.01987439e-03],\n",
       "       [9.91109576e-01, 8.89042447e-03],\n",
       "       [9.79573512e-01, 2.04264881e-02],\n",
       "       [9.91780434e-01, 8.21956624e-03],\n",
       "       [9.91562235e-01, 8.43776491e-03],\n",
       "       [4.84283030e-07, 9.99999516e-01],\n",
       "       [9.97801183e-01, 2.19881652e-03],\n",
       "       [9.98332761e-01, 1.66723853e-03],\n",
       "       [9.98332761e-01, 1.66723853e-03],\n",
       "       [9.56878359e-01, 4.31216408e-02],\n",
       "       [9.95454958e-01, 4.54504206e-03],\n",
       "       [9.98051225e-01, 1.94877501e-03],\n",
       "       [9.97643252e-01, 2.35674765e-03],\n",
       "       [1.90813386e-01, 8.09186614e-01],\n",
       "       [9.42531605e-01, 5.74683954e-02],\n",
       "       [9.98619254e-01, 1.38074587e-03],\n",
       "       [9.93433672e-01, 6.56632786e-03],\n",
       "       [9.62288859e-01, 3.77111413e-02],\n",
       "       [9.98051225e-01, 1.94877501e-03],\n",
       "       [2.91802380e-01, 7.08197620e-01],\n",
       "       [9.97717590e-01, 2.28241012e-03],\n",
       "       [4.30784950e-04, 9.99569215e-01],\n",
       "       [2.40535398e-03, 9.97594646e-01],\n",
       "       [1.31711416e-04, 9.99868289e-01],\n",
       "       [9.99021876e-01, 9.78123658e-04],\n",
       "       [9.98051225e-01, 1.94877501e-03],\n",
       "       [9.84220814e-01, 1.57791862e-02],\n",
       "       [9.95164686e-01, 4.83531387e-03],\n",
       "       [9.98660631e-01, 1.33936929e-03],\n",
       "       [9.98109591e-01, 1.89040861e-03],\n",
       "       [9.76378920e-01, 2.36210801e-02],\n",
       "       [9.64802869e-01, 3.51971312e-02],\n",
       "       [2.39021398e-02, 9.76097860e-01],\n",
       "       [9.98051225e-01, 1.94877501e-03],\n",
       "       [9.90650472e-01, 9.34952795e-03],\n",
       "       [9.82114969e-01, 1.78850309e-02],\n",
       "       [9.98051225e-01, 1.94877501e-03],\n",
       "       [3.63398339e-07, 9.99999637e-01],\n",
       "       [9.99021876e-01, 9.78123658e-04],\n",
       "       [1.68388642e-02, 9.83161136e-01],\n",
       "       [3.07292948e-01, 6.92707052e-01],\n",
       "       [9.95164686e-01, 4.83531387e-03],\n",
       "       [3.02667747e-05, 9.99969733e-01],\n",
       "       [9.98619254e-01, 1.38074587e-03],\n",
       "       [1.84539212e-03, 9.98154608e-01],\n",
       "       [1.14199230e-02, 9.88580077e-01],\n",
       "       [9.60370042e-01, 3.96299579e-02],\n",
       "       [9.78518996e-01, 2.14810039e-02],\n",
       "       [1.51405679e-04, 9.99848594e-01],\n",
       "       [9.97647149e-01, 2.35285104e-03],\n",
       "       [9.98051225e-01, 1.94877501e-03],\n",
       "       [9.37075473e-03, 9.90629245e-01],\n",
       "       [5.27808357e-02, 9.47219164e-01],\n",
       "       [9.74036660e-01, 2.59633398e-02],\n",
       "       [9.85510737e-01, 1.44892631e-02],\n",
       "       [8.90834435e-03, 9.91091656e-01],\n",
       "       [3.59902659e-05, 9.99964010e-01],\n",
       "       [9.97647149e-01, 2.35285104e-03],\n",
       "       [9.99021876e-01, 9.78123658e-04],\n",
       "       [2.27583209e-01, 7.72416791e-01],\n",
       "       [6.12025217e-01, 3.87974783e-01],\n",
       "       [1.78724227e-01, 8.21275773e-01],\n",
       "       [6.17098012e-01, 3.82901988e-01],\n",
       "       [2.03841236e-04, 9.99796159e-01],\n",
       "       [2.03684547e-01, 7.96315453e-01],\n",
       "       [9.94719872e-01, 5.28012827e-03],\n",
       "       [9.98619254e-01, 1.38074587e-03],\n",
       "       [8.41705199e-05, 9.99915829e-01],\n",
       "       [4.19919946e-02, 9.58008005e-01],\n",
       "       [9.98332761e-01, 1.66723853e-03],\n",
       "       [9.67944319e-01, 3.20556808e-02],\n",
       "       [4.63622667e-04, 9.99536377e-01],\n",
       "       [1.56403165e-04, 9.99843597e-01],\n",
       "       [5.42080637e-01, 4.57919363e-01],\n",
       "       [9.71781307e-01, 2.82186931e-02],\n",
       "       [1.27607582e-04, 9.99872392e-01],\n",
       "       [9.95454958e-01, 4.54504206e-03],\n",
       "       [9.72318002e-01, 2.76819975e-02],\n",
       "       [9.93185171e-01, 6.81482946e-03],\n",
       "       [8.19116821e-01, 1.80883179e-01],\n",
       "       [9.97159527e-01, 2.84047327e-03],\n",
       "       [9.94351203e-01, 5.64879705e-03],\n",
       "       [9.94351203e-01, 5.64879705e-03],\n",
       "       [2.23159028e-04, 9.99776841e-01],\n",
       "       [6.26332615e-01, 3.73667385e-01],\n",
       "       [9.71239418e-03, 9.90287606e-01],\n",
       "       [9.99171519e-01, 8.28480748e-04],\n",
       "       [9.91780434e-01, 8.21956624e-03],\n",
       "       [2.80738673e-06, 9.99997193e-01],\n",
       "       [9.98051225e-01, 1.94877501e-03],\n",
       "       [3.93907644e-01, 6.06092356e-01],\n",
       "       [9.94351203e-01, 5.64879705e-03],\n",
       "       [8.84008039e-01, 1.15991961e-01],\n",
       "       [9.97159527e-01, 2.84047327e-03],\n",
       "       [9.91780434e-01, 8.21956624e-03],\n",
       "       [6.92365358e-03, 9.93076346e-01],\n",
       "       [1.46127480e-03, 9.98538725e-01],\n",
       "       [8.92333511e-01, 1.07666489e-01],\n",
       "       [6.95832234e-01, 3.04167766e-01],\n",
       "       [9.91780434e-01, 8.21956624e-03],\n",
       "       [4.35672766e-02, 9.56432723e-01],\n",
       "       [9.93173935e-01, 6.82606511e-03],\n",
       "       [9.81287142e-01, 1.87128581e-02],\n",
       "       [1.70983378e-04, 9.99829017e-01],\n",
       "       [9.95993385e-01, 4.00661461e-03],\n",
       "       [9.89182366e-01, 1.08176342e-02],\n",
       "       [9.97150115e-01, 2.84988478e-03],\n",
       "       [2.33013095e-03, 9.97669869e-01],\n",
       "       [9.53973518e-01, 4.60264819e-02],\n",
       "       [9.98051225e-01, 1.94877501e-03],\n",
       "       [9.98051225e-01, 1.94877501e-03],\n",
       "       [9.98163344e-01, 1.83665645e-03],\n",
       "       [9.94351203e-01, 5.64879705e-03],\n",
       "       [8.32109834e-05, 9.99916789e-01],\n",
       "       [9.95993385e-01, 4.00661461e-03],\n",
       "       [9.99051199e-01, 9.48800925e-04]])"
      ]
     },
     "execution_count": 56,
     "metadata": {},
     "output_type": "execute_result"
    }
   ],
   "source": [
    "logreg.predict_proba(x_test)"
   ]
  },
  {
   "cell_type": "code",
   "execution_count": 57,
   "id": "c548016a",
   "metadata": {},
   "outputs": [
    {
     "data": {
      "text/plain": [
       "array([1, 0, 0, 0, 1, 0, 1, 0, 1, 0, 1, 0, 1, 1, 0, 0, 0, 0, 1, 1, 1, 1,\n",
       "       0, 0, 0, 1, 1, 0, 0, 0, 0, 1, 1, 0, 1, 0, 1, 1, 0, 0, 0, 0, 1, 0,\n",
       "       1, 0, 1, 1, 0, 0, 0, 0, 1, 1, 0, 1, 0, 1, 1, 0, 0, 0, 0, 0, 0, 1,\n",
       "       0, 1, 0, 0, 1, 0, 0, 0, 1, 1, 1, 1, 0, 0, 1, 0, 1, 0, 0, 0, 0, 1,\n",
       "       0, 0, 1, 0, 0, 0, 0, 0, 0, 0, 0, 1, 0, 0, 0, 0, 0, 0, 0, 1, 0, 0,\n",
       "       0, 0, 0, 1, 0, 1, 1, 1, 0, 0, 0, 0, 0, 0, 0, 0, 1, 0, 0, 0, 0, 1,\n",
       "       0, 1, 1, 0, 1, 0, 1, 1, 0, 0, 1, 0, 0, 1, 1, 0, 0, 1, 1, 0, 0, 1,\n",
       "       0, 1, 0, 1, 1, 0, 0, 1, 1, 0, 0, 1, 1, 0, 0, 1, 0, 0, 0, 0, 0, 0,\n",
       "       0, 1, 0, 1, 0, 0, 1, 0, 1, 0, 0, 0, 0, 1, 1, 0, 0, 0, 1, 0, 0, 1,\n",
       "       0, 0, 0, 1, 0, 0, 0, 0, 0, 1, 0, 0], dtype=uint8)"
      ]
     },
     "execution_count": 57,
     "metadata": {},
     "output_type": "execute_result"
    }
   ],
   "source": [
    "pred_logreg = logreg.predict(x_test)\n",
    "pred_logreg"
   ]
  },
  {
   "cell_type": "code",
   "execution_count": 58,
   "id": "ad6574d1",
   "metadata": {},
   "outputs": [
    {
     "name": "stdout",
     "output_type": "stream",
     "text": [
      "benign=135\n",
      "malignant=75\n"
     ]
    }
   ],
   "source": [
    "benign = 0\n",
    "malignant = 0\n",
    "for i in pred_logreg:\n",
    "    if i ==0:\n",
    "        benign+=1\n",
    "    else :\n",
    "        malignant+=1\n",
    "print('benign={}\\nmalignant={}'.format(benign,malignant))\n",
    "        "
   ]
  },
  {
   "cell_type": "code",
   "execution_count": 59,
   "id": "3d66bac9",
   "metadata": {},
   "outputs": [
    {
     "data": {
      "text/plain": [
       "array([[127,   2],\n",
       "       [  8,  73]], dtype=int64)"
      ]
     },
     "execution_count": 59,
     "metadata": {},
     "output_type": "execute_result"
    }
   ],
   "source": [
    "# Evaluation\n",
    "confusion_matrix(y_test,pred_logreg)"
   ]
  },
  {
   "cell_type": "code",
   "execution_count": 60,
   "id": "eb89d5fb",
   "metadata": {},
   "outputs": [
    {
     "data": {
      "text/plain": [
       "0.9523809523809523"
      ]
     },
     "execution_count": 60,
     "metadata": {},
     "output_type": "execute_result"
    }
   ],
   "source": [
    "accuracy=accuracy_score(y_test,pred_logreg)\n",
    "accuracy"
   ]
  },
  {
   "cell_type": "code",
   "execution_count": 61,
   "id": "b3251067",
   "metadata": {},
   "outputs": [],
   "source": [
    "df['Bare_Nuclei']=df['Bare_Nuclei'].astype('Int64')"
   ]
  },
  {
   "cell_type": "code",
   "execution_count": 62,
   "id": "edfa541e",
   "metadata": {},
   "outputs": [
    {
     "data": {
      "text/plain": [
       "0.949009324009324"
      ]
     },
     "execution_count": 62,
     "metadata": {},
     "output_type": "execute_result"
    }
   ],
   "source": [
    "f1_score = f1_score(y_test, pred_logreg, average='macro')\n",
    "f1_score"
   ]
  },
  {
   "cell_type": "code",
   "execution_count": 63,
   "id": "36ee7dd7",
   "metadata": {},
   "outputs": [
    {
     "data": {
      "text/plain": [
       "0.9523809523809523"
      ]
     },
     "execution_count": 63,
     "metadata": {},
     "output_type": "execute_result"
    }
   ],
   "source": [
    "prec_score=precision_score(y_test, pred_logreg, average='micro')\n",
    "prec_score"
   ]
  },
  {
   "cell_type": "code",
   "execution_count": 64,
   "id": "e10d4d29",
   "metadata": {},
   "outputs": [
    {
     "data": {
      "text/plain": [
       "0.9844961240310077"
      ]
     },
     "execution_count": 64,
     "metadata": {},
     "output_type": "execute_result"
    }
   ],
   "source": [
    "tn, fp, fn, tp = confusion_matrix(y_test, pred_logreg).ravel()\n",
    "specificity = tn / (tn+fp)\n",
    "specificity"
   ]
  },
  {
   "cell_type": "code",
   "execution_count": 65,
   "id": "0e04eaac",
   "metadata": {},
   "outputs": [
    {
     "data": {
      "text/plain": [
       "0.9012345679012346"
      ]
     },
     "execution_count": 65,
     "metadata": {},
     "output_type": "execute_result"
    }
   ],
   "source": [
    "sensitivity = tp/(tp+fn)\n",
    "sensitivity"
   ]
  },
  {
   "cell_type": "code",
   "execution_count": 66,
   "id": "53af9c8a",
   "metadata": {},
   "outputs": [
    {
     "data": {
      "text/html": [
       "<div>\n",
       "<style scoped>\n",
       "    .dataframe tbody tr th:only-of-type {\n",
       "        vertical-align: middle;\n",
       "    }\n",
       "\n",
       "    .dataframe tbody tr th {\n",
       "        vertical-align: top;\n",
       "    }\n",
       "\n",
       "    .dataframe thead tr th {\n",
       "        text-align: left;\n",
       "    }\n",
       "</style>\n",
       "<table border=\"1\" class=\"dataframe\">\n",
       "  <thead>\n",
       "    <tr>\n",
       "      <th></th>\n",
       "      <th>Max_Iter</th>\n",
       "      <th>C</th>\n",
       "    </tr>\n",
       "  </thead>\n",
       "  <tbody>\n",
       "    <tr>\n",
       "      <th>1</th>\n",
       "      <td>200</td>\n",
       "      <td>1</td>\n",
       "    </tr>\n",
       "    <tr>\n",
       "      <th>2</th>\n",
       "      <td>200</td>\n",
       "      <td>2</td>\n",
       "    </tr>\n",
       "    <tr>\n",
       "      <th>3</th>\n",
       "      <td>200</td>\n",
       "      <td>3</td>\n",
       "    </tr>\n",
       "    <tr>\n",
       "      <th>4</th>\n",
       "      <td>200</td>\n",
       "      <td>4</td>\n",
       "    </tr>\n",
       "    <tr>\n",
       "      <th>5</th>\n",
       "      <td>300</td>\n",
       "      <td>1</td>\n",
       "    </tr>\n",
       "    <tr>\n",
       "      <th>6</th>\n",
       "      <td>300</td>\n",
       "      <td>2</td>\n",
       "    </tr>\n",
       "    <tr>\n",
       "      <th>7</th>\n",
       "      <td>300</td>\n",
       "      <td>3</td>\n",
       "    </tr>\n",
       "    <tr>\n",
       "      <th>8</th>\n",
       "      <td>300</td>\n",
       "      <td>4</td>\n",
       "    </tr>\n",
       "    <tr>\n",
       "      <th>9</th>\n",
       "      <td>400</td>\n",
       "      <td>1</td>\n",
       "    </tr>\n",
       "    <tr>\n",
       "      <th>10</th>\n",
       "      <td>400</td>\n",
       "      <td>2</td>\n",
       "    </tr>\n",
       "    <tr>\n",
       "      <th>11</th>\n",
       "      <td>400</td>\n",
       "      <td>3</td>\n",
       "    </tr>\n",
       "    <tr>\n",
       "      <th>12</th>\n",
       "      <td>400</td>\n",
       "      <td>4</td>\n",
       "    </tr>\n",
       "    <tr>\n",
       "      <th>13</th>\n",
       "      <td>500</td>\n",
       "      <td>1</td>\n",
       "    </tr>\n",
       "    <tr>\n",
       "      <th>14</th>\n",
       "      <td>500</td>\n",
       "      <td>2</td>\n",
       "    </tr>\n",
       "    <tr>\n",
       "      <th>15</th>\n",
       "      <td>500</td>\n",
       "      <td>3</td>\n",
       "    </tr>\n",
       "    <tr>\n",
       "      <th>16</th>\n",
       "      <td>500</td>\n",
       "      <td>4</td>\n",
       "    </tr>\n",
       "  </tbody>\n",
       "</table>\n",
       "</div>"
      ],
      "text/plain": [
       "   Max_Iter  C\n",
       "1       200  1\n",
       "2       200  2\n",
       "3       200  3\n",
       "4       200  4\n",
       "5       300  1\n",
       "6       300  2\n",
       "7       300  3\n",
       "8       300  4\n",
       "9       400  1\n",
       "10      400  2\n",
       "11      400  3\n",
       "12      400  4\n",
       "13      500  1\n",
       "14      500  2\n",
       "15      500  3\n",
       "16      500  4"
      ]
     },
     "execution_count": 66,
     "metadata": {},
     "output_type": "execute_result"
    }
   ],
   "source": [
    "# k-fold cross validation\n",
    "max_iter=[200,300,400,500]\n",
    "c=[1,2,3,4]\n",
    "grid=itertools.product(max_iter,c)\n",
    "grid=pd.DataFrame(grid,index=range(1,17),columns=[['Max_Iter','C']])\n",
    "grid"
   ]
  },
  {
   "cell_type": "code",
   "execution_count": 67,
   "id": "964ec296",
   "metadata": {},
   "outputs": [
    {
     "data": {
      "text/plain": [
       "[0.963181148748159,\n",
       " 0.963181148748159,\n",
       " 0.963181148748159,\n",
       " 0.963181148748159,\n",
       " 0.963181148748159,\n",
       " 0.963181148748159,\n",
       " 0.963181148748159,\n",
       " 0.963181148748159,\n",
       " 0.963181148748159,\n",
       " 0.963181148748159,\n",
       " 0.963181148748159,\n",
       " 0.963181148748159,\n",
       " 0.963181148748159,\n",
       " 0.963181148748159,\n",
       " 0.963181148748159,\n",
       " 0.963181148748159]"
      ]
     },
     "execution_count": 67,
     "metadata": {},
     "output_type": "execute_result"
    }
   ],
   "source": [
    "sc=[]\n",
    "for i in range (0,16):\n",
    "    lor=LogisticRegression(max_iter=grid.iloc[i,0],C=grid.iloc[i,1],random_state=101)\n",
    "    scores=cross_val_score(lor, X=x_train,y=y_train.values.ravel(), cv=5, scoring='accuracy')\n",
    "    sc.append(np.mean(scores))\n",
    "sc    "
   ]
  },
  {
   "cell_type": "code",
   "execution_count": 68,
   "id": "63a5e7cc",
   "metadata": {},
   "outputs": [
    {
     "data": {
      "text/plain": [
       "<matplotlib.lines.Line2D at 0x1abc3e3d0d0>"
      ]
     },
     "execution_count": 68,
     "metadata": {},
     "output_type": "execute_result"
    },
    {
     "data": {
      "image/png": "[encoded data removed]",
      "text/plain": [
       "<Figure size 864x432 with 1 Axes>"
      ]
     },
     "metadata": {},
     "output_type": "display_data"
    }
   ],
   "source": [
    "plt.figure(figsize=(12,6))\n",
    "plt.plot(range(1,17),sc,marker='o',markerfacecolor='red',color='black',\n",
    "        markeredgecolor='black',markeredgewidth=1,markersize=13,linestyle='--')\n",
    "plt.axvline(np.argmax(sc)+1,linestyle='--',color='black')"
   ]
  },
  {
   "cell_type": "markdown",
   "id": "2f847dc2",
   "metadata": {},
   "source": [
    "دلیل این اتفاق ممکن است به این خاطر باشد که تمامی فیچرها عددی بین 1 تا 10 دارند و بیشترین فراوانی این داده ها برای مقادیر 1 و 2 هستند به عبارتی چوله به راست هستند به نظر بهترین راه برای جلوگیری از این اتفاق،نرمال کردن داده ها با استفاده از تبدیل باکس کاکس باشد"
   ]
  },
  {
   "cell_type": "code",
   "execution_count": 69,
   "id": "4a84f317",
   "metadata": {},
   "outputs": [],
   "source": [
    "logr=LogisticRegression(max_iter=grid.iloc[2,0],C=grid.iloc[1,1],random_state=101)"
   ]
  },
  {
   "cell_type": "code",
   "execution_count": 70,
   "id": "33cefa74",
   "metadata": {},
   "outputs": [
    {
     "data": {
      "text/plain": [
       "LogisticRegression(C=2, max_iter=200, random_state=101)"
      ]
     },
     "execution_count": 70,
     "metadata": {},
     "output_type": "execute_result"
    }
   ],
   "source": [
    "logr.fit(x_train,y_train)"
   ]
  },
  {
   "cell_type": "code",
   "execution_count": 71,
   "id": "9944cdbb",
   "metadata": {},
   "outputs": [],
   "source": [
    "pred_logr=logr.predict(x_test)"
   ]
  },
  {
   "cell_type": "code",
   "execution_count": 72,
   "id": "e33a52dc",
   "metadata": {},
   "outputs": [
    {
     "data": {
      "text/plain": [
       "array([[127,   2],\n",
       "       [  8,  73]], dtype=int64)"
      ]
     },
     "execution_count": 72,
     "metadata": {},
     "output_type": "execute_result"
    }
   ],
   "source": [
    "c_m=confusion_matrix(y_test,pred_logr)\n",
    "c_m"
   ]
  },
  {
   "cell_type": "code",
   "execution_count": 73,
   "id": "d0138c1a",
   "metadata": {},
   "outputs": [],
   "source": [
    "TN=c_m[0,0]\n",
    "TP=c_m[1,1]\n",
    "FN=c_m[1,0]\n",
    "FP=c_m[0,1]"
   ]
  },
  {
   "cell_type": "code",
   "execution_count": 74,
   "id": "e89a3a23",
   "metadata": {},
   "outputs": [
    {
     "data": {
      "text/html": [
       "<div>\n",
       "<style scoped>\n",
       "    .dataframe tbody tr th:only-of-type {\n",
       "        vertical-align: middle;\n",
       "    }\n",
       "\n",
       "    .dataframe tbody tr th {\n",
       "        vertical-align: top;\n",
       "    }\n",
       "\n",
       "    .dataframe thead th {\n",
       "        text-align: right;\n",
       "    }\n",
       "</style>\n",
       "<table border=\"1\" class=\"dataframe\">\n",
       "  <thead>\n",
       "    <tr style=\"text-align: right;\">\n",
       "      <th></th>\n",
       "      <th>Accuracy</th>\n",
       "      <th>Precision</th>\n",
       "      <th>Sensitivity</th>\n",
       "      <th>Specificity</th>\n",
       "    </tr>\n",
       "  </thead>\n",
       "  <tbody>\n",
       "    <tr>\n",
       "      <th>Logistic Regression</th>\n",
       "      <td>0.952381</td>\n",
       "      <td>0.973333</td>\n",
       "      <td>0.901235</td>\n",
       "      <td>0.984496</td>\n",
       "    </tr>\n",
       "  </tbody>\n",
       "</table>\n",
       "</div>"
      ],
      "text/plain": [
       "                     Accuracy  Precision  Sensitivity  Specificity\n",
       "Logistic Regression  0.952381   0.973333     0.901235     0.984496"
      ]
     },
     "execution_count": 74,
     "metadata": {},
     "output_type": "execute_result"
    }
   ],
   "source": [
    "evaluated_model=pd.DataFrame({'Accuracy':(TN+TP)/(TP+TN+FN+FP),\n",
    "                             'Precision':TP/(TP+FP),\n",
    "                            'Sensitivity':TP/(TP+FN),\n",
    "                            'Specificity':TN/(TN+FP)},\n",
    "                            index=[\"Logistic Regression\"])\n",
    "evaluated_model"
   ]
  },
  {
   "cell_type": "markdown",
   "id": "74eac079",
   "metadata": {},
   "source": [
    "# Decision Tree\n"
   ]
  },
  {
   "cell_type": "code",
   "execution_count": 75,
   "id": "dc34dd94",
   "metadata": {},
   "outputs": [],
   "source": [
    "Class_tree=DecisionTreeClassifier(max_depth=5,min_samples_leaf=5,ccp_alpha=0.01)"
   ]
  },
  {
   "cell_type": "code",
   "execution_count": 76,
   "id": "e2016f12",
   "metadata": {},
   "outputs": [],
   "source": [
    "fit_tree=Class_tree.fit(x_train,y_train)"
   ]
  },
  {
   "cell_type": "code",
   "execution_count": 77,
   "id": "f3010c9f",
   "metadata": {},
   "outputs": [
    {
     "data": {
      "text/html": [
       "<div>\n",
       "<style scoped>\n",
       "    .dataframe tbody tr th:only-of-type {\n",
       "        vertical-align: middle;\n",
       "    }\n",
       "\n",
       "    .dataframe tbody tr th {\n",
       "        vertical-align: top;\n",
       "    }\n",
       "\n",
       "    .dataframe thead th {\n",
       "        text-align: right;\n",
       "    }\n",
       "</style>\n",
       "<table border=\"1\" class=\"dataframe\">\n",
       "  <thead>\n",
       "    <tr style=\"text-align: right;\">\n",
       "      <th></th>\n",
       "      <th>max_depth</th>\n",
       "      <th>min_samples_leaf</th>\n",
       "      <th>ccp_alpha</th>\n",
       "    </tr>\n",
       "  </thead>\n",
       "  <tbody>\n",
       "    <tr>\n",
       "      <th>1</th>\n",
       "      <td>4</td>\n",
       "      <td>5</td>\n",
       "      <td>0.0001</td>\n",
       "    </tr>\n",
       "    <tr>\n",
       "      <th>2</th>\n",
       "      <td>4</td>\n",
       "      <td>5</td>\n",
       "      <td>0.0010</td>\n",
       "    </tr>\n",
       "    <tr>\n",
       "      <th>3</th>\n",
       "      <td>4</td>\n",
       "      <td>5</td>\n",
       "      <td>0.0100</td>\n",
       "    </tr>\n",
       "    <tr>\n",
       "      <th>4</th>\n",
       "      <td>4</td>\n",
       "      <td>10</td>\n",
       "      <td>0.0001</td>\n",
       "    </tr>\n",
       "    <tr>\n",
       "      <th>5</th>\n",
       "      <td>4</td>\n",
       "      <td>10</td>\n",
       "      <td>0.0010</td>\n",
       "    </tr>\n",
       "    <tr>\n",
       "      <th>6</th>\n",
       "      <td>4</td>\n",
       "      <td>10</td>\n",
       "      <td>0.0100</td>\n",
       "    </tr>\n",
       "    <tr>\n",
       "      <th>7</th>\n",
       "      <td>4</td>\n",
       "      <td>15</td>\n",
       "      <td>0.0001</td>\n",
       "    </tr>\n",
       "    <tr>\n",
       "      <th>8</th>\n",
       "      <td>4</td>\n",
       "      <td>15</td>\n",
       "      <td>0.0010</td>\n",
       "    </tr>\n",
       "    <tr>\n",
       "      <th>9</th>\n",
       "      <td>4</td>\n",
       "      <td>15</td>\n",
       "      <td>0.0100</td>\n",
       "    </tr>\n",
       "    <tr>\n",
       "      <th>10</th>\n",
       "      <td>6</td>\n",
       "      <td>5</td>\n",
       "      <td>0.0001</td>\n",
       "    </tr>\n",
       "    <tr>\n",
       "      <th>11</th>\n",
       "      <td>6</td>\n",
       "      <td>5</td>\n",
       "      <td>0.0010</td>\n",
       "    </tr>\n",
       "    <tr>\n",
       "      <th>12</th>\n",
       "      <td>6</td>\n",
       "      <td>5</td>\n",
       "      <td>0.0100</td>\n",
       "    </tr>\n",
       "    <tr>\n",
       "      <th>13</th>\n",
       "      <td>6</td>\n",
       "      <td>10</td>\n",
       "      <td>0.0001</td>\n",
       "    </tr>\n",
       "    <tr>\n",
       "      <th>14</th>\n",
       "      <td>6</td>\n",
       "      <td>10</td>\n",
       "      <td>0.0010</td>\n",
       "    </tr>\n",
       "    <tr>\n",
       "      <th>15</th>\n",
       "      <td>6</td>\n",
       "      <td>10</td>\n",
       "      <td>0.0100</td>\n",
       "    </tr>\n",
       "    <tr>\n",
       "      <th>16</th>\n",
       "      <td>6</td>\n",
       "      <td>15</td>\n",
       "      <td>0.0001</td>\n",
       "    </tr>\n",
       "    <tr>\n",
       "      <th>17</th>\n",
       "      <td>6</td>\n",
       "      <td>15</td>\n",
       "      <td>0.0010</td>\n",
       "    </tr>\n",
       "    <tr>\n",
       "      <th>18</th>\n",
       "      <td>6</td>\n",
       "      <td>15</td>\n",
       "      <td>0.0100</td>\n",
       "    </tr>\n",
       "    <tr>\n",
       "      <th>19</th>\n",
       "      <td>8</td>\n",
       "      <td>5</td>\n",
       "      <td>0.0001</td>\n",
       "    </tr>\n",
       "    <tr>\n",
       "      <th>20</th>\n",
       "      <td>8</td>\n",
       "      <td>5</td>\n",
       "      <td>0.0010</td>\n",
       "    </tr>\n",
       "    <tr>\n",
       "      <th>21</th>\n",
       "      <td>8</td>\n",
       "      <td>5</td>\n",
       "      <td>0.0100</td>\n",
       "    </tr>\n",
       "    <tr>\n",
       "      <th>22</th>\n",
       "      <td>8</td>\n",
       "      <td>10</td>\n",
       "      <td>0.0001</td>\n",
       "    </tr>\n",
       "    <tr>\n",
       "      <th>23</th>\n",
       "      <td>8</td>\n",
       "      <td>10</td>\n",
       "      <td>0.0010</td>\n",
       "    </tr>\n",
       "    <tr>\n",
       "      <th>24</th>\n",
       "      <td>8</td>\n",
       "      <td>10</td>\n",
       "      <td>0.0100</td>\n",
       "    </tr>\n",
       "    <tr>\n",
       "      <th>25</th>\n",
       "      <td>8</td>\n",
       "      <td>15</td>\n",
       "      <td>0.0001</td>\n",
       "    </tr>\n",
       "    <tr>\n",
       "      <th>26</th>\n",
       "      <td>8</td>\n",
       "      <td>15</td>\n",
       "      <td>0.0010</td>\n",
       "    </tr>\n",
       "    <tr>\n",
       "      <th>27</th>\n",
       "      <td>8</td>\n",
       "      <td>15</td>\n",
       "      <td>0.0100</td>\n",
       "    </tr>\n",
       "  </tbody>\n",
       "</table>\n",
       "</div>"
      ],
      "text/plain": [
       "    max_depth  min_samples_leaf  ccp_alpha\n",
       "1           4                 5     0.0001\n",
       "2           4                 5     0.0010\n",
       "3           4                 5     0.0100\n",
       "4           4                10     0.0001\n",
       "5           4                10     0.0010\n",
       "6           4                10     0.0100\n",
       "7           4                15     0.0001\n",
       "8           4                15     0.0010\n",
       "9           4                15     0.0100\n",
       "10          6                 5     0.0001\n",
       "11          6                 5     0.0010\n",
       "12          6                 5     0.0100\n",
       "13          6                10     0.0001\n",
       "14          6                10     0.0010\n",
       "15          6                10     0.0100\n",
       "16          6                15     0.0001\n",
       "17          6                15     0.0010\n",
       "18          6                15     0.0100\n",
       "19          8                 5     0.0001\n",
       "20          8                 5     0.0010\n",
       "21          8                 5     0.0100\n",
       "22          8                10     0.0001\n",
       "23          8                10     0.0010\n",
       "24          8                10     0.0100\n",
       "25          8                15     0.0001\n",
       "26          8                15     0.0010\n",
       "27          8                15     0.0100"
      ]
     },
     "execution_count": 77,
     "metadata": {},
     "output_type": "execute_result"
    }
   ],
   "source": [
    "max_depth=[4,6,8]\n",
    "min_samples_leaf=[5,10,15]\n",
    "ccp_alpha=[0.0001,0.001,0.01]\n",
    "grid=list(itertools.product(max_depth,min_samples_leaf,ccp_alpha))\n",
    "grid=pd.DataFrame(grid,index=range(1,28),columns=['max_depth','min_samples_leaf','ccp_alpha'])\n",
    "grid"
   ]
  },
  {
   "cell_type": "code",
   "execution_count": 78,
   "id": "5315cc78",
   "metadata": {},
   "outputs": [
    {
     "data": {
      "text/plain": [
       "[0.9488945578231294,\n",
       " 0.9488945578231294,\n",
       " 0.9345663265306122,\n",
       " 0.95093537414966,\n",
       " 0.95093537414966,\n",
       " 0.9447704081632654,\n",
       " 0.9181122448979592,\n",
       " 0.9181122448979592,\n",
       " 0.9181122448979592,\n",
       " 0.940688775510204,\n",
       " 0.940688775510204,\n",
       " 0.9345663265306122,\n",
       " 0.95093537414966,\n",
       " 0.95093537414966,\n",
       " 0.9447704081632654,\n",
       " 0.9181122448979592,\n",
       " 0.9181122448979592,\n",
       " 0.9181122448979592,\n",
       " 0.940688775510204,\n",
       " 0.940688775510204,\n",
       " 0.9345663265306122,\n",
       " 0.95093537414966,\n",
       " 0.95093537414966,\n",
       " 0.9447704081632654,\n",
       " 0.9181122448979592,\n",
       " 0.9181122448979592,\n",
       " 0.9181122448979592]"
      ]
     },
     "execution_count": 78,
     "metadata": {},
     "output_type": "execute_result"
    }
   ],
   "source": [
    "sco=[]\n",
    "for i in range(1,28):\n",
    "    reg_tree=DecisionTreeClassifier(max_depth=grid.loc[i,'max_depth'],\n",
    "                               min_samples_leaf=grid.loc[i,'min_samples_leaf'],\n",
    "                               ccp_alpha=grid.loc[i,'ccp_alpha'],random_state=101)\n",
    "    Scores=cross_val_score(reg_tree,X=x_train,y=y_train,\n",
    "                           cv=10,scoring='accuracy')\n",
    "    sco.append(np.mean(Scores))\n",
    "sco"
   ]
  },
  {
   "cell_type": "code",
   "execution_count": 79,
   "id": "da72bc7a",
   "metadata": {},
   "outputs": [
    {
     "data": {
      "text/plain": [
       "Text(0, 0.5, 'accuracy')"
      ]
     },
     "execution_count": 79,
     "metadata": {},
     "output_type": "execute_result"
    },
    {
     "data": {
      "image/png": "[encoded data removed]",
      "text/plain": [
       "<Figure size 864x360 with 1 Axes>"
      ]
     },
     "metadata": {},
     "output_type": "display_data"
    }
   ],
   "source": [
    "plt.figure(figsize=(12,5))\n",
    "plt.plot(range(1,28),sco,marker='o',markersize=10,\n",
    "         markerfacecolor='red',color='black',\n",
    "        markeredgecolor='blue',markeredgewidth=2)\n",
    "plt.axvline(np.argmax(sco)+1,linestyle='--',color='black')\n",
    "plt.xlabel('The index of grid',fontsize=14,color='blue')\n",
    "plt.ylabel('accuracy',fontsize=14,color='blue')"
   ]
  },
  {
   "cell_type": "markdown",
   "id": "75fe4cfc",
   "metadata": {},
   "source": [
    "# Applying the Best Model"
   ]
  },
  {
   "cell_type": "code",
   "execution_count": 80,
   "id": "d4d75a42",
   "metadata": {},
   "outputs": [
    {
     "data": {
      "text/plain": [
       "DecisionTreeClassifier(ccp_alpha=0.0001, max_depth=4, min_samples_leaf=10,\n",
       "                       random_state=101)"
      ]
     },
     "execution_count": 80,
     "metadata": {},
     "output_type": "execute_result"
    }
   ],
   "source": [
    "class_tree=DecisionTreeClassifier(max_depth=grid.loc[4,'max_depth'],\n",
    "                               min_samples_leaf=grid.loc[4,'min_samples_leaf'],\n",
    "                               ccp_alpha=grid.loc[4,'ccp_alpha'],random_state=101)\n",
    "class_tree.fit(x_train,y_train)"
   ]
  },
  {
   "cell_type": "code",
   "execution_count": 81,
   "id": "d6583e2c",
   "metadata": {
    "scrolled": true
   },
   "outputs": [
    {
     "data": {
      "text/plain": [
       "array([1, 0, 0, 0, 1, 1, 1, 0, 1, 0, 1, 0, 1, 1, 0, 0, 0, 0, 1, 1, 1, 1,\n",
       "       0, 0, 0, 1, 1, 0, 0, 0, 0, 1, 1, 0, 1, 0, 1, 1, 0, 0, 1, 0, 1, 0,\n",
       "       1, 0, 1, 1, 0, 0, 0, 0, 1, 1, 0, 1, 0, 1, 1, 0, 0, 0, 0, 1, 0, 1,\n",
       "       0, 1, 0, 0, 1, 0, 0, 0, 1, 1, 1, 1, 0, 0, 1, 0, 1, 0, 0, 0, 0, 1,\n",
       "       0, 0, 1, 0, 0, 0, 0, 0, 0, 0, 0, 1, 0, 0, 0, 1, 0, 0, 0, 0, 0, 0,\n",
       "       0, 0, 0, 1, 0, 1, 1, 1, 0, 0, 0, 0, 0, 0, 0, 0, 1, 0, 0, 0, 0, 1,\n",
       "       0, 1, 1, 0, 1, 0, 1, 1, 0, 0, 1, 0, 0, 1, 1, 0, 0, 1, 1, 0, 0, 0,\n",
       "       1, 0, 0, 1, 1, 0, 0, 1, 1, 0, 0, 1, 1, 1, 0, 1, 0, 0, 0, 0, 0, 0,\n",
       "       0, 1, 0, 0, 0, 0, 1, 0, 1, 0, 1, 0, 0, 1, 1, 0, 0, 0, 1, 0, 0, 1,\n",
       "       0, 0, 0, 1, 0, 0, 0, 0, 0, 1, 0, 0], dtype=uint8)"
      ]
     },
     "execution_count": 81,
     "metadata": {},
     "output_type": "execute_result"
    }
   ],
   "source": [
    "pred_tree=class_tree.predict(x_test)\n",
    "pred_tree"
   ]
  },
  {
   "cell_type": "code",
   "execution_count": 82,
   "id": "3d251206",
   "metadata": {},
   "outputs": [
    {
     "data": {
      "text/plain": [
       "array([[123,   6],\n",
       "       [  9,  72]], dtype=int64)"
      ]
     },
     "execution_count": 82,
     "metadata": {},
     "output_type": "execute_result"
    }
   ],
   "source": [
    "c_m=confusion_matrix(y_test,pred_tree)\n",
    "c_m"
   ]
  },
  {
   "cell_type": "code",
   "execution_count": 83,
   "id": "863a2766",
   "metadata": {},
   "outputs": [
    {
     "data": {
      "text/html": [
       "<div>\n",
       "<style scoped>\n",
       "    .dataframe tbody tr th:only-of-type {\n",
       "        vertical-align: middle;\n",
       "    }\n",
       "\n",
       "    .dataframe tbody tr th {\n",
       "        vertical-align: top;\n",
       "    }\n",
       "\n",
       "    .dataframe thead th {\n",
       "        text-align: right;\n",
       "    }\n",
       "</style>\n",
       "<table border=\"1\" class=\"dataframe\">\n",
       "  <thead>\n",
       "    <tr style=\"text-align: right;\">\n",
       "      <th></th>\n",
       "      <th>Accuracy</th>\n",
       "      <th>Precision</th>\n",
       "      <th>Sensitivity</th>\n",
       "      <th>Specificity</th>\n",
       "    </tr>\n",
       "  </thead>\n",
       "  <tbody>\n",
       "    <tr>\n",
       "      <th>Logistic Regression</th>\n",
       "      <td>0.952381</td>\n",
       "      <td>0.973333</td>\n",
       "      <td>0.901235</td>\n",
       "      <td>0.984496</td>\n",
       "    </tr>\n",
       "    <tr>\n",
       "      <th>Decision Tree</th>\n",
       "      <td>0.928571</td>\n",
       "      <td>0.923077</td>\n",
       "      <td>0.888889</td>\n",
       "      <td>0.953488</td>\n",
       "    </tr>\n",
       "  </tbody>\n",
       "</table>\n",
       "</div>"
      ],
      "text/plain": [
       "                     Accuracy  Precision  Sensitivity  Specificity\n",
       "Logistic Regression  0.952381   0.973333     0.901235     0.984496\n",
       "Decision Tree        0.928571   0.923077     0.888889     0.953488"
      ]
     },
     "execution_count": 83,
     "metadata": {},
     "output_type": "execute_result"
    }
   ],
   "source": [
    "TN=c_m[0,0]\n",
    "TP=c_m[1,1]\n",
    "FN=c_m[1,0]\n",
    "FP=c_m[0,1]\n",
    "evaluated_model=evaluated_model.append(pd.DataFrame({'Accuracy':(TN+TP)/(TP+TN+FN+FP),\n",
    "                            'Precision':TP/(TP+FP),\n",
    "                           'Sensitivity':TP/(TP+FN),\n",
    "                           'Specificity':TN/(TN+FP)},\n",
    "                           index=[\"Decision Tree\"]))\n",
    "evaluated_model"
   ]
  },
  {
   "cell_type": "markdown",
   "id": "c7ad5335",
   "metadata": {},
   "source": [
    "# Bagging"
   ]
  },
  {
   "cell_type": "code",
   "execution_count": 84,
   "id": "9fe9deaa",
   "metadata": {},
   "outputs": [],
   "source": [
    "bagging_class=RandomForestClassifier(n_estimators=300,max_features=9,random_state=123)"
   ]
  },
  {
   "cell_type": "markdown",
   "id": "acb87d25",
   "metadata": {},
   "source": [
    "# K-Fold for Bagging"
   ]
  },
  {
   "cell_type": "code",
   "execution_count": 85,
   "id": "537e37cb",
   "metadata": {},
   "outputs": [
    {
     "data": {
      "text/html": [
       "<div>\n",
       "<style scoped>\n",
       "    .dataframe tbody tr th:only-of-type {\n",
       "        vertical-align: middle;\n",
       "    }\n",
       "\n",
       "    .dataframe tbody tr th {\n",
       "        vertical-align: top;\n",
       "    }\n",
       "\n",
       "    .dataframe thead th {\n",
       "        text-align: right;\n",
       "    }\n",
       "</style>\n",
       "<table border=\"1\" class=\"dataframe\">\n",
       "  <thead>\n",
       "    <tr style=\"text-align: right;\">\n",
       "      <th></th>\n",
       "      <th>n_estimators</th>\n",
       "      <th>min_samples_leaf</th>\n",
       "    </tr>\n",
       "  </thead>\n",
       "  <tbody>\n",
       "    <tr>\n",
       "      <th>1</th>\n",
       "      <td>50</td>\n",
       "      <td>3</td>\n",
       "    </tr>\n",
       "    <tr>\n",
       "      <th>2</th>\n",
       "      <td>50</td>\n",
       "      <td>5</td>\n",
       "    </tr>\n",
       "    <tr>\n",
       "      <th>3</th>\n",
       "      <td>50</td>\n",
       "      <td>7</td>\n",
       "    </tr>\n",
       "    <tr>\n",
       "      <th>4</th>\n",
       "      <td>100</td>\n",
       "      <td>3</td>\n",
       "    </tr>\n",
       "    <tr>\n",
       "      <th>5</th>\n",
       "      <td>100</td>\n",
       "      <td>5</td>\n",
       "    </tr>\n",
       "    <tr>\n",
       "      <th>6</th>\n",
       "      <td>100</td>\n",
       "      <td>7</td>\n",
       "    </tr>\n",
       "    <tr>\n",
       "      <th>7</th>\n",
       "      <td>150</td>\n",
       "      <td>3</td>\n",
       "    </tr>\n",
       "    <tr>\n",
       "      <th>8</th>\n",
       "      <td>150</td>\n",
       "      <td>5</td>\n",
       "    </tr>\n",
       "    <tr>\n",
       "      <th>9</th>\n",
       "      <td>150</td>\n",
       "      <td>7</td>\n",
       "    </tr>\n",
       "  </tbody>\n",
       "</table>\n",
       "</div>"
      ],
      "text/plain": [
       "   n_estimators  min_samples_leaf\n",
       "1            50                 3\n",
       "2            50                 5\n",
       "3            50                 7\n",
       "4           100                 3\n",
       "5           100                 5\n",
       "6           100                 7\n",
       "7           150                 3\n",
       "8           150                 5\n",
       "9           150                 7"
      ]
     },
     "execution_count": 85,
     "metadata": {},
     "output_type": "execute_result"
    }
   ],
   "source": [
    "n_estimators=[50,100,150]\n",
    "min_samples_leaf=[3,5,7]\n",
    "grid=list(itertools.product(n_estimators,min_samples_leaf))\n",
    "grid=pd.DataFrame(grid,index=range(1,10),columns=['n_estimators','min_samples_leaf'])\n",
    "grid"
   ]
  },
  {
   "cell_type": "code",
   "execution_count": 86,
   "id": "5a420adf",
   "metadata": {},
   "outputs": [
    {
     "data": {
      "text/plain": [
       "[0.963223227435304,\n",
       " 0.9611824111087733,\n",
       " 0.9591205554386703,\n",
       " 0.963223227435304,\n",
       " 0.9652640437618345,\n",
       " 0.9611613717652009,\n",
       " 0.963223227435304,\n",
       " 0.963223227435304,\n",
       " 0.9591205554386703]"
      ]
     },
     "execution_count": 86,
     "metadata": {},
     "output_type": "execute_result"
    }
   ],
   "source": [
    "scor=[]\n",
    "for i in range(1,10):\n",
    "    rfr=RandomForestClassifier(n_estimators=grid.loc[i,'n_estimators'],\n",
    "                               min_samples_leaf=grid.loc[i,'min_samples_leaf']\n",
    "                            ,random_state=101\n",
    "                             )\n",
    "    Scores=cross_val_score(rfr,X=x_train,y=y_train,\n",
    "                           cv=5,scoring='accuracy')\n",
    "    scor.append(np.mean(Scores));\n",
    "scor"
   ]
  },
  {
   "cell_type": "code",
   "execution_count": 87,
   "id": "99aa6d93",
   "metadata": {
    "scrolled": true
   },
   "outputs": [
    {
     "data": {
      "text/plain": [
       "<matplotlib.lines.Line2D at 0x1abc3f15190>"
      ]
     },
     "execution_count": 87,
     "metadata": {},
     "output_type": "execute_result"
    },
    {
     "data": {
      "image/png": "[encoded data removed]",
      "text/plain": [
       "<Figure size 864x360 with 1 Axes>"
      ]
     },
     "metadata": {},
     "output_type": "display_data"
    }
   ],
   "source": [
    "plt.figure(figsize=(12,5))\n",
    "plt.plot(range(1,10),scor,marker='o',markersize=10,\n",
    "         markerfacecolor='red',color='black',\n",
    "        markeredgecolor='blue',markeredgewidth=2)\n",
    "plt.axvline(np.argmax(scor)+1,linestyle='--',color='black')"
   ]
  },
  {
   "cell_type": "markdown",
   "id": "31b1c1f7",
   "metadata": {},
   "source": [
    "# The Best Model for Bagging"
   ]
  },
  {
   "cell_type": "code",
   "execution_count": 88,
   "id": "c448515d",
   "metadata": {},
   "outputs": [
    {
     "data": {
      "text/plain": [
       "RandomForestClassifier(min_samples_leaf=5, random_state=101)"
      ]
     },
     "execution_count": 88,
     "metadata": {},
     "output_type": "execute_result"
    }
   ],
   "source": [
    "bag=RandomForestClassifier(n_estimators=grid.loc[5,'n_estimators'],\n",
    "                               min_samples_leaf=grid.loc[5,'min_samples_leaf']\n",
    "                           ,random_state=101)\n",
    "bag.fit(x_train,y_train)"
   ]
  },
  {
   "cell_type": "markdown",
   "id": "896c0e1b",
   "metadata": {},
   "source": [
    "# Prediction on test"
   ]
  },
  {
   "cell_type": "code",
   "execution_count": 89,
   "id": "07085914",
   "metadata": {},
   "outputs": [
    {
     "data": {
      "text/plain": [
       "array([1, 0, 0, 0, 1, 0, 1, 0, 1, 0, 1, 0, 1, 1, 0, 0, 0, 0, 1, 1, 1, 1,\n",
       "       0, 0, 0, 1, 1, 0, 0, 0, 0, 1, 1, 0, 1, 0, 1, 1, 0, 0, 0, 0, 1, 0,\n",
       "       1, 0, 1, 1, 0, 0, 0, 0, 1, 1, 0, 1, 0, 1, 1, 0, 0, 0, 0, 0, 0, 1,\n",
       "       0, 1, 0, 0, 1, 0, 0, 0, 1, 1, 1, 1, 0, 0, 1, 0, 1, 0, 0, 0, 0, 1,\n",
       "       0, 0, 1, 0, 0, 0, 0, 0, 0, 0, 0, 1, 0, 0, 0, 0, 0, 0, 0, 1, 0, 0,\n",
       "       0, 0, 0, 1, 0, 1, 1, 1, 0, 0, 0, 0, 0, 0, 0, 0, 1, 0, 0, 0, 0, 1,\n",
       "       0, 1, 1, 0, 1, 0, 1, 1, 0, 0, 1, 0, 0, 1, 1, 0, 0, 1, 1, 0, 0, 1,\n",
       "       1, 1, 1, 1, 1, 0, 0, 1, 1, 0, 0, 1, 1, 1, 0, 1, 0, 0, 0, 0, 0, 0,\n",
       "       0, 1, 1, 1, 0, 0, 1, 0, 1, 0, 0, 0, 0, 1, 1, 0, 1, 0, 1, 0, 0, 1,\n",
       "       0, 0, 0, 1, 0, 0, 0, 0, 0, 1, 0, 0], dtype=uint8)"
      ]
     },
     "execution_count": 89,
     "metadata": {},
     "output_type": "execute_result"
    }
   ],
   "source": [
    "pred_bag=bag.predict(x_test)\n",
    "pred_bag"
   ]
  },
  {
   "cell_type": "code",
   "execution_count": 90,
   "id": "61a464f2",
   "metadata": {},
   "outputs": [
    {
     "data": {
      "text/plain": [
       "array([[127,   2],\n",
       "       [  3,  78]], dtype=int64)"
      ]
     },
     "execution_count": 90,
     "metadata": {},
     "output_type": "execute_result"
    }
   ],
   "source": [
    "C_M=confusion_matrix(y_test,pred_bag)\n",
    "C_M"
   ]
  },
  {
   "cell_type": "code",
   "execution_count": 91,
   "id": "c9f98ea9",
   "metadata": {},
   "outputs": [
    {
     "data": {
      "text/html": [
       "<div>\n",
       "<style scoped>\n",
       "    .dataframe tbody tr th:only-of-type {\n",
       "        vertical-align: middle;\n",
       "    }\n",
       "\n",
       "    .dataframe tbody tr th {\n",
       "        vertical-align: top;\n",
       "    }\n",
       "\n",
       "    .dataframe thead th {\n",
       "        text-align: right;\n",
       "    }\n",
       "</style>\n",
       "<table border=\"1\" class=\"dataframe\">\n",
       "  <thead>\n",
       "    <tr style=\"text-align: right;\">\n",
       "      <th></th>\n",
       "      <th>Accuracy</th>\n",
       "      <th>Precision</th>\n",
       "      <th>Sensitivity</th>\n",
       "      <th>Specificity</th>\n",
       "    </tr>\n",
       "  </thead>\n",
       "  <tbody>\n",
       "    <tr>\n",
       "      <th>Logistic Regression</th>\n",
       "      <td>0.952381</td>\n",
       "      <td>0.973333</td>\n",
       "      <td>0.901235</td>\n",
       "      <td>0.984496</td>\n",
       "    </tr>\n",
       "    <tr>\n",
       "      <th>Decision Tree</th>\n",
       "      <td>0.928571</td>\n",
       "      <td>0.923077</td>\n",
       "      <td>0.888889</td>\n",
       "      <td>0.953488</td>\n",
       "    </tr>\n",
       "    <tr>\n",
       "      <th>Bagging</th>\n",
       "      <td>0.976190</td>\n",
       "      <td>0.975000</td>\n",
       "      <td>0.962963</td>\n",
       "      <td>0.984496</td>\n",
       "    </tr>\n",
       "  </tbody>\n",
       "</table>\n",
       "</div>"
      ],
      "text/plain": [
       "                     Accuracy  Precision  Sensitivity  Specificity\n",
       "Logistic Regression  0.952381   0.973333     0.901235     0.984496\n",
       "Decision Tree        0.928571   0.923077     0.888889     0.953488\n",
       "Bagging              0.976190   0.975000     0.962963     0.984496"
      ]
     },
     "execution_count": 91,
     "metadata": {},
     "output_type": "execute_result"
    }
   ],
   "source": [
    "TN=C_M[0,0]\n",
    "TP=C_M[1,1]\n",
    "FN=C_M[1,0]\n",
    "FP=C_M[0,1]\n",
    "evaluated_model=evaluated_model.append(pd.DataFrame({'Accuracy':(TN+TP)/(TP+TN+FN+FP),\n",
    "                            'Precision':TP/(TP+FP),\n",
    "                           'Sensitivity':TP/(TP+FN),\n",
    "                           'Specificity':TN/(TN+FP)},\n",
    "                           index=[\"Bagging\"]))\n",
    "evaluated_model"
   ]
  },
  {
   "cell_type": "markdown",
   "id": "a8f7c352",
   "metadata": {},
   "source": [
    "# Random Forest"
   ]
  },
  {
   "cell_type": "code",
   "execution_count": 92,
   "id": "5d722e13",
   "metadata": {},
   "outputs": [
    {
     "data": {
      "text/html": [
       "<div>\n",
       "<style scoped>\n",
       "    .dataframe tbody tr th:only-of-type {\n",
       "        vertical-align: middle;\n",
       "    }\n",
       "\n",
       "    .dataframe tbody tr th {\n",
       "        vertical-align: top;\n",
       "    }\n",
       "\n",
       "    .dataframe thead th {\n",
       "        text-align: right;\n",
       "    }\n",
       "</style>\n",
       "<table border=\"1\" class=\"dataframe\">\n",
       "  <thead>\n",
       "    <tr style=\"text-align: right;\">\n",
       "      <th></th>\n",
       "      <th>n_estimators</th>\n",
       "      <th>min_samples_leaf</th>\n",
       "      <th>max_features</th>\n",
       "    </tr>\n",
       "  </thead>\n",
       "  <tbody>\n",
       "    <tr>\n",
       "      <th>1</th>\n",
       "      <td>50</td>\n",
       "      <td>3</td>\n",
       "      <td>2</td>\n",
       "    </tr>\n",
       "    <tr>\n",
       "      <th>2</th>\n",
       "      <td>50</td>\n",
       "      <td>3</td>\n",
       "      <td>3</td>\n",
       "    </tr>\n",
       "    <tr>\n",
       "      <th>3</th>\n",
       "      <td>50</td>\n",
       "      <td>3</td>\n",
       "      <td>4</td>\n",
       "    </tr>\n",
       "    <tr>\n",
       "      <th>4</th>\n",
       "      <td>50</td>\n",
       "      <td>5</td>\n",
       "      <td>2</td>\n",
       "    </tr>\n",
       "    <tr>\n",
       "      <th>5</th>\n",
       "      <td>50</td>\n",
       "      <td>5</td>\n",
       "      <td>3</td>\n",
       "    </tr>\n",
       "    <tr>\n",
       "      <th>6</th>\n",
       "      <td>50</td>\n",
       "      <td>5</td>\n",
       "      <td>4</td>\n",
       "    </tr>\n",
       "    <tr>\n",
       "      <th>7</th>\n",
       "      <td>50</td>\n",
       "      <td>7</td>\n",
       "      <td>2</td>\n",
       "    </tr>\n",
       "    <tr>\n",
       "      <th>8</th>\n",
       "      <td>50</td>\n",
       "      <td>7</td>\n",
       "      <td>3</td>\n",
       "    </tr>\n",
       "    <tr>\n",
       "      <th>9</th>\n",
       "      <td>50</td>\n",
       "      <td>7</td>\n",
       "      <td>4</td>\n",
       "    </tr>\n",
       "    <tr>\n",
       "      <th>10</th>\n",
       "      <td>100</td>\n",
       "      <td>3</td>\n",
       "      <td>2</td>\n",
       "    </tr>\n",
       "    <tr>\n",
       "      <th>11</th>\n",
       "      <td>100</td>\n",
       "      <td>3</td>\n",
       "      <td>3</td>\n",
       "    </tr>\n",
       "    <tr>\n",
       "      <th>12</th>\n",
       "      <td>100</td>\n",
       "      <td>3</td>\n",
       "      <td>4</td>\n",
       "    </tr>\n",
       "    <tr>\n",
       "      <th>13</th>\n",
       "      <td>100</td>\n",
       "      <td>5</td>\n",
       "      <td>2</td>\n",
       "    </tr>\n",
       "    <tr>\n",
       "      <th>14</th>\n",
       "      <td>100</td>\n",
       "      <td>5</td>\n",
       "      <td>3</td>\n",
       "    </tr>\n",
       "    <tr>\n",
       "      <th>15</th>\n",
       "      <td>100</td>\n",
       "      <td>5</td>\n",
       "      <td>4</td>\n",
       "    </tr>\n",
       "    <tr>\n",
       "      <th>16</th>\n",
       "      <td>100</td>\n",
       "      <td>7</td>\n",
       "      <td>2</td>\n",
       "    </tr>\n",
       "    <tr>\n",
       "      <th>17</th>\n",
       "      <td>100</td>\n",
       "      <td>7</td>\n",
       "      <td>3</td>\n",
       "    </tr>\n",
       "    <tr>\n",
       "      <th>18</th>\n",
       "      <td>100</td>\n",
       "      <td>7</td>\n",
       "      <td>4</td>\n",
       "    </tr>\n",
       "    <tr>\n",
       "      <th>19</th>\n",
       "      <td>150</td>\n",
       "      <td>3</td>\n",
       "      <td>2</td>\n",
       "    </tr>\n",
       "    <tr>\n",
       "      <th>20</th>\n",
       "      <td>150</td>\n",
       "      <td>3</td>\n",
       "      <td>3</td>\n",
       "    </tr>\n",
       "    <tr>\n",
       "      <th>21</th>\n",
       "      <td>150</td>\n",
       "      <td>3</td>\n",
       "      <td>4</td>\n",
       "    </tr>\n",
       "    <tr>\n",
       "      <th>22</th>\n",
       "      <td>150</td>\n",
       "      <td>5</td>\n",
       "      <td>2</td>\n",
       "    </tr>\n",
       "    <tr>\n",
       "      <th>23</th>\n",
       "      <td>150</td>\n",
       "      <td>5</td>\n",
       "      <td>3</td>\n",
       "    </tr>\n",
       "    <tr>\n",
       "      <th>24</th>\n",
       "      <td>150</td>\n",
       "      <td>5</td>\n",
       "      <td>4</td>\n",
       "    </tr>\n",
       "    <tr>\n",
       "      <th>25</th>\n",
       "      <td>150</td>\n",
       "      <td>7</td>\n",
       "      <td>2</td>\n",
       "    </tr>\n",
       "    <tr>\n",
       "      <th>26</th>\n",
       "      <td>150</td>\n",
       "      <td>7</td>\n",
       "      <td>3</td>\n",
       "    </tr>\n",
       "    <tr>\n",
       "      <th>27</th>\n",
       "      <td>150</td>\n",
       "      <td>7</td>\n",
       "      <td>4</td>\n",
       "    </tr>\n",
       "  </tbody>\n",
       "</table>\n",
       "</div>"
      ],
      "text/plain": [
       "    n_estimators  min_samples_leaf  max_features\n",
       "1             50                 3             2\n",
       "2             50                 3             3\n",
       "3             50                 3             4\n",
       "4             50                 5             2\n",
       "5             50                 5             3\n",
       "6             50                 5             4\n",
       "7             50                 7             2\n",
       "8             50                 7             3\n",
       "9             50                 7             4\n",
       "10           100                 3             2\n",
       "11           100                 3             3\n",
       "12           100                 3             4\n",
       "13           100                 5             2\n",
       "14           100                 5             3\n",
       "15           100                 5             4\n",
       "16           100                 7             2\n",
       "17           100                 7             3\n",
       "18           100                 7             4\n",
       "19           150                 3             2\n",
       "20           150                 3             3\n",
       "21           150                 3             4\n",
       "22           150                 5             2\n",
       "23           150                 5             3\n",
       "24           150                 5             4\n",
       "25           150                 7             2\n",
       "26           150                 7             3\n",
       "27           150                 7             4"
      ]
     },
     "execution_count": 92,
     "metadata": {},
     "output_type": "execute_result"
    }
   ],
   "source": [
    "RFC=RandomForestClassifier(n_estimators=100,max_depth=4,max_features=5,min_samples_leaf=1,random_state=101)\n",
    "n_estimators=[50,100,150]\n",
    "min_samples_leaf=[3,5,7]\n",
    "max_features=[2,3,4]\n",
    "grid=list(itertools.product(n_estimators,min_samples_leaf,max_features))\n",
    "grid=pd.DataFrame(grid,index=range(1,28),columns=['n_estimators','min_samples_leaf','max_features'])\n",
    "grid"
   ]
  },
  {
   "cell_type": "code",
   "execution_count": 93,
   "id": "f5eaf6da",
   "metadata": {},
   "outputs": [
    {
     "data": {
      "text/plain": [
       "[0.9611824111087733,\n",
       " 0.963223227435304,\n",
       " 0.963223227435304,\n",
       " 0.963223227435304,\n",
       " 0.9611824111087733,\n",
       " 0.9570797391121397,\n",
       " 0.9632021880917314,\n",
       " 0.9591205554386703,\n",
       " 0.9529981064590786,\n",
       " 0.963223227435304,\n",
       " 0.963223227435304,\n",
       " 0.9591415947822428,\n",
       " 0.9652640437618345,\n",
       " 0.9652640437618345,\n",
       " 0.9570797391121397,\n",
       " 0.9652640437618345,\n",
       " 0.9611613717652009,\n",
       " 0.9570797391121397,\n",
       " 0.963223227435304,\n",
       " 0.963223227435304,\n",
       " 0.963223227435304,\n",
       " 0.9652640437618345,\n",
       " 0.963223227435304,\n",
       " 0.9591205554386703,\n",
       " 0.9652640437618345,\n",
       " 0.9591205554386703,\n",
       " 0.9591205554386703]"
      ]
     },
     "execution_count": 93,
     "metadata": {},
     "output_type": "execute_result"
    }
   ],
   "source": [
    "SC=[]\n",
    "for i in range(1,28):\n",
    "    RFC=RandomForestClassifier(n_estimators=grid.loc[i,'n_estimators'],\n",
    "                               min_samples_leaf=grid.loc[i,'min_samples_leaf'],\n",
    "                               max_features=grid.loc[i,'max_features'],random_state=101\n",
    "                             )\n",
    "    Scores=cross_val_score(RFC,X=x_train,y=y_train.values.ravel(),\n",
    "                           cv=5,scoring='accuracy')\n",
    "    SC.append(np.mean(Scores));\n",
    "SC    "
   ]
  },
  {
   "cell_type": "code",
   "execution_count": 94,
   "id": "b44ce2fe",
   "metadata": {},
   "outputs": [
    {
     "data": {
      "text/plain": [
       "<matplotlib.lines.Line2D at 0x1abc40d32e0>"
      ]
     },
     "execution_count": 94,
     "metadata": {},
     "output_type": "execute_result"
    },
    {
     "data": {
      "image/png": "[encoded data removed]",
      "text/plain": [
       "<Figure size 864x360 with 1 Axes>"
      ]
     },
     "metadata": {},
     "output_type": "display_data"
    }
   ],
   "source": [
    "plt.figure(figsize=(12,5))\n",
    "plt.plot(range(1,28),SC,marker='o',markersize=10,\n",
    "         markerfacecolor='green',linestyle='--',color='black',\n",
    "        markeredgecolor='black')\n",
    "plt.axvline(np.argmax(SC)+1,color='black',linestyle='--')"
   ]
  },
  {
   "cell_type": "markdown",
   "id": "f8f5f89f",
   "metadata": {},
   "source": [
    "# The Best Model for Random Forest"
   ]
  },
  {
   "cell_type": "code",
   "execution_count": 95,
   "id": "7540e1c3",
   "metadata": {},
   "outputs": [
    {
     "data": {
      "text/plain": [
       "RandomForestClassifier(max_features=2, min_samples_leaf=5, random_state=101)"
      ]
     },
     "execution_count": 95,
     "metadata": {},
     "output_type": "execute_result"
    }
   ],
   "source": [
    "RFC=RandomForestClassifier(n_estimators=grid.loc[13,'n_estimators'],\n",
    "                               min_samples_leaf=grid.loc[13,'min_samples_leaf'],\n",
    "                               max_features=grid.loc[13,'max_features'],random_state=101)\n",
    "RFC.fit(x_train,y_train)"
   ]
  },
  {
   "cell_type": "markdown",
   "id": "ed0d0bc9",
   "metadata": {},
   "source": [
    "### The Importance of Each Feature\n"
   ]
  },
  {
   "cell_type": "code",
   "execution_count": 96,
   "id": "0e71f236",
   "metadata": {
    "scrolled": true
   },
   "outputs": [
    {
     "data": {
      "text/html": [
       "<div>\n",
       "<style scoped>\n",
       "    .dataframe tbody tr th:only-of-type {\n",
       "        vertical-align: middle;\n",
       "    }\n",
       "\n",
       "    .dataframe tbody tr th {\n",
       "        vertical-align: top;\n",
       "    }\n",
       "\n",
       "    .dataframe thead th {\n",
       "        text-align: right;\n",
       "    }\n",
       "</style>\n",
       "<table border=\"1\" class=\"dataframe\">\n",
       "  <thead>\n",
       "    <tr style=\"text-align: right;\">\n",
       "      <th></th>\n",
       "      <th>importance</th>\n",
       "    </tr>\n",
       "  </thead>\n",
       "  <tbody>\n",
       "    <tr>\n",
       "      <th>Clump_Thickness</th>\n",
       "      <td>0.073254</td>\n",
       "    </tr>\n",
       "    <tr>\n",
       "      <th>Cell_Shape_Uniformity</th>\n",
       "      <td>0.217785</td>\n",
       "    </tr>\n",
       "    <tr>\n",
       "      <th>Cell_Shape_Uniformity</th>\n",
       "      <td>0.228624</td>\n",
       "    </tr>\n",
       "    <tr>\n",
       "      <th>Marginal_Adhesion</th>\n",
       "      <td>0.057778</td>\n",
       "    </tr>\n",
       "    <tr>\n",
       "      <th>Single_Epi_Cell_Size</th>\n",
       "      <td>0.074018</td>\n",
       "    </tr>\n",
       "    <tr>\n",
       "      <th>Bare_Nuclei</th>\n",
       "      <td>0.112212</td>\n",
       "    </tr>\n",
       "    <tr>\n",
       "      <th>Bland_Chromatin</th>\n",
       "      <td>0.145684</td>\n",
       "    </tr>\n",
       "    <tr>\n",
       "      <th>Normal_Nucleoli</th>\n",
       "      <td>0.079342</td>\n",
       "    </tr>\n",
       "    <tr>\n",
       "      <th>Mitoses</th>\n",
       "      <td>0.011302</td>\n",
       "    </tr>\n",
       "  </tbody>\n",
       "</table>\n",
       "</div>"
      ],
      "text/plain": [
       "                       importance\n",
       "Clump_Thickness          0.073254\n",
       "Cell_Shape_Uniformity    0.217785\n",
       "Cell_Shape_Uniformity    0.228624\n",
       "Marginal_Adhesion        0.057778\n",
       "Single_Epi_Cell_Size     0.074018\n",
       "Bare_Nuclei              0.112212\n",
       "Bland_Chromatin          0.145684\n",
       "Normal_Nucleoli          0.079342\n",
       "Mitoses                  0.011302"
      ]
     },
     "execution_count": 96,
     "metadata": {},
     "output_type": "execute_result"
    }
   ],
   "source": [
    "RFC.feature_importances_\n",
    "importance=pd.DataFrame(RFC.feature_importances_,index=[x_train.columns],columns=[\"importance\"])\n",
    "importance"
   ]
  },
  {
   "cell_type": "code",
   "execution_count": 97,
   "id": "0dcd2d86",
   "metadata": {},
   "outputs": [
    {
     "data": {
      "text/plain": [
       "<Figure size 1080x720 with 0 Axes>"
      ]
     },
     "metadata": {},
     "output_type": "display_data"
    },
    {
     "data": {
      "image/png": "[encoded data removed]",
      "text/plain": [
       "<Figure size 432x288 with 1 Axes>"
      ]
     },
     "metadata": {},
     "output_type": "display_data"
    }
   ],
   "source": [
    "plt.figure(figsize=(15,10))\n",
    "importance.sort_values(by='importance',ascending=True).plot(kind='barh',color='purple',legend=None)\n",
    "plt.xlabel('Importance',color='blue',fontsize=12)\n",
    "plt.ylabel('Features',color='blue',fontsize=12)\n",
    "plt.title('The Importance of variable',color='blue',fontsize=14);"
   ]
  },
  {
   "cell_type": "markdown",
   "id": "e8abb0d6",
   "metadata": {},
   "source": [
    "## Prediction on test data\n"
   ]
  },
  {
   "cell_type": "code",
   "execution_count": 98,
   "id": "26ed85a2",
   "metadata": {},
   "outputs": [
    {
     "data": {
      "text/plain": [
       "array([1, 0, 0, 0, 1, 0, 1, 0, 1, 0, 1, 0, 1, 1, 0, 0, 0, 0, 1, 1, 1, 1,\n",
       "       0, 0, 0, 1, 1, 0, 0, 0, 0, 1, 1, 0, 1, 0, 1, 1, 0, 0, 0, 0, 1, 0,\n",
       "       1, 0, 1, 1, 0, 0, 0, 0, 1, 1, 0, 1, 0, 1, 1, 0, 0, 0, 0, 0, 0, 1,\n",
       "       0, 1, 0, 0, 1, 0, 0, 0, 1, 1, 1, 1, 0, 0, 1, 0, 1, 0, 0, 0, 0, 1,\n",
       "       0, 0, 1, 0, 0, 0, 0, 0, 0, 0, 0, 1, 0, 0, 0, 0, 0, 0, 0, 1, 0, 0,\n",
       "       0, 0, 0, 1, 0, 1, 1, 1, 0, 0, 0, 0, 0, 0, 0, 0, 1, 0, 0, 0, 0, 1,\n",
       "       0, 1, 1, 0, 1, 0, 1, 1, 0, 0, 1, 0, 0, 1, 1, 0, 0, 1, 1, 0, 0, 1,\n",
       "       1, 1, 1, 1, 1, 0, 0, 1, 1, 0, 0, 1, 1, 1, 0, 1, 0, 0, 0, 0, 0, 0,\n",
       "       0, 1, 1, 1, 0, 0, 1, 0, 1, 0, 0, 0, 0, 1, 1, 0, 1, 0, 1, 0, 0, 1,\n",
       "       0, 0, 0, 1, 0, 0, 0, 0, 0, 1, 0, 0], dtype=uint8)"
      ]
     },
     "execution_count": 98,
     "metadata": {},
     "output_type": "execute_result"
    }
   ],
   "source": [
    "pred_rfc=RFC.predict(x_test)\n",
    "pred_rfc"
   ]
  },
  {
   "cell_type": "code",
   "execution_count": 102,
   "id": "a083d10d",
   "metadata": {},
   "outputs": [
    {
     "data": {
      "text/plain": [
       "array([[127,   2],\n",
       "       [  3,  78]], dtype=int64)"
      ]
     },
     "execution_count": 102,
     "metadata": {},
     "output_type": "execute_result"
    }
   ],
   "source": [
    "C_M=confusion_matrix(y_test,pred_rfc)\n",
    "C_M"
   ]
  },
  {
   "cell_type": "code",
   "execution_count": 120,
   "id": "67d6b944",
   "metadata": {},
   "outputs": [
    {
     "data": {
      "text/html": [
       "<div>\n",
       "<style scoped>\n",
       "    .dataframe tbody tr th:only-of-type {\n",
       "        vertical-align: middle;\n",
       "    }\n",
       "\n",
       "    .dataframe tbody tr th {\n",
       "        vertical-align: top;\n",
       "    }\n",
       "\n",
       "    .dataframe thead th {\n",
       "        text-align: right;\n",
       "    }\n",
       "</style>\n",
       "<table border=\"1\" class=\"dataframe\">\n",
       "  <thead>\n",
       "    <tr style=\"text-align: right;\">\n",
       "      <th></th>\n",
       "      <th>Accuracy</th>\n",
       "      <th>Precision</th>\n",
       "      <th>Sensitivity</th>\n",
       "      <th>Specificity</th>\n",
       "    </tr>\n",
       "  </thead>\n",
       "  <tbody>\n",
       "    <tr>\n",
       "      <th>Logistic Regression</th>\n",
       "      <td>0.952381</td>\n",
       "      <td>0.973333</td>\n",
       "      <td>0.901235</td>\n",
       "      <td>0.984496</td>\n",
       "    </tr>\n",
       "    <tr>\n",
       "      <th>Decision Tree</th>\n",
       "      <td>0.928571</td>\n",
       "      <td>0.923077</td>\n",
       "      <td>0.888889</td>\n",
       "      <td>0.953488</td>\n",
       "    </tr>\n",
       "    <tr>\n",
       "      <th>Bagging</th>\n",
       "      <td>0.976190</td>\n",
       "      <td>0.975000</td>\n",
       "      <td>0.962963</td>\n",
       "      <td>0.984496</td>\n",
       "    </tr>\n",
       "    <tr>\n",
       "      <th>Random Forest</th>\n",
       "      <td>0.976190</td>\n",
       "      <td>0.975000</td>\n",
       "      <td>0.962963</td>\n",
       "      <td>0.984496</td>\n",
       "    </tr>\n",
       "  </tbody>\n",
       "</table>\n",
       "</div>"
      ],
      "text/plain": [
       "                     Accuracy  Precision  Sensitivity  Specificity\n",
       "Logistic Regression  0.952381   0.973333     0.901235     0.984496\n",
       "Decision Tree        0.928571   0.923077     0.888889     0.953488\n",
       "Bagging              0.976190   0.975000     0.962963     0.984496\n",
       "Random Forest        0.976190   0.975000     0.962963     0.984496"
      ]
     },
     "execution_count": 120,
     "metadata": {},
     "output_type": "execute_result"
    }
   ],
   "source": [
    "TN=C_M[0,0]\n",
    "TP=C_M[1,1]\n",
    "FN=C_M[1,0]\n",
    "FP=C_M[0,1]\n",
    "evaluated_model=evaluated_model.append(pd.DataFrame({'Accuracy':(TN+TP)/(TP+TN+FN+FP),\n",
    "                            'Precision':TP/(TP+FP),\n",
    "                           'Sensitivity':TP/(TP+FN),\n",
    "                           'Specificity':TN/(TN+FP)},\n",
    "                           index=[\"Random Forest\"]))\n",
    "evaluated_model"
   ]
  },
  {
   "cell_type": "markdown",
   "id": "d873bb5a",
   "metadata": {},
   "source": [
    "# Linear Discriminant analysis"
   ]
  },
  {
   "cell_type": "code",
   "execution_count": 122,
   "id": "8121fbe2",
   "metadata": {},
   "outputs": [
    {
     "data": {
      "text/plain": [
       "array([[2.21488353e-03, 9.97785116e-01],\n",
       "       [9.99999751e-01, 2.48912284e-07],\n",
       "       [9.99996181e-01, 3.81927481e-06],\n",
       "       [9.99997441e-01, 2.55931216e-06],\n",
       "       [4.38462600e-11, 1.00000000e+00],\n",
       "       [9.99594597e-01, 4.05402746e-04],\n",
       "       [8.61215357e-05, 9.99913878e-01],\n",
       "       [9.99987249e-01, 1.27509689e-05],\n",
       "       [1.99438027e-05, 9.99980056e-01],\n",
       "       [9.99998465e-01, 1.53530500e-06],\n",
       "       [5.81054222e-06, 9.99994189e-01],\n",
       "       [9.77640015e-01, 2.23599845e-02],\n",
       "       [6.70331238e-07, 9.99999330e-01],\n",
       "       [9.60704544e-04, 9.99039295e-01],\n",
       "       [9.99989456e-01, 1.05443446e-05],\n",
       "       [9.99998971e-01, 1.02881359e-06],\n",
       "       [9.99366850e-01, 6.33149592e-04],\n",
       "       [9.99840529e-01, 1.59471065e-04],\n",
       "       [8.05193994e-08, 9.99999919e-01],\n",
       "       [3.39915074e-09, 9.99999997e-01],\n",
       "       [3.58340024e-11, 1.00000000e+00],\n",
       "       [6.58652890e-05, 9.99934135e-01],\n",
       "       [9.99986846e-01, 1.31540126e-05],\n",
       "       [9.99998465e-01, 1.53530500e-06],\n",
       "       [9.99999834e-01, 1.66250361e-07],\n",
       "       [1.79872669e-01, 8.20127331e-01],\n",
       "       [1.95080830e-07, 9.99999805e-01],\n",
       "       [9.99992326e-01, 7.67435572e-06],\n",
       "       [9.99997449e-01, 2.55092499e-06],\n",
       "       [9.99998465e-01, 1.53530500e-06],\n",
       "       [9.98557924e-01, 1.44207577e-03],\n",
       "       [1.32687487e-04, 9.99867313e-01],\n",
       "       [5.03515111e-08, 9.99999950e-01],\n",
       "       [9.99257557e-01, 7.42442805e-04],\n",
       "       [3.52721366e-07, 9.99999647e-01],\n",
       "       [9.99933902e-01, 6.60980389e-05],\n",
       "       [1.51568757e-05, 9.99984843e-01],\n",
       "       [9.23495801e-05, 9.99907650e-01],\n",
       "       [9.99999383e-01, 6.17174296e-07],\n",
       "       [9.99963938e-01, 3.60624922e-05],\n",
       "       [9.98836540e-01, 1.16345957e-03],\n",
       "       [9.99998685e-01, 1.31529861e-06],\n",
       "       [3.83338564e-08, 9.99999962e-01],\n",
       "       [9.99982640e-01, 1.73598249e-05],\n",
       "       [2.24553682e-04, 9.99775446e-01],\n",
       "       [9.99998018e-01, 1.98225258e-06],\n",
       "       [4.87579910e-09, 9.99999995e-01],\n",
       "       [7.05041359e-10, 9.99999999e-01],\n",
       "       [9.99997441e-01, 2.55931216e-06],\n",
       "       [9.98967300e-01, 1.03270006e-03],\n",
       "       [9.99999358e-01, 6.41537758e-07],\n",
       "       [9.99999834e-01, 1.66250361e-07],\n",
       "       [2.00578376e-05, 9.99979942e-01],\n",
       "       [3.00386066e-05, 9.99969961e-01],\n",
       "       [9.99999520e-01, 4.79588704e-07],\n",
       "       [4.95979481e-06, 9.99995040e-01],\n",
       "       [9.99999834e-01, 1.66250361e-07],\n",
       "       [3.95101418e-05, 9.99960490e-01],\n",
       "       [1.43549089e-07, 9.99999856e-01],\n",
       "       [9.99986846e-01, 1.31540126e-05],\n",
       "       [9.99998549e-01, 1.45120742e-06],\n",
       "       [9.99989812e-01, 1.01881427e-05],\n",
       "       [9.99995069e-01, 4.93111289e-06],\n",
       "       [9.89274603e-01, 1.07253969e-02],\n",
       "       [9.99999383e-01, 6.17174296e-07],\n",
       "       [1.14881676e-02, 9.88511832e-01],\n",
       "       [9.99999203e-01, 7.96842101e-07],\n",
       "       [1.02144355e-07, 9.99999898e-01],\n",
       "       [9.99999751e-01, 2.48912284e-07],\n",
       "       [9.99998465e-01, 1.53530500e-06],\n",
       "       [1.24828497e-05, 9.99987517e-01],\n",
       "       [9.99993021e-01, 6.97850854e-06],\n",
       "       [9.99998778e-01, 1.22234582e-06],\n",
       "       [9.99999383e-01, 6.17174296e-07],\n",
       "       [1.00562931e-03, 9.98994371e-01],\n",
       "       [2.42387953e-04, 9.99757612e-01],\n",
       "       [4.27791136e-12, 1.00000000e+00],\n",
       "       [1.17345746e-04, 9.99882654e-01],\n",
       "       [9.99998018e-01, 1.98225258e-06],\n",
       "       [9.84184286e-01, 1.58157140e-02],\n",
       "       [5.41612607e-05, 9.99945839e-01],\n",
       "       [9.99988675e-01, 1.13252538e-05],\n",
       "       [4.49948957e-04, 9.99550051e-01],\n",
       "       [9.99983017e-01, 1.69832620e-05],\n",
       "       [9.99995053e-01, 4.94732582e-06],\n",
       "       [9.99999680e-01, 3.20320877e-07],\n",
       "       [9.99912717e-01, 8.72831016e-05],\n",
       "       [3.12348250e-05, 9.99968765e-01],\n",
       "       [9.99994056e-01, 5.94399120e-06],\n",
       "       [9.99996181e-01, 3.81927481e-06],\n",
       "       [2.23287322e-04, 9.99776713e-01],\n",
       "       [9.99998018e-01, 1.98225258e-06],\n",
       "       [9.99998018e-01, 1.98225258e-06],\n",
       "       [9.99936956e-01, 6.30444026e-05],\n",
       "       [9.99997721e-01, 2.27938744e-06],\n",
       "       [9.99973175e-01, 2.68247928e-05],\n",
       "       [9.99910422e-01, 8.95779528e-05],\n",
       "       [9.99993633e-01, 6.36661871e-06],\n",
       "       [9.99795063e-01, 2.04936607e-04],\n",
       "       [1.28954625e-11, 1.00000000e+00],\n",
       "       [9.99998875e-01, 1.12524178e-06],\n",
       "       [9.99999586e-01, 4.13570662e-07],\n",
       "       [9.99999586e-01, 4.13570662e-07],\n",
       "       [9.99791167e-01, 2.08833150e-04],\n",
       "       [9.99997827e-01, 2.17276595e-06],\n",
       "       [9.99999383e-01, 6.17174296e-07],\n",
       "       [9.99999146e-01, 8.54479979e-07],\n",
       "       [1.80354728e-02, 9.81964527e-01],\n",
       "       [9.89177811e-01, 1.08221894e-02],\n",
       "       [9.99999680e-01, 3.20320877e-07],\n",
       "       [9.99991039e-01, 8.96098724e-06],\n",
       "       [9.99820610e-01, 1.79390417e-04],\n",
       "       [9.99999383e-01, 6.17174296e-07],\n",
       "       [6.63869836e-01, 3.36130164e-01],\n",
       "       [9.99999381e-01, 6.19203502e-07],\n",
       "       [2.55831485e-06, 9.99997442e-01],\n",
       "       [7.97374135e-06, 9.99992026e-01],\n",
       "       [2.69893673e-06, 9.99997301e-01],\n",
       "       [9.99999834e-01, 1.66250361e-07],\n",
       "       [9.99999383e-01, 6.17174296e-07],\n",
       "       [9.99981634e-01, 1.83658112e-05],\n",
       "       [9.99997441e-01, 2.55931216e-06],\n",
       "       [9.99999751e-01, 2.48912284e-07],\n",
       "       [9.99999520e-01, 4.79588704e-07],\n",
       "       [9.99954697e-01, 4.53028672e-05],\n",
       "       [9.99951865e-01, 4.81352526e-05],\n",
       "       [3.14686006e-04, 9.99685314e-01],\n",
       "       [9.99999383e-01, 6.17174296e-07],\n",
       "       [9.99991975e-01, 8.02456408e-06],\n",
       "       [9.99980972e-01, 1.90282415e-05],\n",
       "       [9.99999383e-01, 6.17174296e-07],\n",
       "       [3.00515168e-12, 1.00000000e+00],\n",
       "       [9.99999834e-01, 1.66250361e-07],\n",
       "       [1.18260888e-04, 9.99881739e-01],\n",
       "       [2.51327715e-01, 7.48672285e-01],\n",
       "       [9.99997441e-01, 2.55931216e-06],\n",
       "       [1.06427980e-07, 9.99999894e-01],\n",
       "       [9.99999680e-01, 3.20320877e-07],\n",
       "       [6.64107246e-07, 9.99999336e-01],\n",
       "       [1.13040474e-03, 9.98869595e-01],\n",
       "       [9.99887310e-01, 1.12689553e-04],\n",
       "       [9.99956142e-01, 4.38576217e-05],\n",
       "       [5.58072886e-07, 9.99999442e-01],\n",
       "       [9.99999203e-01, 7.96842101e-07],\n",
       "       [9.99999383e-01, 6.17174296e-07],\n",
       "       [1.56914523e-05, 9.99984309e-01],\n",
       "       [5.64230997e-03, 9.94357690e-01],\n",
       "       [9.99963526e-01, 3.64736651e-05],\n",
       "       [9.99997904e-01, 2.09626610e-06],\n",
       "       [2.24599311e-04, 9.99775401e-01],\n",
       "       [2.91292301e-09, 9.99999997e-01],\n",
       "       [9.99999203e-01, 7.96842101e-07],\n",
       "       [9.99999834e-01, 1.66250361e-07],\n",
       "       [3.18932361e-02, 9.68106764e-01],\n",
       "       [1.45972388e-01, 8.54027612e-01],\n",
       "       [1.60778245e-02, 9.83922175e-01],\n",
       "       [3.09044283e-01, 6.90955717e-01],\n",
       "       [1.97174456e-07, 9.99999803e-01],\n",
       "       [2.85014362e-02, 9.71498564e-01],\n",
       "       [9.99994607e-01, 5.39329212e-06],\n",
       "       [9.99999680e-01, 3.20320877e-07],\n",
       "       [1.67212800e-07, 9.99999833e-01],\n",
       "       [2.27807033e-03, 9.97721930e-01],\n",
       "       [9.99999586e-01, 4.13570662e-07],\n",
       "       [9.99843946e-01, 1.56054373e-04],\n",
       "       [1.54543510e-05, 9.99984546e-01],\n",
       "       [3.31380877e-06, 9.99996686e-01],\n",
       "       [2.99667559e-01, 7.00332441e-01],\n",
       "       [9.99879059e-01, 1.20940697e-04],\n",
       "       [6.06237838e-09, 9.99999994e-01],\n",
       "       [9.99997827e-01, 2.17276595e-06],\n",
       "       [9.99964538e-01, 3.54622256e-05],\n",
       "       [9.99995069e-01, 4.93111289e-06],\n",
       "       [9.89961885e-01, 1.00381151e-02],\n",
       "       [9.99998971e-01, 1.02881359e-06],\n",
       "       [9.99996181e-01, 3.81927481e-06],\n",
       "       [9.99996181e-01, 3.81927481e-06],\n",
       "       [2.06006447e-05, 9.99979399e-01],\n",
       "       [5.39827021e-01, 4.60172979e-01],\n",
       "       [2.64338356e-03, 9.97356616e-01],\n",
       "       [9.99999742e-01, 2.57614943e-07],\n",
       "       [9.99993633e-01, 6.36661871e-06],\n",
       "       [5.40010259e-11, 1.00000000e+00],\n",
       "       [9.99999383e-01, 6.17174296e-07],\n",
       "       [2.55383769e-01, 7.44616231e-01],\n",
       "       [9.99996181e-01, 3.81927481e-06],\n",
       "       [8.99664966e-01, 1.00335034e-01],\n",
       "       [9.99998971e-01, 1.02881359e-06],\n",
       "       [9.99993633e-01, 6.36661871e-06],\n",
       "       [1.97777647e-04, 9.99802222e-01],\n",
       "       [1.22440351e-05, 9.99987756e-01],\n",
       "       [9.99140744e-01, 8.59256192e-04],\n",
       "       [1.83801754e-01, 8.16198246e-01],\n",
       "       [9.99993633e-01, 6.36661871e-06],\n",
       "       [6.41088331e-03, 9.93589117e-01],\n",
       "       [9.99994712e-01, 5.28779287e-06],\n",
       "       [9.99984110e-01, 1.58901153e-05],\n",
       "       [4.60442230e-08, 9.99999954e-01],\n",
       "       [9.99998018e-01, 1.98225258e-06],\n",
       "       [9.99982678e-01, 1.73220990e-05],\n",
       "       [9.99998817e-01, 1.18303042e-06],\n",
       "       [5.47405230e-06, 9.99994526e-01],\n",
       "       [9.99831842e-01, 1.68158087e-04],\n",
       "       [9.99999383e-01, 6.17174296e-07],\n",
       "       [9.99999383e-01, 6.17174296e-07],\n",
       "       [9.99999667e-01, 3.32965810e-07],\n",
       "       [9.99996181e-01, 3.81927481e-06],\n",
       "       [1.18390010e-06, 9.99998816e-01],\n",
       "       [9.99998018e-01, 1.98225258e-06],\n",
       "       [9.99999871e-01, 1.29188444e-07]])"
      ]
     },
     "execution_count": 122,
     "metadata": {},
     "output_type": "execute_result"
    }
   ],
   "source": [
    "lda=LinearDiscriminantAnalysis()\n",
    "lda.fit(x_train,y_train)\n",
    "lda.predict_proba(x_test)"
   ]
  },
  {
   "cell_type": "code",
   "execution_count": 123,
   "id": "ed810066",
   "metadata": {},
   "outputs": [
    {
     "data": {
      "text/plain": [
       "array([1, 0, 0, 0, 1, 0, 1, 0, 1, 0, 1, 0, 1, 1, 0, 0, 0, 0, 1, 1, 1, 1,\n",
       "       0, 0, 0, 1, 1, 0, 0, 0, 0, 1, 1, 0, 1, 0, 1, 1, 0, 0, 0, 0, 1, 0,\n",
       "       1, 0, 1, 1, 0, 0, 0, 0, 1, 1, 0, 1, 0, 1, 1, 0, 0, 0, 0, 0, 0, 1,\n",
       "       0, 1, 0, 0, 1, 0, 0, 0, 1, 1, 1, 1, 0, 0, 1, 0, 1, 0, 0, 0, 0, 1,\n",
       "       0, 0, 1, 0, 0, 0, 0, 0, 0, 0, 0, 1, 0, 0, 0, 0, 0, 0, 0, 1, 0, 0,\n",
       "       0, 0, 0, 0, 0, 1, 1, 1, 0, 0, 0, 0, 0, 0, 0, 0, 1, 0, 0, 0, 0, 1,\n",
       "       0, 1, 1, 0, 1, 0, 1, 1, 0, 0, 1, 0, 0, 1, 1, 0, 0, 1, 1, 0, 0, 1,\n",
       "       1, 1, 1, 1, 1, 0, 0, 1, 1, 0, 0, 1, 1, 1, 0, 1, 0, 0, 0, 0, 0, 0,\n",
       "       0, 1, 0, 1, 0, 0, 1, 0, 1, 0, 0, 0, 0, 1, 1, 0, 1, 0, 1, 0, 0, 1,\n",
       "       0, 0, 0, 1, 0, 0, 0, 0, 0, 1, 0, 0], dtype=uint8)"
      ]
     },
     "execution_count": 123,
     "metadata": {},
     "output_type": "execute_result"
    }
   ],
   "source": [
    "pred_lda=lda.predict(x_test)\n",
    "pred_lda"
   ]
  },
  {
   "cell_type": "code",
   "execution_count": 124,
   "id": "d0a84ea7",
   "metadata": {},
   "outputs": [
    {
     "data": {
      "text/plain": [
       "array([[127,   2],\n",
       "       [  5,  76]], dtype=int64)"
      ]
     },
     "execution_count": 124,
     "metadata": {},
     "output_type": "execute_result"
    }
   ],
   "source": [
    "C_M=confusion_matrix(y_test,pred_lda)\n",
    "C_M"
   ]
  },
  {
   "cell_type": "code",
   "execution_count": 125,
   "id": "1f9e893b",
   "metadata": {},
   "outputs": [
    {
     "data": {
      "text/html": [
       "<div>\n",
       "<style scoped>\n",
       "    .dataframe tbody tr th:only-of-type {\n",
       "        vertical-align: middle;\n",
       "    }\n",
       "\n",
       "    .dataframe tbody tr th {\n",
       "        vertical-align: top;\n",
       "    }\n",
       "\n",
       "    .dataframe thead th {\n",
       "        text-align: right;\n",
       "    }\n",
       "</style>\n",
       "<table border=\"1\" class=\"dataframe\">\n",
       "  <thead>\n",
       "    <tr style=\"text-align: right;\">\n",
       "      <th></th>\n",
       "      <th>Accuracy</th>\n",
       "      <th>Precision</th>\n",
       "      <th>Sensitivity</th>\n",
       "      <th>Specificity</th>\n",
       "    </tr>\n",
       "  </thead>\n",
       "  <tbody>\n",
       "    <tr>\n",
       "      <th>Logistic Regression</th>\n",
       "      <td>0.952381</td>\n",
       "      <td>0.973333</td>\n",
       "      <td>0.901235</td>\n",
       "      <td>0.984496</td>\n",
       "    </tr>\n",
       "    <tr>\n",
       "      <th>Decision Tree</th>\n",
       "      <td>0.928571</td>\n",
       "      <td>0.923077</td>\n",
       "      <td>0.888889</td>\n",
       "      <td>0.953488</td>\n",
       "    </tr>\n",
       "    <tr>\n",
       "      <th>Bagging</th>\n",
       "      <td>0.976190</td>\n",
       "      <td>0.975000</td>\n",
       "      <td>0.962963</td>\n",
       "      <td>0.984496</td>\n",
       "    </tr>\n",
       "    <tr>\n",
       "      <th>Random Forest</th>\n",
       "      <td>0.976190</td>\n",
       "      <td>0.975000</td>\n",
       "      <td>0.962963</td>\n",
       "      <td>0.984496</td>\n",
       "    </tr>\n",
       "    <tr>\n",
       "      <th>LDA</th>\n",
       "      <td>0.966667</td>\n",
       "      <td>0.974359</td>\n",
       "      <td>0.938272</td>\n",
       "      <td>0.984496</td>\n",
       "    </tr>\n",
       "  </tbody>\n",
       "</table>\n",
       "</div>"
      ],
      "text/plain": [
       "                     Accuracy  Precision  Sensitivity  Specificity\n",
       "Logistic Regression  0.952381   0.973333     0.901235     0.984496\n",
       "Decision Tree        0.928571   0.923077     0.888889     0.953488\n",
       "Bagging              0.976190   0.975000     0.962963     0.984496\n",
       "Random Forest        0.976190   0.975000     0.962963     0.984496\n",
       "LDA                  0.966667   0.974359     0.938272     0.984496"
      ]
     },
     "execution_count": 125,
     "metadata": {},
     "output_type": "execute_result"
    }
   ],
   "source": [
    "TN=C_M[0,0]\n",
    "TP=C_M[1,1]\n",
    "FN=C_M[1,0]\n",
    "FP=C_M[0,1]\n",
    "evaluated_model=evaluated_model.append(pd.DataFrame({'Accuracy':(TN+TP)/(TP+TN+FN+FP),\n",
    "                            'Precision':TP/(TP+FP),\n",
    "                           'Sensitivity':TP/(TP+FN),\n",
    "                           'Specificity':TN/(TN+FP)},\n",
    "                           index=[\"LDA\"]))\n",
    "evaluated_model"
   ]
  },
  {
   "cell_type": "markdown",
   "id": "1f931dfa",
   "metadata": {},
   "source": [
    "# SVM"
   ]
  },
  {
   "cell_type": "code",
   "execution_count": 129,
   "id": "510c4640",
   "metadata": {},
   "outputs": [
    {
     "data": {
      "text/html": [
       "<div>\n",
       "<style scoped>\n",
       "    .dataframe tbody tr th:only-of-type {\n",
       "        vertical-align: middle;\n",
       "    }\n",
       "\n",
       "    .dataframe tbody tr th {\n",
       "        vertical-align: top;\n",
       "    }\n",
       "\n",
       "    .dataframe thead th {\n",
       "        text-align: right;\n",
       "    }\n",
       "</style>\n",
       "<table border=\"1\" class=\"dataframe\">\n",
       "  <thead>\n",
       "    <tr style=\"text-align: right;\">\n",
       "      <th></th>\n",
       "      <th>C</th>\n",
       "      <th>degree</th>\n",
       "    </tr>\n",
       "  </thead>\n",
       "  <tbody>\n",
       "    <tr>\n",
       "      <th>1</th>\n",
       "      <td>1</td>\n",
       "      <td>2</td>\n",
       "    </tr>\n",
       "    <tr>\n",
       "      <th>2</th>\n",
       "      <td>1</td>\n",
       "      <td>3</td>\n",
       "    </tr>\n",
       "    <tr>\n",
       "      <th>3</th>\n",
       "      <td>1</td>\n",
       "      <td>4</td>\n",
       "    </tr>\n",
       "    <tr>\n",
       "      <th>4</th>\n",
       "      <td>2</td>\n",
       "      <td>2</td>\n",
       "    </tr>\n",
       "    <tr>\n",
       "      <th>5</th>\n",
       "      <td>2</td>\n",
       "      <td>3</td>\n",
       "    </tr>\n",
       "    <tr>\n",
       "      <th>6</th>\n",
       "      <td>2</td>\n",
       "      <td>4</td>\n",
       "    </tr>\n",
       "    <tr>\n",
       "      <th>7</th>\n",
       "      <td>3</td>\n",
       "      <td>2</td>\n",
       "    </tr>\n",
       "    <tr>\n",
       "      <th>8</th>\n",
       "      <td>3</td>\n",
       "      <td>3</td>\n",
       "    </tr>\n",
       "    <tr>\n",
       "      <th>9</th>\n",
       "      <td>3</td>\n",
       "      <td>4</td>\n",
       "    </tr>\n",
       "  </tbody>\n",
       "</table>\n",
       "</div>"
      ],
      "text/plain": [
       "   C  degree\n",
       "1  1       2\n",
       "2  1       3\n",
       "3  1       4\n",
       "4  2       2\n",
       "5  2       3\n",
       "6  2       4\n",
       "7  3       2\n",
       "8  3       3\n",
       "9  3       4"
      ]
     },
     "execution_count": 129,
     "metadata": {},
     "output_type": "execute_result"
    }
   ],
   "source": [
    "from sklearn.svm import SVC\n",
    "svc=SVC(C=1.0,\n",
    "        kernel='poly', \n",
    "        degree=3,\n",
    "random_state=101)\n",
    "C=[1,2,3]\n",
    "degree=[2,3,4]  \n",
    "grid=itertools.product(C,degree)\n",
    "grid=pd.DataFrame(grid,index=range(1,10),columns=['C','degree'])\n",
    "grid"
   ]
  },
  {
   "cell_type": "code",
   "execution_count": 132,
   "id": "b6a39177",
   "metadata": {},
   "outputs": [
    {
     "data": {
      "text/plain": [
       "[0.9632227891156461,\n",
       " 0.9632227891156461,\n",
       " 0.9632227891156461,\n",
       " 0.969345238095238,\n",
       " 0.969345238095238,\n",
       " 0.969345238095238,\n",
       " 0.9673044217687075,\n",
       " 0.9673044217687075,\n",
       " 0.9673044217687075]"
      ]
     },
     "execution_count": 132,
     "metadata": {},
     "output_type": "execute_result"
    }
   ],
   "source": [
    "from sklearn.model_selection import cross_val_score\n",
    "scsvc=[]\n",
    "for i in range(0,9):\n",
    "    svc=SVC(C=grid.iloc[i,0],\n",
    "           degree=grid.iloc[i,1],random_state=101)\n",
    "    scores=cross_val_score(estimator=svc,X=x_train,\n",
    "                          y=y_train,\n",
    "                          cv=10,scoring='accuracy')\n",
    "    scsvc.append(np.mean(scores))\n",
    "scsvc    "
   ]
  },
  {
   "cell_type": "code",
   "execution_count": 133,
   "id": "58a38306",
   "metadata": {},
   "outputs": [
    {
     "data": {
      "text/plain": [
       "<matplotlib.lines.Line2D at 0x1abc6bdd340>"
      ]
     },
     "execution_count": 133,
     "metadata": {},
     "output_type": "execute_result"
    },
    {
     "data": {
      "image/png": "[encoded data removed]",
      "text/plain": [
       "<Figure size 864x360 with 1 Axes>"
      ]
     },
     "metadata": {},
     "output_type": "display_data"
    }
   ],
   "source": [
    "plt.figure(figsize=(12,5))\n",
    "plt.plot(range(1,10),scsvc,\n",
    "        marker='o',markersize=10,markerfacecolor='red',markeredgecolor='black',\n",
    "        markeredgewidth=2)\n",
    "plt.axvline(np.argmax(scsvc)+1,color='black',linestyle='--')"
   ]
  },
  {
   "cell_type": "code",
   "execution_count": 137,
   "id": "d4b9d371",
   "metadata": {},
   "outputs": [
    {
     "data": {
      "text/plain": [
       "array([1, 0, 0, 0, 1, 0, 1, 0, 1, 0, 1, 0, 1, 1, 0, 0, 0, 0, 1, 1, 1, 1,\n",
       "       0, 0, 0, 1, 1, 0, 0, 0, 0, 1, 1, 0, 1, 0, 1, 1, 0, 0, 0, 0, 1, 0,\n",
       "       1, 0, 1, 1, 0, 0, 0, 0, 1, 1, 0, 1, 0, 1, 1, 0, 0, 0, 0, 1, 0, 1,\n",
       "       0, 1, 0, 0, 1, 0, 0, 0, 1, 1, 1, 1, 0, 0, 1, 0, 1, 0, 0, 0, 0, 1,\n",
       "       0, 0, 1, 0, 0, 0, 0, 0, 0, 0, 0, 1, 0, 0, 0, 0, 0, 0, 0, 1, 1, 0,\n",
       "       0, 0, 0, 1, 0, 1, 1, 1, 0, 0, 0, 0, 0, 0, 0, 0, 1, 0, 0, 0, 0, 1,\n",
       "       0, 1, 1, 0, 1, 0, 1, 1, 0, 0, 1, 0, 0, 1, 1, 0, 0, 1, 1, 0, 0, 1,\n",
       "       1, 1, 1, 1, 1, 0, 0, 1, 1, 0, 0, 1, 1, 1, 0, 1, 0, 0, 0, 0, 0, 0,\n",
       "       0, 1, 1, 1, 0, 0, 1, 0, 1, 0, 0, 0, 0, 1, 1, 0, 1, 0, 1, 0, 0, 1,\n",
       "       0, 0, 0, 1, 0, 0, 0, 0, 0, 1, 0, 0], dtype=uint8)"
      ]
     },
     "execution_count": 137,
     "metadata": {},
     "output_type": "execute_result"
    }
   ],
   "source": [
    "svc=SVC(C=grid.iloc[4,0],degree=grid.iloc[4,1],random_state=101)\n",
    "svc.fit(x_train,y_train)\n",
    "pred_svc=svc.predict(x_test)\n",
    "pred_svc"
   ]
  },
  {
   "cell_type": "code",
   "execution_count": 138,
   "id": "15acb00a",
   "metadata": {},
   "outputs": [
    {
     "data": {
      "text/plain": [
       "array([[125,   4],\n",
       "       [  3,  78]], dtype=int64)"
      ]
     },
     "execution_count": 138,
     "metadata": {},
     "output_type": "execute_result"
    }
   ],
   "source": [
    "C_M=confusion_matrix(y_test,pred_svc)\n",
    "C_M"
   ]
  },
  {
   "cell_type": "code",
   "execution_count": 139,
   "id": "0be48278",
   "metadata": {},
   "outputs": [
    {
     "data": {
      "text/html": [
       "<div>\n",
       "<style scoped>\n",
       "    .dataframe tbody tr th:only-of-type {\n",
       "        vertical-align: middle;\n",
       "    }\n",
       "\n",
       "    .dataframe tbody tr th {\n",
       "        vertical-align: top;\n",
       "    }\n",
       "\n",
       "    .dataframe thead th {\n",
       "        text-align: right;\n",
       "    }\n",
       "</style>\n",
       "<table border=\"1\" class=\"dataframe\">\n",
       "  <thead>\n",
       "    <tr style=\"text-align: right;\">\n",
       "      <th></th>\n",
       "      <th>Accuracy</th>\n",
       "      <th>Precision</th>\n",
       "      <th>Sensitivity</th>\n",
       "      <th>Specificity</th>\n",
       "    </tr>\n",
       "  </thead>\n",
       "  <tbody>\n",
       "    <tr>\n",
       "      <th>Logistic Regression</th>\n",
       "      <td>0.952381</td>\n",
       "      <td>0.973333</td>\n",
       "      <td>0.901235</td>\n",
       "      <td>0.984496</td>\n",
       "    </tr>\n",
       "    <tr>\n",
       "      <th>Decision Tree</th>\n",
       "      <td>0.928571</td>\n",
       "      <td>0.923077</td>\n",
       "      <td>0.888889</td>\n",
       "      <td>0.953488</td>\n",
       "    </tr>\n",
       "    <tr>\n",
       "      <th>Bagging</th>\n",
       "      <td>0.976190</td>\n",
       "      <td>0.975000</td>\n",
       "      <td>0.962963</td>\n",
       "      <td>0.984496</td>\n",
       "    </tr>\n",
       "    <tr>\n",
       "      <th>Random Forest</th>\n",
       "      <td>0.976190</td>\n",
       "      <td>0.975000</td>\n",
       "      <td>0.962963</td>\n",
       "      <td>0.984496</td>\n",
       "    </tr>\n",
       "    <tr>\n",
       "      <th>LDA</th>\n",
       "      <td>0.966667</td>\n",
       "      <td>0.974359</td>\n",
       "      <td>0.938272</td>\n",
       "      <td>0.984496</td>\n",
       "    </tr>\n",
       "    <tr>\n",
       "      <th>SVM</th>\n",
       "      <td>0.966667</td>\n",
       "      <td>0.951220</td>\n",
       "      <td>0.962963</td>\n",
       "      <td>0.968992</td>\n",
       "    </tr>\n",
       "  </tbody>\n",
       "</table>\n",
       "</div>"
      ],
      "text/plain": [
       "                     Accuracy  Precision  Sensitivity  Specificity\n",
       "Logistic Regression  0.952381   0.973333     0.901235     0.984496\n",
       "Decision Tree        0.928571   0.923077     0.888889     0.953488\n",
       "Bagging              0.976190   0.975000     0.962963     0.984496\n",
       "Random Forest        0.976190   0.975000     0.962963     0.984496\n",
       "LDA                  0.966667   0.974359     0.938272     0.984496\n",
       "SVM                  0.966667   0.951220     0.962963     0.968992"
      ]
     },
     "execution_count": 139,
     "metadata": {},
     "output_type": "execute_result"
    }
   ],
   "source": [
    "TN=C_M[0,0]\n",
    "TP=C_M[1,1]\n",
    "FN=C_M[1,0]\n",
    "FP=C_M[0,1]\n",
    "evaluated_model=evaluated_model.append(pd.DataFrame({'Accuracy':(TN+TP)/(TP+TN+FN+FP),\n",
    "                            'Precision':TP/(TP+FP),\n",
    "                           'Sensitivity':TP/(TP+FN),\n",
    "                           'Specificity':TN/(TN+FP)},\n",
    "                           index=[\"SVM\"]))\n",
    "evaluated_model"
   ]
  },
  {
   "cell_type": "markdown",
   "id": "02402af2",
   "metadata": {},
   "source": [
    "# KNN"
   ]
  },
  {
   "cell_type": "code",
   "execution_count": 142,
   "id": "af50ecb4",
   "metadata": {},
   "outputs": [],
   "source": [
    "knn=KNeighborsClassifier(n_neighbors=5)\n",
    "knn.fit(x_train,y_train)\n",
    "pred_knn=knn.predict(x_test)"
   ]
  },
  {
   "cell_type": "code",
   "execution_count": 143,
   "id": "3020b46c",
   "metadata": {},
   "outputs": [
    {
     "data": {
      "text/plain": [
       "array([[127,   2],\n",
       "       [  4,  77]], dtype=int64)"
      ]
     },
     "execution_count": 143,
     "metadata": {},
     "output_type": "execute_result"
    }
   ],
   "source": [
    "C_M=confusion_matrix(y_test,pred_knn)\n",
    "C_M\n"
   ]
  },
  {
   "cell_type": "code",
   "execution_count": 144,
   "id": "0f01c4da",
   "metadata": {},
   "outputs": [
    {
     "data": {
      "text/html": [
       "<div>\n",
       "<style scoped>\n",
       "    .dataframe tbody tr th:only-of-type {\n",
       "        vertical-align: middle;\n",
       "    }\n",
       "\n",
       "    .dataframe tbody tr th {\n",
       "        vertical-align: top;\n",
       "    }\n",
       "\n",
       "    .dataframe thead th {\n",
       "        text-align: right;\n",
       "    }\n",
       "</style>\n",
       "<table border=\"1\" class=\"dataframe\">\n",
       "  <thead>\n",
       "    <tr style=\"text-align: right;\">\n",
       "      <th></th>\n",
       "      <th>Accuracy</th>\n",
       "      <th>Precision</th>\n",
       "      <th>Sensitivity</th>\n",
       "      <th>Specificity</th>\n",
       "    </tr>\n",
       "  </thead>\n",
       "  <tbody>\n",
       "    <tr>\n",
       "      <th>Logistic Regression</th>\n",
       "      <td>0.952381</td>\n",
       "      <td>0.973333</td>\n",
       "      <td>0.901235</td>\n",
       "      <td>0.984496</td>\n",
       "    </tr>\n",
       "    <tr>\n",
       "      <th>Decision Tree</th>\n",
       "      <td>0.928571</td>\n",
       "      <td>0.923077</td>\n",
       "      <td>0.888889</td>\n",
       "      <td>0.953488</td>\n",
       "    </tr>\n",
       "    <tr>\n",
       "      <th>Bagging</th>\n",
       "      <td>0.976190</td>\n",
       "      <td>0.975000</td>\n",
       "      <td>0.962963</td>\n",
       "      <td>0.984496</td>\n",
       "    </tr>\n",
       "    <tr>\n",
       "      <th>Random Forest</th>\n",
       "      <td>0.976190</td>\n",
       "      <td>0.975000</td>\n",
       "      <td>0.962963</td>\n",
       "      <td>0.984496</td>\n",
       "    </tr>\n",
       "    <tr>\n",
       "      <th>LDA</th>\n",
       "      <td>0.966667</td>\n",
       "      <td>0.974359</td>\n",
       "      <td>0.938272</td>\n",
       "      <td>0.984496</td>\n",
       "    </tr>\n",
       "    <tr>\n",
       "      <th>SVM</th>\n",
       "      <td>0.966667</td>\n",
       "      <td>0.951220</td>\n",
       "      <td>0.962963</td>\n",
       "      <td>0.968992</td>\n",
       "    </tr>\n",
       "    <tr>\n",
       "      <th>KNN</th>\n",
       "      <td>0.971429</td>\n",
       "      <td>0.974684</td>\n",
       "      <td>0.950617</td>\n",
       "      <td>0.984496</td>\n",
       "    </tr>\n",
       "  </tbody>\n",
       "</table>\n",
       "</div>"
      ],
      "text/plain": [
       "                     Accuracy  Precision  Sensitivity  Specificity\n",
       "Logistic Regression  0.952381   0.973333     0.901235     0.984496\n",
       "Decision Tree        0.928571   0.923077     0.888889     0.953488\n",
       "Bagging              0.976190   0.975000     0.962963     0.984496\n",
       "Random Forest        0.976190   0.975000     0.962963     0.984496\n",
       "LDA                  0.966667   0.974359     0.938272     0.984496\n",
       "SVM                  0.966667   0.951220     0.962963     0.968992\n",
       "KNN                  0.971429   0.974684     0.950617     0.984496"
      ]
     },
     "execution_count": 144,
     "metadata": {},
     "output_type": "execute_result"
    }
   ],
   "source": [
    "TN=C_M[0,0]\n",
    "TP=C_M[1,1]\n",
    "FN=C_M[1,0]\n",
    "FP=C_M[0,1]\n",
    "evaluated_model=evaluated_model.append(pd.DataFrame({'Accuracy':(TN+TP)/(TP+TN+FN+FP),\n",
    "                            'Precision':TP/(TP+FP),\n",
    "                           'Sensitivity':TP/(TP+FN),\n",
    "                           'Specificity':TN/(TN+FP)},\n",
    "                           index=[\"KNN\"]))\n",
    "evaluated_model"
   ]
  },
  {
   "cell_type": "markdown",
   "id": "46d85dbc",
   "metadata": {},
   "source": [
    "# The Best Model "
   ]
  },
  {
   "cell_type": "code",
   "execution_count": 146,
   "id": "2344c416",
   "metadata": {},
   "outputs": [
    {
     "data": {
      "text/plain": [
       "array([1, 0, 0, 0, 1, 0, 1, 0, 1, 0, 1, 0, 1, 1, 0, 0, 0, 0, 1, 1, 1, 1,\n",
       "       0, 0, 0, 1, 1, 0, 0, 0, 0, 1, 1, 0, 1, 0, 1, 1, 0, 0, 0, 0, 1, 0,\n",
       "       1, 0, 1, 1, 0, 0, 0, 0, 1, 1, 0, 1, 0, 1, 1, 0, 0, 0, 0, 0, 0, 1,\n",
       "       0, 1, 0, 0, 1, 0, 0, 0, 1, 1, 1, 1, 0, 0, 1, 0, 1, 0, 0, 0, 0, 1,\n",
       "       0, 0, 1, 0, 0, 0, 0, 0, 0, 0, 0, 1, 0, 0, 0, 0, 0, 0, 0, 1, 0, 0,\n",
       "       0, 0, 0, 1, 0, 1, 1, 1, 0, 0, 0, 0, 0, 0, 0, 0, 1, 0, 0, 0, 0, 1,\n",
       "       0, 1, 1, 0, 1, 0, 1, 1, 0, 0, 1, 0, 0, 1, 1, 0, 0, 1, 1, 0, 0, 1,\n",
       "       1, 1, 1, 1, 1, 0, 0, 1, 1, 0, 0, 1, 1, 1, 0, 1, 0, 0, 0, 0, 0, 0,\n",
       "       0, 1, 1, 1, 0, 0, 1, 0, 1, 0, 0, 0, 0, 1, 1, 0, 1, 0, 1, 0, 0, 1,\n",
       "       0, 0, 0, 1, 0, 0, 0, 0, 0, 1, 0, 0], dtype=uint8)"
      ]
     },
     "execution_count": 146,
     "metadata": {},
     "output_type": "execute_result"
    }
   ],
   "source": [
    "bag.fit(x_train,y_train)\n",
    "pred_bag=bag.predict(x_test)\n",
    "pred_bag"
   ]
  },
  {
   "cell_type": "code",
   "execution_count": 151,
   "id": "883bd8e8",
   "metadata": {},
   "outputs": [
    {
     "data": {
      "text/plain": [
       "array([[125,   4],\n",
       "       [  3,  78]], dtype=int64)"
      ]
     },
     "execution_count": 151,
     "metadata": {},
     "output_type": "execute_result"
    }
   ],
   "source": [
    "C_M=confusion_matrix(y_test,pred_svc)\n",
    "C_M"
   ]
  },
  {
   "cell_type": "code",
   "execution_count": 152,
   "id": "ac2f5c36",
   "metadata": {},
   "outputs": [
    {
     "data": {
      "text/plain": [
       "0.9666666666666667"
      ]
     },
     "execution_count": 152,
     "metadata": {},
     "output_type": "execute_result"
    }
   ],
   "source": [
    "TN=C_M[0,0]\n",
    "TP=C_M[1,1]\n",
    "FN=C_M[1,0]\n",
    "FP=C_M[0,1]\n",
    "Accuracy=(TN+TP)/(TP+TN+FN+FP)\n",
    "Accuracy "
   ]
  },
  {
   "cell_type": "code",
   "execution_count": 153,
   "id": "3a36114d",
   "metadata": {},
   "outputs": [
    {
     "data": {
      "text/plain": [
       "0.9512195121951219"
      ]
     },
     "execution_count": 153,
     "metadata": {},
     "output_type": "execute_result"
    }
   ],
   "source": [
    "Precision=TP/(TP+FP)\n",
    "Precision"
   ]
  },
  {
   "cell_type": "code",
   "execution_count": 154,
   "id": "a7564524",
   "metadata": {},
   "outputs": [
    {
     "data": {
      "text/plain": [
       "0.9629629629629629"
      ]
     },
     "execution_count": 154,
     "metadata": {},
     "output_type": "execute_result"
    }
   ],
   "source": [
    "Sensitivity=TP/(TP+FN)\n",
    "Sensitivity"
   ]
  },
  {
   "cell_type": "code",
   "execution_count": 155,
   "id": "3e589afb",
   "metadata": {},
   "outputs": [
    {
     "data": {
      "text/plain": [
       "0.9689922480620154"
      ]
     },
     "execution_count": 155,
     "metadata": {},
     "output_type": "execute_result"
    }
   ],
   "source": [
    "Specificity=TN/(TN+FP)\n",
    "Specificity"
   ]
  }
 ],
 "metadata": {
  "kernelspec": {
   "display_name": "Python 3",
   "language": "python",
   "name": "python3"
  },
  "language_info": {
   "codemirror_mode": {
    "name": "ipython",
    "version": 3
   },
   "file_extension": ".py",
   "mimetype": "text/x-python",
   "name": "python",
   "nbconvert_exporter": "python",
   "pygments_lexer": "ipython3",
   "version": "3.8.8"
  }
 },
 "nbformat": 4,
 "nbformat_minor": 5
}
